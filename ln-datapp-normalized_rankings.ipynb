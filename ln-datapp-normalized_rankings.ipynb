{
 "cells": [
  {
   "cell_type": "markdown",
   "metadata": {},
   "source": [
    "# LN - Data Pre-Processing - Normalized rankings"
   ]
  },
  {
   "cell_type": "markdown",
   "metadata": {},
   "source": [
    "## Import Libraries"
   ]
  },
  {
   "cell_type": "code",
   "execution_count": 258,
   "metadata": {},
   "outputs": [],
   "source": [
    "import numpy as np\n",
    "import pandas as pd\n",
    "import networkx as nx\n",
    "import itertools\n",
    "#import matplotlib.pyplot as plt\n",
    "import time\n",
    "import pickle\n",
    "\n",
    "import os\n",
    "import re\n",
    "import sys\n",
    "import io\n",
    "import random\n",
    "import itertools\n",
    "import math\n",
    "\n",
    "from tqdm.notebook import trange, tqdm\n",
    "#from tqdm.notebook import trange\n",
    "#from tqdm import tqdm_notebook as tqdm\n",
    "from time import sleep\n",
    "\n",
    "from dask_cloudprovider import FargateCluster\n",
    "from dask.distributed import Client\n",
    "import dask.array as da\n",
    "import dask\n",
    "dask.config.set({'distributed.scheduler.allowed-failures': 50}) \n",
    "\n",
    "\n",
    "import boto3"
   ]
  },
  {
   "cell_type": "code",
   "execution_count": 62,
   "metadata": {},
   "outputs": [],
   "source": [
    "# Define parameters\n",
    "\n",
    "bucket='ln-strategy-data'\n",
    "extraction_id=1587447789\n"
   ]
  },
  {
   "cell_type": "code",
   "execution_count": 297,
   "metadata": {},
   "outputs": [],
   "source": [
    "# Initiate s3 resource\n",
    "\n",
    "session = boto3.session.Session()\n",
    "s3 = session.resource('s3')"
   ]
  },
  {
   "cell_type": "markdown",
   "metadata": {},
   "source": [
    "## Load Data"
   ]
  },
  {
   "cell_type": "code",
   "execution_count": 366,
   "metadata": {},
   "outputs": [],
   "source": [
    "# Load objects form S3\n",
    "# Dataframe\n",
    "\n",
    "decisions_load = s3.Object(bucket_name=bucket, key='decisions_df.csv').get()\n",
    "decisions_df=pd.read_csv(io.BytesIO(decisions_load['Body'].read()))\n",
    "\n",
    "# Full Dataframe\n",
    "\n",
    "decisions_load = s3.Object(bucket_name=bucket, key='full_decisions_df.csv').get()\n",
    "full_decisions_df=pd.read_csv(io.BytesIO(decisions_load['Body'].read()))\n",
    "\n",
    "# Channel closures\n",
    "closure_file = s3.Object(bucket_name=bucket, key='channel_closures.p').get()\n",
    "channel_closures = pickle.loads(closure_file['Body'].read())\n",
    "    \n",
    "    \n",
    "# Channel openings \n",
    "opens_file = s3.Object(bucket_name=bucket, key='channel_opens.p').get()\n",
    "channel_opens = pickle.loads(opens_file['Body'].read())"
   ]
  },
  {
   "cell_type": "code",
   "execution_count": 195,
   "metadata": {},
   "outputs": [
    {
     "name": "stdout",
     "output_type": "stream",
     "text": [
      "--OPENS---\n",
      "[(505149, [5314, 6038]), (506402, [934, 3023]), (506847, [576, 3452]), (508075, [3436, 3310]), (508090, [2378, 4223]), (508320, [1912, 422]), (508400, [1912, 5154]), (508447, [6656, 6595, 2120, 4688, 4119]), (508503, [422, 2953, 5426, 7059, 3957, 7478, 2518, 5725]), (508666, [422, 5294])]\n",
      "--CLOSURES---\n",
      "[(505149, []), (506402, []), (506847, []), (508075, []), (508090, []), (508320, []), (508400, []), (508447, []), (508503, []), (508666, [])]\n"
     ]
    }
   ],
   "source": [
    "# Transform data: Create list of .items with nodes involved in opens/closures per block\n",
    "open_nodes_list=[(opens[0],list(set([i for t in opens[1] for i in t[:2]]))) for opens in sorted(list(channel_opens.items()))]\n",
    "closure_nodes_list=[(closes[0],list(set([i for t in closes[1] for i in t[:2]]))) for closes in sorted(list(channel_closures.items()))]\n",
    "print('--OPENS---')\n",
    "print(open_list_sets[:10])\n",
    "print('--CLOSURES---')\n",
    "print(closure_list_sets[:10])\n"
   ]
  },
  {
   "cell_type": "code",
   "execution_count": null,
   "metadata": {},
   "outputs": [],
   "source": [
    "graph_keys = [obj.key \n",
    "        for obj in s3.Bucket(name=bucket).objects.all()\n",
    "        if re.match(\".*\"+str(extraction_id)+\"_connected/.*\\.gpickle\",obj.key)]"
   ]
  },
  {
   "cell_type": "code",
   "execution_count": 279,
   "metadata": {},
   "outputs": [],
   "source": [
    "# Base lists to be populated\n",
    "blocks=[]\n",
    "base_ix=6 # From this index onward the connected component has more than 3 items. \n",
    "#final_ix=2000\n",
    "final_ix=len(graph_keys)\n",
    "extract_keys=graph_keys[base_ix:final_ix] # Blocks below 6th index are <3 and affect some graph metrics\n",
    "\n",
    "for key in extract_keys: \n",
    "    \n",
    "    # Create block list from file_names\n",
    "    block_i=int(key.split(\".\")[0].split(\"/\")[-1]) \n",
    "    blocks.append(block_i)\n",
    "    \n",
    "# Update node lists\n",
    "open_nodes=open_nodes_list[base_ix:final_ix]\n",
    "closure_nodes=closure_nodes_list[base_ix:final_ix]\n",
    "\n",
    "# Open and close blocks\n",
    "open_blocks=[b for b,o in open_nodes if len(o)>0]\n",
    "close_blocks=[b for b,o in closure_nodes if len(o)>0]"
   ]
  },
  {
   "cell_type": "code",
   "execution_count": null,
   "metadata": {},
   "outputs": [],
   "source": [
    "len(blocks)"
   ]
  },
  {
   "cell_type": "code",
   "execution_count": 371,
   "metadata": {},
   "outputs": [
    {
     "name": "stderr",
     "output_type": "stream",
     "text": [
      "/opt/conda/lib/python3.7/site-packages/dask_cloudprovider/providers/aws/ecs.py:321: RuntimeWarning: get_log_events rate limit exceeded, retrying after delay.\n",
      "  RuntimeWarning,\n",
      "/opt/conda/lib/python3.7/contextlib.py:119: UserWarning: Creating your cluster is taking a surprisingly long time. This is likely due to pending resources on AWS. Hang tight! \n",
      "  next(self.gen)\n"
     ]
    }
   ],
   "source": [
    "cluster = FargateCluster(n_workers=20,scheduler_timeout='15 minutes',image='dsrincon/dask-graph:nx-scipy-v1',scheduler_cpu=4096,scheduler_mem=16384)"
   ]
  },
  {
   "cell_type": "code",
   "execution_count": 372,
   "metadata": {},
   "outputs": [
    {
     "data": {
      "application/vnd.jupyter.widget-view+json": {
       "model_id": "fdb3cc7850414becb4b48d1d0319c80c",
       "version_major": 2,
       "version_minor": 0
      },
      "text/plain": [
       "VBox(children=(HTML(value='<h2>FargateCluster</h2>'), HBox(children=(HTML(value='\\n<div>\\n  <style scoped>\\n  …"
      ]
     },
     "metadata": {},
     "output_type": "display_data"
    }
   ],
   "source": [
    "cluster"
   ]
  },
  {
   "cell_type": "code",
   "execution_count": 373,
   "metadata": {},
   "outputs": [
    {
     "name": "stderr",
     "output_type": "stream",
     "text": [
      "/opt/conda/lib/python3.7/site-packages/distributed/client.py:1079: VersionMismatchWarning: Mismatched versions found\n",
      "\n",
      "python\n",
      "+---------------------------+---------------+\n",
      "|                           | version       |\n",
      "+---------------------------+---------------+\n",
      "| client                    | 3.7.3.final.0 |\n",
      "| scheduler                 | 3.7.4.final.0 |\n",
      "| tcp://172.31.11.168:37195 | 3.7.4.final.0 |\n",
      "| tcp://172.31.19.135:36337 | 3.7.4.final.0 |\n",
      "| tcp://172.31.26.103:46345 | 3.7.4.final.0 |\n",
      "| tcp://172.31.3.207:36345  | 3.7.4.final.0 |\n",
      "| tcp://172.31.41.171:37527 | 3.7.4.final.0 |\n",
      "| tcp://172.31.44.189:46683 | 3.7.4.final.0 |\n",
      "| tcp://172.31.48.231:34031 | 3.7.4.final.0 |\n",
      "| tcp://172.31.57.192:35531 | 3.7.4.final.0 |\n",
      "| tcp://172.31.59.157:40685 | 3.7.4.final.0 |\n",
      "| tcp://172.31.62.234:33779 | 3.7.4.final.0 |\n",
      "| tcp://172.31.63.169:42943 | 3.7.4.final.0 |\n",
      "| tcp://172.31.70.86:44591  | 3.7.4.final.0 |\n",
      "| tcp://172.31.71.55:43301  | 3.7.4.final.0 |\n",
      "| tcp://172.31.72.0:41117   | 3.7.4.final.0 |\n",
      "| tcp://172.31.74.105:35869 | 3.7.4.final.0 |\n",
      "| tcp://172.31.75.162:37533 | 3.7.4.final.0 |\n",
      "| tcp://172.31.78.196:38965 | 3.7.4.final.0 |\n",
      "| tcp://172.31.78.32:38815  | 3.7.4.final.0 |\n",
      "| tcp://172.31.81.254:33569 | 3.7.4.final.0 |\n",
      "| tcp://172.31.90.46:45105  | 3.7.4.final.0 |\n",
      "+---------------------------+---------------+\n",
      "\n",
      "tornado\n",
      "+---------------------------+---------+\n",
      "|                           | version |\n",
      "+---------------------------+---------+\n",
      "| client                    | 6.0.3   |\n",
      "| scheduler                 | 6.0.4   |\n",
      "| tcp://172.31.11.168:37195 | 6.0.4   |\n",
      "| tcp://172.31.19.135:36337 | 6.0.4   |\n",
      "| tcp://172.31.26.103:46345 | 6.0.4   |\n",
      "| tcp://172.31.3.207:36345  | 6.0.4   |\n",
      "| tcp://172.31.41.171:37527 | 6.0.4   |\n",
      "| tcp://172.31.44.189:46683 | 6.0.4   |\n",
      "| tcp://172.31.48.231:34031 | 6.0.4   |\n",
      "| tcp://172.31.57.192:35531 | 6.0.4   |\n",
      "| tcp://172.31.59.157:40685 | 6.0.4   |\n",
      "| tcp://172.31.62.234:33779 | 6.0.4   |\n",
      "| tcp://172.31.63.169:42943 | 6.0.4   |\n",
      "| tcp://172.31.70.86:44591  | 6.0.4   |\n",
      "| tcp://172.31.71.55:43301  | 6.0.4   |\n",
      "| tcp://172.31.72.0:41117   | 6.0.4   |\n",
      "| tcp://172.31.74.105:35869 | 6.0.4   |\n",
      "| tcp://172.31.75.162:37533 | 6.0.4   |\n",
      "| tcp://172.31.78.196:38965 | 6.0.4   |\n",
      "| tcp://172.31.78.32:38815  | 6.0.4   |\n",
      "| tcp://172.31.81.254:33569 | 6.0.4   |\n",
      "| tcp://172.31.90.46:45105  | 6.0.4   |\n",
      "+---------------------------+---------+\n",
      "  warnings.warn(version_module.VersionMismatchWarning(msg[0][\"warning\"]))\n"
     ]
    }
   ],
   "source": [
    "client=Client(cluster)\n",
    "#cluster=Client('tcp://18.234.80.68:8786')"
   ]
  },
  {
   "cell_type": "code",
   "execution_count": 24,
   "metadata": {},
   "outputs": [],
   "source": [
    "\n",
    "\n",
    "def graph_ranking(input_tuple):\n",
    "    \n",
    "    # Unpacking input\n",
    "    block_num=input_tuple[0]\n",
    "    measurement=input_tuple[1]\n",
    "    extraction_id=input_tuple[2]\n",
    "    key_rawscore=input_tuple[3]\n",
    "    bucket=input_tuple[4]\n",
    "    \n",
    "    \n",
    "    # Retrieve snapshot from S3\n",
    "    session = boto3.session.Session()\n",
    "    s3 = session.resource('s3')\n",
    "    response = s3.Object(bucket_name=bucket, key=key_rawscore).get()\n",
    "    snapshot=pickle.loads(response['Body'].read())\n",
    "    \n",
    "    \n",
    "    # Calculate ranking for snapshot\n",
    "    max_value = max(snapshot.values())\n",
    "    norm_rank = {k: v / max_value for k, v in snapshot.items()}\n",
    "    \n",
    "    \n",
    "    # Write output into S3\n",
    "    key_out='graph_snapshots/'+str(extraction_id)+'_connected/.data_transformations/'+measurement+'/norm_rank/'+str(block_num)+'.pkl'\n",
    "    pickle_byte_obj = pickle.dumps(norm_rank)\n",
    "    response=s3.Object(bucket,key_out).put(Body=pickle_byte_obj)['ResponseMetadata']['HTTPStatusCode']\n",
    "    \n",
    "    \n",
    "    return response "
   ]
  },
  {
   "cell_type": "code",
   "execution_count": null,
   "metadata": {},
   "outputs": [],
   "source": [
    "# TEST calculate_ranking \n",
    "\n",
    "test_block=516790\n",
    "measurement='channels'\n",
    "input_tuple=(test_block,measurement,extraction_id)\n",
    "response_test=calculate_ranking(input_tuple)\n",
    "\n",
    "# Test if function saved result correctly and download result\n",
    "if response_test==200:\n",
    "    key_test='graph_snapshots/'+str(extraction_id)+'_connected/.data_transformations/'+measurement+'/norm_rank/'+str(test_block)+'.pkl'\n",
    "    g_rank_test_load = s3.Object(bucket_name=bucket, key=key_test).get()\n",
    "    g_rank_test = pickle.loads(g_rank_test_load['Body'].read())\n",
    "    g_rank_values=sorted([v for k,v in g_rank_test.items()])\n",
    "    #print(g_rank_values)\n",
    "    #print('The dic saved has these first items: {}'.format(list(g_rank_test.items())))\n",
    "\n"
   ]
  },
  {
   "cell_type": "code",
   "execution_count": 50,
   "metadata": {},
   "outputs": [],
   "source": [
    "def collection_ranking(extraction_id,blocks,measurement,bucket):\n",
    "\n",
    "    session = boto3.session.Session()\n",
    "    s3 = session.resource('s3')\n",
    "    \n",
    "  \n",
    "    \n",
    "\n",
    "    delayed_responses=[]\n",
    "    with tqdm(total=len(blocks)) as pbar:\n",
    "        for block_num in blocks:\n",
    "\n",
    "            \n",
    "            # Create key\n",
    "            key='graph_snapshots/'+str(extraction_id)+'_connected/.data_transformations/'+measurement+'/raw_score/'+str(block_num)+'.pkl'\n",
    "            \n",
    "            # Create input tuple\n",
    "            input_tuple=(block_num,measurement,extraction_id,key,bucket)\n",
    "            \n",
    "            # Run delayed function using dask\n",
    "            response=dask.delayed(graph_ranking)(input_tuple)\n",
    "            delayed_responses.append(response)\n",
    "            \n",
    "            # Update progress bar\n",
    "            pbar.update(1)\n",
    "\n",
    "    # Collect futures\n",
    "    futures = dask.persist(*delayed_responses)\n",
    "\n",
    "    # Run parallel computations\n",
    "    start=time.time()\n",
    "    final_responses = dask.compute(*futures)\n",
    "    end=time.time()\n",
    "    print('Compute in seconds: {}'.format(end-start))\n",
    "\n",
    "    return final_responses\n",
    "\n",
    "\n",
    "\n",
    "\n"
   ]
  },
  {
   "cell_type": "code",
   "execution_count": 56,
   "metadata": {},
   "outputs": [
    {
     "data": {
      "application/vnd.jupyter.widget-view+json": {
       "model_id": "c71a31f18f134527bc270a15deb99ddf",
       "version_major": 2,
       "version_minor": 0
      },
      "text/plain": [
       "HBox(children=(FloatProgress(value=0.0, max=36536.0), HTML(value='')))"
      ]
     },
     "metadata": {},
     "output_type": "display_data"
    },
    {
     "name": "stdout",
     "output_type": "stream",
     "text": [
      "\n",
      "Compute in seconds: 591.6712484359741\n"
     ]
    }
   ],
   "source": [
    "# Test collection_ranking\n",
    "test_responses=collection_ranking(extraction_id,blocks,'channels',bucket)"
   ]
  },
  {
   "cell_type": "code",
   "execution_count": 54,
   "metadata": {},
   "outputs": [
    {
     "name": "stdout",
     "output_type": "stream",
     "text": [
      "(200, 200, 200, 200, 200, 200, 200, 200, 200, 200, 200, 200, 200, 200, 200, 200, 200, 200, 200, 200)\n"
     ]
    }
   ],
   "source": [
    "print(test_responses[:20])"
   ]
  },
  {
   "cell_type": "markdown",
   "metadata": {},
   "source": [
    "## Calculate normalized rankings for measures"
   ]
  },
  {
   "cell_type": "markdown",
   "metadata": {},
   "source": [
    "**Age ranking**"
   ]
  },
  {
   "cell_type": "code",
   "execution_count": 57,
   "metadata": {},
   "outputs": [
    {
     "data": {
      "application/vnd.jupyter.widget-view+json": {
       "model_id": "751ac66a51ee4a59b4928515db7f8955",
       "version_major": 2,
       "version_minor": 0
      },
      "text/plain": [
       "HBox(children=(FloatProgress(value=0.0, max=36536.0), HTML(value='')))"
      ]
     },
     "metadata": {},
     "output_type": "display_data"
    },
    {
     "name": "stdout",
     "output_type": "stream",
     "text": [
      "\n",
      "Compute in seconds: 384.95358204841614\n"
     ]
    }
   ],
   "source": [
    "age_responses=collection_ranking(extraction_id,blocks,'age',bucket)"
   ]
  },
  {
   "cell_type": "markdown",
   "metadata": {},
   "source": [
    "**Capacity ranking**"
   ]
  },
  {
   "cell_type": "code",
   "execution_count": 58,
   "metadata": {},
   "outputs": [
    {
     "data": {
      "application/vnd.jupyter.widget-view+json": {
       "model_id": "0d04043f743b496bb579857a5a5bcb31",
       "version_major": 2,
       "version_minor": 0
      },
      "text/plain": [
       "HBox(children=(FloatProgress(value=0.0, max=36536.0), HTML(value='')))"
      ]
     },
     "metadata": {},
     "output_type": "display_data"
    },
    {
     "name": "stdout",
     "output_type": "stream",
     "text": [
      "\n",
      "Compute in seconds: 360.1695795059204\n"
     ]
    }
   ],
   "source": [
    "capacity_responses=collection_ranking(extraction_id,blocks,'capacity',bucket)"
   ]
  },
  {
   "cell_type": "markdown",
   "metadata": {},
   "source": [
    "**Betweeness ranking**"
   ]
  },
  {
   "cell_type": "code",
   "execution_count": 59,
   "metadata": {},
   "outputs": [
    {
     "data": {
      "application/vnd.jupyter.widget-view+json": {
       "model_id": "47df99dc334c49dbb74b0e195c3d6986",
       "version_major": 2,
       "version_minor": 0
      },
      "text/plain": [
       "HBox(children=(FloatProgress(value=0.0, max=36536.0), HTML(value='')))"
      ]
     },
     "metadata": {},
     "output_type": "display_data"
    },
    {
     "name": "stdout",
     "output_type": "stream",
     "text": [
      "\n",
      "Compute in seconds: 363.8422577381134\n"
     ]
    }
   ],
   "source": [
    "betweeness_responses=collection_ranking(extraction_id,blocks,'betweeness_curr_aprox',bucket)"
   ]
  },
  {
   "cell_type": "markdown",
   "metadata": {},
   "source": [
    "**Growth ranking**"
   ]
  },
  {
   "cell_type": "code",
   "execution_count": null,
   "metadata": {},
   "outputs": [],
   "source": [
    "growth_responses=collection_ranking(extraction_id,blocks,'capacity_growth',bucket)"
   ]
  },
  {
   "cell_type": "markdown",
   "metadata": {},
   "source": [
    "**Channels ranking**"
   ]
  },
  {
   "cell_type": "code",
   "execution_count": null,
   "metadata": {},
   "outputs": [],
   "source": [
    "channels_responses=collection_ranking(extraction_id,blocks,'channels',bucket)"
   ]
  },
  {
   "cell_type": "markdown",
   "metadata": {},
   "source": [
    "**Betweeness Unweighted ranking**"
   ]
  },
  {
   "cell_type": "code",
   "execution_count": null,
   "metadata": {},
   "outputs": [],
   "source": [
    "betweeness_uw_responses=collection_ranking(extraction_id,blocks,'current_betweeness_unweighted',bucket)"
   ]
  },
  {
   "cell_type": "markdown",
   "metadata": {},
   "source": [
    "**TETS: Test correct norm_ranking creation**"
   ]
  },
  {
   "cell_type": "code",
   "execution_count": 376,
   "metadata": {},
   "outputs": [
    {
     "name": "stdout",
     "output_type": "stream",
     "text": [
      "[(5314, 7.885188797837179e-05), (934, 0.00012824277473443815), (3023, 0.0), (3452, 5.784695593887777e-05), (576, 0.0), (3436, 0.0021980450863651082), (3310, 0.0), (4223, 0.0062914361259963835), (422, 0.0020213538805751515), (1912, 0.0003722872728578278)]\n",
      "[(5314, 0.00042371385522347026), (934, 0.0006891178116393132), (3023, 0.0), (3452, 0.00031084299110919317), (576, 0.0), (3436, 0.011811285453992206), (3310, 0.0), (4223, 0.03380729015098958), (422, 0.010861828010311452), (1912, 0.0020005009350757648)]\n",
      "True\n"
     ]
    }
   ],
   "source": [
    "test_block=blocks[-100]\n",
    "measurement='current_betweeness_unweighted'\n",
    "key_raw='graph_snapshots/'+str(extraction_id)+'_connected/.data_transformations/'+measurement+'/raw_score/'+str(test_block)+'.pkl'\n",
    "key_norm='graph_snapshots/'+str(extraction_id)+'_connected/.data_transformations/'+measurement+'/norm_rank/'+str(test_block)+'.pkl'\n",
    "\n",
    "\n",
    "raw_load = s3.Object(bucket_name=bucket, key=key_raw).get()\n",
    "dic_raw = pickle.loads(raw_load['Body'].read())\n",
    "items_raw=list(dic_raw.items())\n",
    "\n",
    "norm_load = s3.Object(bucket_name=bucket, key=key_norm).get()\n",
    "dic_norm = pickle.loads(norm_load['Body'].read())\n",
    "items_norm=list(dic_norm.items())\n",
    "\n",
    "\n",
    "print(items_raw[:10])\n",
    "print(items_norm[:10])\n",
    "print(len(items_raw)==len(items_norm))"
   ]
  },
  {
   "cell_type": "markdown",
   "metadata": {},
   "source": [
    "## Add normalized rankings to DataFrame"
   ]
  },
  {
   "cell_type": "code",
   "execution_count": 356,
   "metadata": {},
   "outputs": [],
   "source": [
    "def extract_values(input_tuple):\n",
    "    \n",
    "    # Unpack input tuple\n",
    "    \n",
    "    bucket=input_tuple[0]\n",
    "    extraction_id=input_tuple[1]\n",
    "    measurement=input_tuple[2]\n",
    "    score_type=input_tuple[3]\n",
    "    prev_block=input_tuple[4]\n",
    "    act_block=input_tuple[5]\n",
    "    nodes_lists=input_tuple[6]\n",
    "    decision_type=input_tuple[7]\n",
    "    actual_bool=input_tuple[8]\n",
    "    \n",
    "    \n",
    "    # Add extra tag to account for same block calculations\n",
    "    if actual_bool:\n",
    "        extra_tag='post'\n",
    "    else:\n",
    "        extra_tag=''\n",
    "        \n",
    "    \n",
    "    \n",
    "    \n",
    "    # Initialize list of lists to return\n",
    "    values_lists=[]\n",
    "    \n",
    "    # Start S3 session\n",
    "    session = boto3.session.Session()\n",
    "    s3 = session.resource('s3')\n",
    "    \n",
    "    # Create keys\n",
    "    \n",
    "    dic_key='graph_snapshots/'+str(extraction_id)+'_connected/.data_transformations/'+measurement+'/'+score_type+'/'+str(prev_block)+'.pkl'\n",
    "    \n",
    "    # Adjust for approximated measurments that already account for index -1.\n",
    "    if measurement=='closeness_approx_rank':\n",
    "        dic_key='graph_snapshots/'+str(extraction_id)+'_connected/.data_transformations/'+measurement+'/'+score_type+'/'+str(act_block)+'.pkl'\n",
    "    \n",
    "    g_key='graph_snapshots/'+str(extraction_id)+'_connected/'+str(prev_block)+'.gpickle'\n",
    "    \n",
    "    \n",
    "    # Load dic\n",
    "    dic_load = s3.Object(bucket_name=bucket, key=dic_key).get()\n",
    "    dic = pickle.loads(dic_load['Body'].read())\n",
    "                       \n",
    "    # Load graph\n",
    "    g_load = s3.Object(bucket_name=bucket, key=g_key).get()\n",
    "    g = pickle.loads(g_load['Body'].read())\n",
    "                     \n",
    "                       \n",
    "    # Extract relevant values\n",
    "    for nodes in nodes_lists:\n",
    "        # Define list to return\n",
    "        values_i=[]\n",
    "        \n",
    "        # loop over nodes in lists\n",
    "        for node in nodes:\n",
    "            # Check if node is in graph and retrieve metric from dic, else set to 0\n",
    "            if g.has_node(node):         \n",
    "                values_i.append((node,dic[node]))\n",
    "            else:\n",
    "                values_i.append((node,0))  \n",
    "        \n",
    "        # Update value list in global return list\n",
    "        values_lists.append(values_i)\n",
    "        \n",
    "    # Save value to S3\n",
    "    key_out='graph_snapshots/'+str(extraction_id)+'_connected/.data_transformations/'+measurement+'/'+decision_type+'_'+score_type+extra_tag+'/'+str(act_block)+'.pkl'\n",
    "    pickle_byte_obj = pickle.dumps(values_lists)\n",
    "    response=s3.Object(bucket,key_out).put(Body=pickle_byte_obj)['ResponseMetadata']['HTTPStatusCode']\n",
    "                     \n",
    "    return response\n",
    "                "
   ]
  },
  {
   "cell_type": "markdown",
   "metadata": {},
   "source": [
    "**TEST before block decisions**"
   ]
  },
  {
   "cell_type": "code",
   "execution_count": 352,
   "metadata": {},
   "outputs": [
    {
     "name": "stdout",
     "output_type": "stream",
     "text": [
      "Test Block:612260\n",
      "Test Nodes:[[545, 2401, 4803, 4548, 4292, 5990, 4998, 7659, 6220, 4175, 2865, 3315, 4086, 4249, 4927], [4086, 5990, 4927]]\n",
      "Open blocks:[(4998, 5990, {'capacity': 16777215, 'open_fee': 222, 'dec_id': 67218, 'channel_id': '612260x2185x1', 'no_channels': 0}), (3315, 4249, {'capacity': 2000000, 'open_fee': 154, 'dec_id': 67221, 'channel_id': '612260x2327x0', 'no_channels': 0}), (545, 6220, {'capacity': 8000000, 'open_fee': 361, 'dec_id': 67213, 'channel_id': '612260x2179x0', 'no_channels': 0}), (5990, 2865, {'capacity': 2000000, 'open_fee': 223, 'dec_id': 67219, 'channel_id': '612260x2311x1', 'no_channels': 0}), (4548, 4803, {'capacity': 500000, 'open_fee': 177, 'dec_id': 67222, 'channel_id': '612260x2358x1', 'no_channels': 0}), (5990, 4086, {'capacity': 2000000, 'open_fee': 292, 'dec_id': 67214, 'channel_id': '612260x2181x1', 'no_channels': 0}), (2401, 5990, {'capacity': 16777215, 'open_fee': 223, 'dec_id': 67215, 'channel_id': '612260x2182x1', 'no_channels': 0}), (4292, 4249, {'capacity': 2000000, 'open_fee': 223, 'dec_id': 67216, 'channel_id': '612260x2183x1', 'no_channels': 0}), (4927, 5990, {'capacity': 1000000, 'open_fee': 223, 'dec_id': 67220, 'channel_id': '612260x2312x1', 'no_channels': 0}), (7659, 4175, {'capacity': 5000000, 'open_fee': 223, 'dec_id': 67217, 'channel_id': '612260x2184x1', 'no_channels': 0})]\n",
      "Elapsed time seconds:0.2825288772583008\n",
      "Values:[[(545, 0.1186881555890697), (2401, 0.11642246473247757), (4803, 0), (4548, 0.004209081473986688), (4292, 0.000757806462578753), (5990, 0.04949854097094496), (4998, 0.11922444091008645), (7659, 0.00046330082473382137), (6220, 0.00494934899356232), (4175, 0.10666183045925068), (2865, 0.00267033352936894), (3315, 0.004754425610093776), (4086, 0.002172791989132282), (4249, 0.4567462900869834), (4927, 0.002856558566202613)], [(4086, 0.002172791989132282), (5990, 0.04949854097094496), (4927, 0.002856558566202613)]]\n"
     ]
    }
   ],
   "source": [
    "# TEST extract_values function\n",
    "\n",
    "# set parameters\n",
    "test_ix=-3000\n",
    "test_act_block=blocks[test_ix]\n",
    "test_prev_block=blocks[test_ix-1]\n",
    "test_nodes=[open_nodes[test_ix][1],closure_nodes[test_ix][1]]\n",
    "measurement='betweeness_curr_aprox'\n",
    "score_type='norm_rank'\n",
    "decision_type='open'\n",
    "actual_bool=True\n",
    "if actual_bool:\n",
    "    extra_tag='post'\n",
    "else:\n",
    "    extra_tag=''\n",
    "\n",
    "print('Test Block:{}'.format(test_act_block))\n",
    "print('Test Nodes:{}'.format(test_nodes))\n",
    "print('Open blocks:{}'.format(channel_opens[test_act_block]))\n",
    "\n",
    "# run function and print results\n",
    "start=time.time()\n",
    "#Test for prev block\n",
    "test_input_tuple=(bucket,extraction_id,measurement,score_type,test_prev_block,test_act_block,test_nodes,decision_type,actual_bool)\n",
    "#Test for act block=prev_block\n",
    "#test_input_tuple=(bucket,extraction_id,measurement,score_type,test_act_block,test_act_block,test_nodes,decision_type,actual_bool)\n",
    "response=extract_values(test_input_tuple)\n",
    "\n",
    "end=time.time()\n",
    "\n",
    "\n",
    "if response==200:\n",
    "    \n",
    "    # Check value recorded to s3\n",
    "    values_key='graph_snapshots/'+str(extraction_id)+'_connected/.data_transformations/'+measurement+'/'+decision_type+'_'+score_type+extra_tag+'/'+str(test_act_block)+'.pkl'\n",
    "    test_load = s3.Object(bucket_name=bucket, key=values_key).get()\n",
    "    values = pickle.loads(test_load['Body'].read())\n",
    "    \n",
    "    # Print results\n",
    "    print('Elapsed time seconds:{}'.format(end-start))\n",
    "    print('Values:{}'.format(values))\n",
    "    \n",
    "else:\n",
    "    print('Did not save to S3 correctly')\n",
    "    \n"
   ]
  },
  {
   "cell_type": "markdown",
   "metadata": {},
   "source": [
    "**TEST after block decisions**"
   ]
  },
  {
   "cell_type": "code",
   "execution_count": 390,
   "metadata": {},
   "outputs": [
    {
     "name": "stdout",
     "output_type": "stream",
     "text": [
      "Test Block:536475\n",
      "Test Nodes:[[2766, 4686], []]\n",
      "Elapsed time seconds:0.3497591018676758\n",
      "Values:[[(2766, 0.027421155243756427), (4686, 0.05200834996754011)], []]\n"
     ]
    }
   ],
   "source": [
    "# TEST extract_values function\n",
    "\n",
    "# set parameters\n",
    "test_ix=blocks.index(536475)\n",
    "#test_ix=-5000\n",
    "test_act_block=blocks[test_ix]\n",
    "test_prev_block=blocks[test_ix-1]\n",
    "test_nodes=[open_nodes[test_ix][1],closure_nodes[test_ix][1]]\n",
    "measurement='current_betweeness_unweighted'\n",
    "score_type='norm_rank'\n",
    "decision_type='open'\n",
    "actual_bool=True\n",
    "if actual_bool:\n",
    "    extra_tag='post'\n",
    "else:\n",
    "    extra_tag=''\n",
    "\n",
    "print('Test Block:{}'.format(test_act_block))\n",
    "print('Test Nodes:{}'.format(test_nodes))\n",
    "\n",
    "# run function and print results\n",
    "start=time.time()\n",
    "#Test for prev block\n",
    "#test_input_tuple=(bucket,extraction_id,measurement,score_type,test_prev_block,test_act_block,test_nodes,decision_type,actual_bool)\n",
    "#Test for act block=prev_block\n",
    "test_input_tuple=(bucket,extraction_id,measurement,score_type,test_act_block,test_act_block,test_nodes,decision_type,actual_bool)\n",
    "response=extract_values(test_input_tuple)\n",
    "\n",
    "end=time.time()\n",
    "\n",
    "\n",
    "if response==200:\n",
    "    \n",
    "    # Check value recorded to s3\n",
    "    values_key='graph_snapshots/'+str(extraction_id)+'_connected/.data_transformations/'+measurement+'/'+decision_type+'_'+score_type+extra_tag+'/'+str(test_act_block)+'.pkl'\n",
    "    test_load = s3.Object(bucket_name=bucket, key=values_key).get()\n",
    "    values = pickle.loads(test_load['Body'].read())\n",
    "    \n",
    "    # Print results\n",
    "    print('Elapsed time seconds:{}'.format(end-start))\n",
    "    print('Values:{}'.format(values))\n",
    "    \n",
    "else:\n",
    "    print('Did not save to S3 correctly')"
   ]
  },
  {
   "cell_type": "code",
   "execution_count": 357,
   "metadata": {},
   "outputs": [],
   "source": [
    "def collection_extract_values(decisions_df,blocks,decision_type,measurement,score_type,actual=False):\n",
    "    \n",
    "    # Define dictonary to return\n",
    "    delayed_responses=[]\n",
    "    \n",
    "    # Set list of blocks and column names\n",
    "    if decision_type=='open':\n",
    "        column_name='open_block'\n",
    "        dec_blocks=[b for b,o in open_nodes if len(o)>0]\n",
    "        \n",
    "    if decision_type=='close':\n",
    "        column_name='close_block'\n",
    "        dec_blocks=[b for b,o in closure_nodes if len(o)>0]\n",
    "    \n",
    "    # Loop over blocks in decision type, starting from the 2nd one\n",
    "    print(len(dec_blocks))\n",
    "    with tqdm(total=len(range(1,len(dec_blocks)))) as pbar:\n",
    "        for i in range(1,len(dec_blocks)):\n",
    "\n",
    "            # Define blocks to look at decisions and prev block to query measurments\n",
    "            dec_block_i=dec_blocks[i]\n",
    "            prev_block=blocks[blocks.index(dec_block_i)-1]\n",
    "\n",
    "            # Select nodes in node0,node1 and create list of lists\n",
    "            node0_nodes=decisions_df[decisions_df[column_name]==dec_block_i]['node0_id'].tolist()\n",
    "            node1_nodes=decisions_df[decisions_df[column_name]==dec_block_i]['node1_id'].tolist()\n",
    "            nodes_lists=[node0_nodes,node1_nodes]\n",
    "\n",
    "            # Run delayed function to extract values for node0 and node1 in prev_block\n",
    "            input_tuple=(bucket,extraction_id,measurement,score_type,prev_block,dec_block_i,nodes_lists,decision_type,actual)\n",
    "            \n",
    "            if actual: # Calculation is done for nodes after block decisions are made prev_block=dec_block_i\n",
    "            \n",
    "                input_tuple=(bucket,extraction_id,measurement,score_type,dec_block_i,dec_block_i,nodes_lists,decision_type,actual)\n",
    "            \n",
    "            response=dask.delayed(extract_values)(input_tuple)\n",
    "            delayed_responses.append(response)\n",
    "            \n",
    "            # Update progress bar\n",
    "            pbar.update(1)\n",
    "        \n",
    "\n",
    "        # Collect futures\n",
    "        futures = dask.persist(*delayed_responses)\n",
    "\n",
    "        # Run parallel computations\n",
    "        start=time.time()\n",
    "        final_responses = dask.compute(*futures)\n",
    "        end=time.time()\n",
    "        print('Compute in seconds: {}'.format(end-start))\n",
    "    \n",
    "    \n",
    "    return final_responses\n",
    "    "
   ]
  },
  {
   "cell_type": "markdown",
   "metadata": {},
   "source": [
    "**Age: DF update extraction**"
   ]
  },
  {
   "cell_type": "code",
   "execution_count": 247,
   "metadata": {},
   "outputs": [
    {
     "name": "stdout",
     "output_type": "stream",
     "text": [
      "30537\n"
     ]
    },
    {
     "data": {
      "application/vnd.jupyter.widget-view+json": {
       "model_id": "00e1166170b546f1ae35d4e00590e433",
       "version_major": 2,
       "version_minor": 0
      },
      "text/plain": [
       "HBox(children=(FloatProgress(value=0.0, max=30536.0), HTML(value='')))"
      ]
     },
     "metadata": {},
     "output_type": "display_data"
    },
    {
     "name": "stdout",
     "output_type": "stream",
     "text": [
      "Compute in seconds: 198.8955729007721\n",
      "\n"
     ]
    }
   ],
   "source": [
    "open_age_rank_res=collection_extract_values(decisions_df,blocks,'open','age','norm_rank')"
   ]
  },
  {
   "cell_type": "code",
   "execution_count": 248,
   "metadata": {},
   "outputs": [
    {
     "name": "stdout",
     "output_type": "stream",
     "text": [
      "11022\n"
     ]
    },
    {
     "data": {
      "application/vnd.jupyter.widget-view+json": {
       "model_id": "3188fc2c6b5142249aa159298c85f3e3",
       "version_major": 2,
       "version_minor": 0
      },
      "text/plain": [
       "HBox(children=(FloatProgress(value=0.0, max=11021.0), HTML(value='')))"
      ]
     },
     "metadata": {},
     "output_type": "display_data"
    },
    {
     "name": "stdout",
     "output_type": "stream",
     "text": [
      "Compute in seconds: 79.43323612213135\n",
      "\n"
     ]
    }
   ],
   "source": [
    "close_age_rank_res=collection_extract_values(decisions_df,blocks,'close','age','norm_rank')"
   ]
  },
  {
   "cell_type": "markdown",
   "metadata": {},
   "source": [
    "**Betweeness: DF update extraction**"
   ]
  },
  {
   "cell_type": "code",
   "execution_count": 249,
   "metadata": {},
   "outputs": [
    {
     "name": "stdout",
     "output_type": "stream",
     "text": [
      "30537\n"
     ]
    },
    {
     "data": {
      "application/vnd.jupyter.widget-view+json": {
       "model_id": "41de8e04e64e4f7f896d4cb6b56b372c",
       "version_major": 2,
       "version_minor": 0
      },
      "text/plain": [
       "HBox(children=(FloatProgress(value=0.0, max=30536.0), HTML(value='')))"
      ]
     },
     "metadata": {},
     "output_type": "display_data"
    },
    {
     "name": "stdout",
     "output_type": "stream",
     "text": [
      "Compute in seconds: 202.19830679893494\n",
      "\n"
     ]
    }
   ],
   "source": [
    "open_betweeness_rank_res=collection_extract_values(decisions_df,blocks,'open','betweeness_curr_aprox','norm_rank')"
   ]
  },
  {
   "cell_type": "code",
   "execution_count": 250,
   "metadata": {},
   "outputs": [
    {
     "name": "stdout",
     "output_type": "stream",
     "text": [
      "11022\n"
     ]
    },
    {
     "data": {
      "application/vnd.jupyter.widget-view+json": {
       "model_id": "8219f9b8775440e7a90ab7eefb673bfa",
       "version_major": 2,
       "version_minor": 0
      },
      "text/plain": [
       "HBox(children=(FloatProgress(value=0.0, max=11021.0), HTML(value='')))"
      ]
     },
     "metadata": {},
     "output_type": "display_data"
    },
    {
     "name": "stdout",
     "output_type": "stream",
     "text": [
      "Compute in seconds: 78.17207503318787\n",
      "\n"
     ]
    }
   ],
   "source": [
    "close_betweeness_rank_res=collection_extract_values(decisions_df,blocks,'close','betweeness_curr_aprox','norm_rank')"
   ]
  },
  {
   "cell_type": "markdown",
   "metadata": {},
   "source": [
    "**Capacity: DF update extraction**"
   ]
  },
  {
   "cell_type": "code",
   "execution_count": 251,
   "metadata": {},
   "outputs": [
    {
     "name": "stdout",
     "output_type": "stream",
     "text": [
      "30537\n"
     ]
    },
    {
     "data": {
      "application/vnd.jupyter.widget-view+json": {
       "model_id": "e55414b487a340bd959e6e796f5d42cb",
       "version_major": 2,
       "version_minor": 0
      },
      "text/plain": [
       "HBox(children=(FloatProgress(value=0.0, max=30536.0), HTML(value='')))"
      ]
     },
     "metadata": {},
     "output_type": "display_data"
    },
    {
     "name": "stdout",
     "output_type": "stream",
     "text": [
      "Compute in seconds: 203.74693655967712\n",
      "\n"
     ]
    }
   ],
   "source": [
    "open_capacity_rank_res=collection_extract_values(decisions_df,blocks,'open','capacity','norm_rank')"
   ]
  },
  {
   "cell_type": "code",
   "execution_count": 252,
   "metadata": {},
   "outputs": [
    {
     "name": "stdout",
     "output_type": "stream",
     "text": [
      "11022\n"
     ]
    },
    {
     "data": {
      "application/vnd.jupyter.widget-view+json": {
       "model_id": "4f5baf8cc9f84361a9f13649bd73114c",
       "version_major": 2,
       "version_minor": 0
      },
      "text/plain": [
       "HBox(children=(FloatProgress(value=0.0, max=11021.0), HTML(value='')))"
      ]
     },
     "metadata": {},
     "output_type": "display_data"
    },
    {
     "name": "stdout",
     "output_type": "stream",
     "text": [
      "Compute in seconds: 80.01387286186218\n",
      "\n"
     ]
    }
   ],
   "source": [
    "close_capacity_rank_res=collection_extract_values(decisions_df,blocks,'close','capacity','norm_rank')"
   ]
  },
  {
   "cell_type": "markdown",
   "metadata": {},
   "source": [
    "**Capacity Growth: DF update extraction**"
   ]
  },
  {
   "cell_type": "code",
   "execution_count": 253,
   "metadata": {},
   "outputs": [
    {
     "name": "stdout",
     "output_type": "stream",
     "text": [
      "30537\n"
     ]
    },
    {
     "data": {
      "application/vnd.jupyter.widget-view+json": {
       "model_id": "61ab8f7d3a9442a4a04befd5971b5700",
       "version_major": 2,
       "version_minor": 0
      },
      "text/plain": [
       "HBox(children=(FloatProgress(value=0.0, max=30536.0), HTML(value='')))"
      ]
     },
     "metadata": {},
     "output_type": "display_data"
    },
    {
     "name": "stdout",
     "output_type": "stream",
     "text": [
      "Compute in seconds: 212.46921563148499\n",
      "\n"
     ]
    }
   ],
   "source": [
    "open_capacitygrowth_rank_res=collection_extract_values(decisions_df,blocks,'open','capacity_growth','norm_rank')"
   ]
  },
  {
   "cell_type": "code",
   "execution_count": 254,
   "metadata": {},
   "outputs": [
    {
     "name": "stdout",
     "output_type": "stream",
     "text": [
      "11022\n"
     ]
    },
    {
     "data": {
      "application/vnd.jupyter.widget-view+json": {
       "model_id": "16205e74caf44331a2445ea495d0399f",
       "version_major": 2,
       "version_minor": 0
      },
      "text/plain": [
       "HBox(children=(FloatProgress(value=0.0, max=11021.0), HTML(value='')))"
      ]
     },
     "metadata": {},
     "output_type": "display_data"
    },
    {
     "name": "stdout",
     "output_type": "stream",
     "text": [
      "Compute in seconds: 83.05098509788513\n",
      "\n"
     ]
    }
   ],
   "source": [
    "close_capacitygrowth_rank_res=collection_extract_values(decisions_df,blocks,'close','capacity_growth','norm_rank')"
   ]
  },
  {
   "cell_type": "markdown",
   "metadata": {},
   "source": [
    "**Channels: DF update extraction**"
   ]
  },
  {
   "cell_type": "code",
   "execution_count": null,
   "metadata": {},
   "outputs": [],
   "source": [
    "open_channels_rank_res=collection_extract_values(decisions_df,blocks,'open','channels','norm_rank')"
   ]
  },
  {
   "cell_type": "code",
   "execution_count": null,
   "metadata": {},
   "outputs": [],
   "source": [
    "close_channels_rank_res=collection_extract_values(decisions_df,blocks,'close','channels','norm_rank')"
   ]
  },
  {
   "cell_type": "markdown",
   "metadata": {},
   "source": [
    "**Closeness: DF update extraction**"
   ]
  },
  {
   "cell_type": "code",
   "execution_count": 282,
   "metadata": {},
   "outputs": [
    {
     "name": "stdout",
     "output_type": "stream",
     "text": [
      "30537\n"
     ]
    },
    {
     "data": {
      "application/vnd.jupyter.widget-view+json": {
       "model_id": "7e9a0a2acc4b4999a7200cfb378668d9",
       "version_major": 2,
       "version_minor": 0
      },
      "text/plain": [
       "HBox(children=(FloatProgress(value=0.0, max=30536.0), HTML(value='')))"
      ]
     },
     "metadata": {},
     "output_type": "display_data"
    },
    {
     "name": "stdout",
     "output_type": "stream",
     "text": [
      "Compute in seconds: 133.6988923549652\n",
      "\n"
     ]
    }
   ],
   "source": [
    "open_closeness_rank_res=collection_extract_values(decisions_df,blocks,'open','closeness_approx_rank','norm_rank')"
   ]
  },
  {
   "cell_type": "code",
   "execution_count": null,
   "metadata": {},
   "outputs": [],
   "source": [
    "close_closeness_rank_res=collection_extract_values(decisions_df,blocks,'close','closeness_approx_rank','norm_rank')"
   ]
  },
  {
   "cell_type": "markdown",
   "metadata": {},
   "source": [
    "**Closeness_post: DF update extraction**"
   ]
  },
  {
   "cell_type": "code",
   "execution_count": 361,
   "metadata": {},
   "outputs": [
    {
     "name": "stdout",
     "output_type": "stream",
     "text": [
      "30537\n"
     ]
    },
    {
     "data": {
      "application/vnd.jupyter.widget-view+json": {
       "model_id": "b55e84503a1d42f5804d9af5ca320bc2",
       "version_major": 2,
       "version_minor": 0
      },
      "text/plain": [
       "HBox(children=(FloatProgress(value=0.0, max=30536.0), HTML(value='')))"
      ]
     },
     "metadata": {},
     "output_type": "display_data"
    },
    {
     "name": "stdout",
     "output_type": "stream",
     "text": [
      "Compute in seconds: 350.180921792984\n",
      "\n"
     ]
    }
   ],
   "source": [
    "open_closeness_rankpost_res=collection_extract_values(decisions_df,blocks,'open','closeness_approx_rank_post','norm_rank',True)"
   ]
  },
  {
   "cell_type": "code",
   "execution_count": 362,
   "metadata": {},
   "outputs": [
    {
     "name": "stdout",
     "output_type": "stream",
     "text": [
      "11022\n"
     ]
    },
    {
     "data": {
      "application/vnd.jupyter.widget-view+json": {
       "model_id": "538a2d1fc4d64946aa928d1ccb10a7a4",
       "version_major": 2,
       "version_minor": 0
      },
      "text/plain": [
       "HBox(children=(FloatProgress(value=0.0, max=11021.0), HTML(value='')))"
      ]
     },
     "metadata": {},
     "output_type": "display_data"
    },
    {
     "name": "stdout",
     "output_type": "stream",
     "text": [
      "Compute in seconds: 141.4614691734314\n",
      "\n"
     ]
    }
   ],
   "source": [
    "close_closeness_rankpost_res=collection_extract_values(decisions_df,blocks,'close','closeness_approx_rank_post','norm_rank',True)"
   ]
  },
  {
   "cell_type": "markdown",
   "metadata": {},
   "source": [
    "**Betweeness_post: DF update extraction**"
   ]
  },
  {
   "cell_type": "code",
   "execution_count": 363,
   "metadata": {},
   "outputs": [
    {
     "name": "stdout",
     "output_type": "stream",
     "text": [
      "30537\n"
     ]
    },
    {
     "data": {
      "application/vnd.jupyter.widget-view+json": {
       "model_id": "a581282a8a52434994ebbb9d03bbd537",
       "version_major": 2,
       "version_minor": 0
      },
      "text/plain": [
       "HBox(children=(FloatProgress(value=0.0, max=30536.0), HTML(value='')))"
      ]
     },
     "metadata": {},
     "output_type": "display_data"
    },
    {
     "name": "stdout",
     "output_type": "stream",
     "text": [
      "Compute in seconds: 367.6419939994812\n",
      "\n"
     ]
    }
   ],
   "source": [
    "open_betweeness_rankpost_res=collection_extract_values(decisions_df,blocks,'open','betweeness_curr_aprox','norm_rank',True)"
   ]
  },
  {
   "cell_type": "code",
   "execution_count": null,
   "metadata": {},
   "outputs": [],
   "source": [
    "close_betweeness_rankpost_res=collection_extract_values(decisions_df,blocks,'close','betweeness_curr_aprox','norm_rank',True)"
   ]
  },
  {
   "cell_type": "markdown",
   "metadata": {},
   "source": [
    "**Betweeness Unweighted: DF update extraction before and after decision**"
   ]
  },
  {
   "cell_type": "code",
   "execution_count": null,
   "metadata": {},
   "outputs": [],
   "source": [
    "open_betweenessuw_rank_res=collection_extract_values(decisions_df,blocks,'open','current_betweeness_unweighted','norm_rank',False)"
   ]
  },
  {
   "cell_type": "code",
   "execution_count": 378,
   "metadata": {},
   "outputs": [
    {
     "name": "stdout",
     "output_type": "stream",
     "text": [
      "11022\n"
     ]
    },
    {
     "data": {
      "application/vnd.jupyter.widget-view+json": {
       "model_id": "989c77dfa7774a199ae861b8214d939b",
       "version_major": 2,
       "version_minor": 0
      },
      "text/plain": [
       "HBox(children=(FloatProgress(value=0.0, max=11021.0), HTML(value='')))"
      ]
     },
     "metadata": {},
     "output_type": "display_data"
    },
    {
     "name": "stdout",
     "output_type": "stream",
     "text": [
      "Compute in seconds: 189.29941248893738\n",
      "\n"
     ]
    }
   ],
   "source": [
    "close_betweenessuw_rank_res=collection_extract_values(decisions_df,blocks,'close','current_betweeness_unweighted','norm_rank',False)"
   ]
  },
  {
   "cell_type": "code",
   "execution_count": 379,
   "metadata": {},
   "outputs": [
    {
     "name": "stdout",
     "output_type": "stream",
     "text": [
      "30537\n"
     ]
    },
    {
     "data": {
      "application/vnd.jupyter.widget-view+json": {
       "model_id": "14df271cc5ca44c1a44a679cdb9b12cb",
       "version_major": 2,
       "version_minor": 0
      },
      "text/plain": [
       "HBox(children=(FloatProgress(value=0.0, max=30536.0), HTML(value='')))"
      ]
     },
     "metadata": {},
     "output_type": "display_data"
    },
    {
     "name": "stdout",
     "output_type": "stream",
     "text": [
      "Compute in seconds: 384.76038432121277\n",
      "\n"
     ]
    }
   ],
   "source": [
    "open_betweenessuw_rankpos_res=collection_extract_values(decisions_df,blocks,'open','current_betweeness_unweighted','norm_rank',True)"
   ]
  },
  {
   "cell_type": "code",
   "execution_count": 380,
   "metadata": {},
   "outputs": [
    {
     "name": "stdout",
     "output_type": "stream",
     "text": [
      "11022\n"
     ]
    },
    {
     "data": {
      "application/vnd.jupyter.widget-view+json": {
       "model_id": "2d218122f9494846a95288ee35f2ee10",
       "version_major": 2,
       "version_minor": 0
      },
      "text/plain": [
       "HBox(children=(FloatProgress(value=0.0, max=11021.0), HTML(value='')))"
      ]
     },
     "metadata": {},
     "output_type": "display_data"
    },
    {
     "name": "stdout",
     "output_type": "stream",
     "text": [
      "Compute in seconds: 151.33098697662354\n",
      "\n"
     ]
    }
   ],
   "source": [
    "close_betweenessuw_rankpos_res=collection_extract_values(decisions_df,blocks,'close','current_betweeness_unweighted','norm_rank',True)"
   ]
  },
  {
   "cell_type": "markdown",
   "metadata": {},
   "source": [
    "## Add normalized rankings to DataFrame"
   ]
  },
  {
   "cell_type": "code",
   "execution_count": 393,
   "metadata": {},
   "outputs": [],
   "source": [
    "def add_to_dataframe(s3,bucket,df,decision_blocks,decision_type,measurement,score_type,actual_bool=False):\n",
    "    \n",
    "       \n",
    "    # Define tag\n",
    "    \n",
    "    if actual_bool:\n",
    "        extra_tag='post'\n",
    "    else:\n",
    "        extra_tag=''\n",
    "\n",
    "    # Create new empty columns for measurment for node0 and node1\n",
    "    df[measurement+'_n0_'+decision_type+'_'+score_type+extra_tag]=np.nan\n",
    "    df[measurement+'_n1_'+decision_type+'_'+score_type+extra_tag]=np.nan\n",
    "    \n",
    "    # Create updated row counter\n",
    "    updated_rows=0\n",
    "    \n",
    "    # Create counter of missing items\n",
    "    missing=0\n",
    "    \n",
    "    \n",
    "    \n",
    "    with tqdm(total=len(range(1,len(decision_blocks)))) as pbar:\n",
    "        for i in range(1,len(decision_blocks)):\n",
    "            \n",
    "            block=decision_blocks[i]\n",
    "\n",
    "            # Extract measurement values for block from S3:\n",
    "            values_key='graph_snapshots/'+str(extraction_id)+'_connected/.data_transformations/'+measurement+'/'+decision_type+'_'+score_type+extra_tag+'/'+str(block)+'.pkl'\n",
    "           \n",
    "            # Check if file exists\n",
    "            bucket_check = s3.Bucket(bucket)\n",
    "            objs = list(bucket_check.objects.filter(Prefix=values_key))\n",
    "            if len(objs) > 0 and objs[0].key == values_key:\n",
    "                \n",
    "                values_load = s3.Object(bucket_name=bucket, key=values_key).get()\n",
    "                values = pickle.loads(values_load['Body'].read())\n",
    "                value_tuples=[t for t in zip(values[0],values[1])]\n",
    "\n",
    "                # Update values in DataFrame\n",
    "                for t in value_tuples:\n",
    "                    df.loc[(df[decision_type+'_block']==block) & (df['node0_id']==t[0][0]),measurement+'_n0_'+decision_type+'_'+score_type+extra_tag]=t[0][1]\n",
    "                    df.loc[(df[decision_type+'_block']==block) & (df['node1_id']==t[1][0]),measurement+'_n1_'+decision_type+'_'+score_type+extra_tag]=t[1][1]\n",
    "                    updated_rows+=1\n",
    "            \n",
    "            else:\n",
    "                missing+=1\n",
    "                pbar.update(1)\n",
    "                continue\n",
    "            \n",
    "            pbar.update(1)\n",
    "                 \n",
    "    print('Missing items:{}'.format(missing))\n",
    "    return updated_rows\n",
    "\n"
   ]
  },
  {
   "cell_type": "code",
   "execution_count": 236,
   "metadata": {},
   "outputs": [
    {
     "data": {
      "application/vnd.jupyter.widget-view+json": {
       "model_id": "13df6f8578d34826bbb4bbb3e244089e",
       "version_major": 2,
       "version_minor": 0
      },
      "text/plain": [
       "HBox(children=(FloatProgress(value=0.0, max=1993.0), HTML(value='')))"
      ]
     },
     "metadata": {},
     "output_type": "display_data"
    },
    {
     "name": "stdout",
     "output_type": "stream",
     "text": [
      "\n"
     ]
    }
   ],
   "source": [
    "# Test add_to_dataframe\n",
    "test_df=decisions_df.copy()\n",
    "test_rows=add_to_dataframe(s3,test_df,open_blocks,'open','age','norm_rank')"
   ]
  },
  {
   "cell_type": "code",
   "execution_count": 243,
   "metadata": {},
   "outputs": [
    {
     "data": {
      "text/html": [
       "<div>\n",
       "<style scoped>\n",
       "    .dataframe tbody tr th:only-of-type {\n",
       "        vertical-align: middle;\n",
       "    }\n",
       "\n",
       "    .dataframe tbody tr th {\n",
       "        vertical-align: top;\n",
       "    }\n",
       "\n",
       "    .dataframe thead th {\n",
       "        text-align: right;\n",
       "    }\n",
       "</style>\n",
       "<table border=\"1\" class=\"dataframe\">\n",
       "  <thead>\n",
       "    <tr style=\"text-align: right;\">\n",
       "      <th></th>\n",
       "      <th>Unnamed: 0</th>\n",
       "      <th>short_channel_id</th>\n",
       "      <th>open_block</th>\n",
       "      <th>open_transaction</th>\n",
       "      <th>address</th>\n",
       "      <th>close_block</th>\n",
       "      <th>close_transaction</th>\n",
       "      <th>node0</th>\n",
       "      <th>node1</th>\n",
       "      <th>satoshis</th>\n",
       "      <th>...</th>\n",
       "      <th>close_type</th>\n",
       "      <th>close_htlc_count</th>\n",
       "      <th>close_balance_a</th>\n",
       "      <th>close_balance_b</th>\n",
       "      <th>dec_id</th>\n",
       "      <th>node0_id</th>\n",
       "      <th>node1_id</th>\n",
       "      <th>node_pair</th>\n",
       "      <th>age_n0_open_norm_rank</th>\n",
       "      <th>age_n1_open_norm_rank</th>\n",
       "    </tr>\n",
       "  </thead>\n",
       "  <tbody>\n",
       "    <tr>\n",
       "      <th>69871</th>\n",
       "      <td>1661</td>\n",
       "      <td>540687x2074x0</td>\n",
       "      <td>540687</td>\n",
       "      <td>e339d1d2ce9aadb2e8afbe58d65dbd0151a69336f8ae74...</td>\n",
       "      <td>bc1qku4zsccymmvuvjtmgxpvtc0sn8pv8hwfzlej0fejf9...</td>\n",
       "      <td>592327.0</td>\n",
       "      <td>c8615eb9e4f8f9087f7f7ebb755f0f7e85fef65a26fda3...</td>\n",
       "      <td>024c8c764d8e3657d3fd3bafca31d6733f2bdf6b10e9c4...</td>\n",
       "      <td>039f01ad62e5208940faff11d0bbc997582eafad7642aa...</td>\n",
       "      <td>30000</td>\n",
       "      <td>...</td>\n",
       "      <td>force</td>\n",
       "      <td>0.0</td>\n",
       "      <td>7920.0</td>\n",
       "      <td>7920.0</td>\n",
       "      <td>1661</td>\n",
       "      <td>7569</td>\n",
       "      <td>4787</td>\n",
       "      <td>36232803</td>\n",
       "      <td>0.104373</td>\n",
       "      <td>0.040438</td>\n",
       "    </tr>\n",
       "    <tr>\n",
       "      <th>69872</th>\n",
       "      <td>1660</td>\n",
       "      <td>540685x614x1</td>\n",
       "      <td>540685</td>\n",
       "      <td>8645bec46da9a3a53d204a4a8c0cded916c643147f6685...</td>\n",
       "      <td>bc1qn056cvaxuf2zg3qrmglk7ju72aql63zkrzj48vhweq...</td>\n",
       "      <td>NaN</td>\n",
       "      <td>NaN</td>\n",
       "      <td>03295d2e292565743a40bd44da227a820f8730877bc3df...</td>\n",
       "      <td>036265cf7c7356b06b9d64a09dad1c7f7519971be47510...</td>\n",
       "      <td>323078</td>\n",
       "      <td>...</td>\n",
       "      <td>NaN</td>\n",
       "      <td>NaN</td>\n",
       "      <td>NaN</td>\n",
       "      <td>NaN</td>\n",
       "      <td>1660</td>\n",
       "      <td>1182</td>\n",
       "      <td>3755</td>\n",
       "      <td>4438410</td>\n",
       "      <td>0.334112</td>\n",
       "      <td>0.063158</td>\n",
       "    </tr>\n",
       "    <tr>\n",
       "      <th>69873</th>\n",
       "      <td>1659</td>\n",
       "      <td>540679x1544x0</td>\n",
       "      <td>540679</td>\n",
       "      <td>f63a898977af9cf30358a6af9d563a669edf0b33d3e82f...</td>\n",
       "      <td>bc1qtrklnue4cvurj8rm4kwum2hkjwmvejgmgxpr2zallg...</td>\n",
       "      <td>592593.0</td>\n",
       "      <td>0173c1b539f5978a760965573e094652afdd46936328b7...</td>\n",
       "      <td>02529db69fd2ebd3126fb66fafa234fc3544477a23d509...</td>\n",
       "      <td>039f01ad62e5208940faff11d0bbc997582eafad7642aa...</td>\n",
       "      <td>2993787</td>\n",
       "      <td>...</td>\n",
       "      <td>mutual</td>\n",
       "      <td>0.0</td>\n",
       "      <td>190517.0</td>\n",
       "      <td>2802647.0</td>\n",
       "      <td>1659</td>\n",
       "      <td>6568</td>\n",
       "      <td>4787</td>\n",
       "      <td>31441016</td>\n",
       "      <td>0.271993</td>\n",
       "      <td>0.040087</td>\n",
       "    </tr>\n",
       "    <tr>\n",
       "      <th>69874</th>\n",
       "      <td>1658</td>\n",
       "      <td>540672x846x1</td>\n",
       "      <td>540672</td>\n",
       "      <td>0fc988844c1c790a93062b5bbcb068d9fd6cba9e96c0b1...</td>\n",
       "      <td>bc1quwdh45r2509suags3he9fnazrh0jg9h47v74tcwd8v...</td>\n",
       "      <td>NaN</td>\n",
       "      <td>NaN</td>\n",
       "      <td>021f05bd7bec2dacaafa9eea30e3c2dd64a1eee699c3aa...</td>\n",
       "      <td>03984d92cdc95dfc197c190f8d99af095089ce70e00757...</td>\n",
       "      <td>458300</td>\n",
       "      <td>...</td>\n",
       "      <td>NaN</td>\n",
       "      <td>NaN</td>\n",
       "      <td>NaN</td>\n",
       "      <td>NaN</td>\n",
       "      <td>1658</td>\n",
       "      <td>5813</td>\n",
       "      <td>7566</td>\n",
       "      <td>43981158</td>\n",
       "      <td>0.000141</td>\n",
       "      <td>0.437437</td>\n",
       "    </tr>\n",
       "    <tr>\n",
       "      <th>69875</th>\n",
       "      <td>36488</td>\n",
       "      <td>540649x1336x0</td>\n",
       "      <td>540649</td>\n",
       "      <td>db82e7a38005c6d56f6be8f7aef65b38948b657ad82e15...</td>\n",
       "      <td>bc1qcxups0x2ccme9jvy60lwkj88ae595rplc6z74zgp8c...</td>\n",
       "      <td>596917.0</td>\n",
       "      <td>44932f2eedfbb5766e1326cd655f628fd58e99c584dabd...</td>\n",
       "      <td>0258f3c375d6e2805db7471993d35395f075b52d287255...</td>\n",
       "      <td>032271efcb35188ef00e3f28469a2bb18b50a5f2f325bd...</td>\n",
       "      <td>43152</td>\n",
       "      <td>...</td>\n",
       "      <td>unused</td>\n",
       "      <td>0.0</td>\n",
       "      <td>41784.0</td>\n",
       "      <td>0.0</td>\n",
       "      <td>36488</td>\n",
       "      <td>492</td>\n",
       "      <td>1410</td>\n",
       "      <td>693720</td>\n",
       "      <td>0.100876</td>\n",
       "      <td>0.714217</td>\n",
       "    </tr>\n",
       "  </tbody>\n",
       "</table>\n",
       "<p>5 rows × 26 columns</p>\n",
       "</div>"
      ],
      "text/plain": [
       "       Unnamed: 0 short_channel_id  open_block  \\\n",
       "69871        1661    540687x2074x0      540687   \n",
       "69872        1660     540685x614x1      540685   \n",
       "69873        1659    540679x1544x0      540679   \n",
       "69874        1658     540672x846x1      540672   \n",
       "69875       36488    540649x1336x0      540649   \n",
       "\n",
       "                                        open_transaction  \\\n",
       "69871  e339d1d2ce9aadb2e8afbe58d65dbd0151a69336f8ae74...   \n",
       "69872  8645bec46da9a3a53d204a4a8c0cded916c643147f6685...   \n",
       "69873  f63a898977af9cf30358a6af9d563a669edf0b33d3e82f...   \n",
       "69874  0fc988844c1c790a93062b5bbcb068d9fd6cba9e96c0b1...   \n",
       "69875  db82e7a38005c6d56f6be8f7aef65b38948b657ad82e15...   \n",
       "\n",
       "                                                 address  close_block  \\\n",
       "69871  bc1qku4zsccymmvuvjtmgxpvtc0sn8pv8hwfzlej0fejf9...     592327.0   \n",
       "69872  bc1qn056cvaxuf2zg3qrmglk7ju72aql63zkrzj48vhweq...          NaN   \n",
       "69873  bc1qtrklnue4cvurj8rm4kwum2hkjwmvejgmgxpr2zallg...     592593.0   \n",
       "69874  bc1quwdh45r2509suags3he9fnazrh0jg9h47v74tcwd8v...          NaN   \n",
       "69875  bc1qcxups0x2ccme9jvy60lwkj88ae595rplc6z74zgp8c...     596917.0   \n",
       "\n",
       "                                       close_transaction  \\\n",
       "69871  c8615eb9e4f8f9087f7f7ebb755f0f7e85fef65a26fda3...   \n",
       "69872                                                NaN   \n",
       "69873  0173c1b539f5978a760965573e094652afdd46936328b7...   \n",
       "69874                                                NaN   \n",
       "69875  44932f2eedfbb5766e1326cd655f628fd58e99c584dabd...   \n",
       "\n",
       "                                                   node0  \\\n",
       "69871  024c8c764d8e3657d3fd3bafca31d6733f2bdf6b10e9c4...   \n",
       "69872  03295d2e292565743a40bd44da227a820f8730877bc3df...   \n",
       "69873  02529db69fd2ebd3126fb66fafa234fc3544477a23d509...   \n",
       "69874  021f05bd7bec2dacaafa9eea30e3c2dd64a1eee699c3aa...   \n",
       "69875  0258f3c375d6e2805db7471993d35395f075b52d287255...   \n",
       "\n",
       "                                                   node1  satoshis  ...  \\\n",
       "69871  039f01ad62e5208940faff11d0bbc997582eafad7642aa...     30000  ...   \n",
       "69872  036265cf7c7356b06b9d64a09dad1c7f7519971be47510...    323078  ...   \n",
       "69873  039f01ad62e5208940faff11d0bbc997582eafad7642aa...   2993787  ...   \n",
       "69874  03984d92cdc95dfc197c190f8d99af095089ce70e00757...    458300  ...   \n",
       "69875  032271efcb35188ef00e3f28469a2bb18b50a5f2f325bd...     43152  ...   \n",
       "\n",
       "      close_type  close_htlc_count  close_balance_a  close_balance_b  dec_id  \\\n",
       "69871      force               0.0           7920.0           7920.0    1661   \n",
       "69872        NaN               NaN              NaN              NaN    1660   \n",
       "69873     mutual               0.0         190517.0        2802647.0    1659   \n",
       "69874        NaN               NaN              NaN              NaN    1658   \n",
       "69875     unused               0.0          41784.0              0.0   36488   \n",
       "\n",
       "       node0_id node1_id  node_pair  age_n0_open_norm_rank  \\\n",
       "69871      7569     4787   36232803               0.104373   \n",
       "69872      1182     3755    4438410               0.334112   \n",
       "69873      6568     4787   31441016               0.271993   \n",
       "69874      5813     7566   43981158               0.000141   \n",
       "69875       492     1410     693720               0.100876   \n",
       "\n",
       "       age_n1_open_norm_rank  \n",
       "69871               0.040438  \n",
       "69872               0.063158  \n",
       "69873               0.040087  \n",
       "69874               0.437437  \n",
       "69875               0.714217  \n",
       "\n",
       "[5 rows x 26 columns]"
      ]
     },
     "execution_count": 243,
     "metadata": {},
     "output_type": "execute_result"
    }
   ],
   "source": [
    "test_df[test_df['open_block'].isin(open_blocks)].head()"
   ]
  },
  {
   "cell_type": "code",
   "execution_count": null,
   "metadata": {},
   "outputs": [],
   "source": [
    "full_df=decisions_df.copy() "
   ]
  },
  {
   "cell_type": "code",
   "execution_count": 394,
   "metadata": {},
   "outputs": [
    {
     "data": {
      "application/vnd.jupyter.widget-view+json": {
       "model_id": "f3157e78b7b5414789777e1a75812939",
       "version_major": 2,
       "version_minor": 0
      },
      "text/plain": [
       "HBox(children=(FloatProgress(value=0.0, max=30536.0), HTML(value='')))"
      ]
     },
     "metadata": {},
     "output_type": "display_data"
    },
    {
     "name": "stdout",
     "output_type": "stream",
     "text": [
      "\n",
      "Missing items:1\n"
     ]
    },
    {
     "data": {
      "application/vnd.jupyter.widget-view+json": {
       "model_id": "7296685693fa4a3d846619f76e35effc",
       "version_major": 2,
       "version_minor": 0
      },
      "text/plain": [
       "HBox(children=(FloatProgress(value=0.0, max=11021.0), HTML(value='')))"
      ]
     },
     "metadata": {},
     "output_type": "display_data"
    },
    {
     "name": "stdout",
     "output_type": "stream",
     "text": [
      "\n",
      "Missing items:0\n",
      "current_betweeness_unweighted Succesfully added\n"
     ]
    }
   ],
   "source": [
    "#measurements=['age','betweeness_curr_aprox','capacity','capacity_growth','channels']\n",
    "measurements=['current_betweeness_unweighted']\n",
    "for m in measurements:\n",
    "    add_to_dataframe(s3,bucket,full_df,open_blocks,'open',m,'norm_rank',actual_bool=False)\n",
    "    add_to_dataframe(s3,bucket,full_df,close_blocks,'close',m,'norm_rank',actual_bool=False)\n",
    "    print('{} Succesfully added'.format(m))"
   ]
  },
  {
   "cell_type": "code",
   "execution_count": null,
   "metadata": {},
   "outputs": [],
   "source": []
  },
  {
   "cell_type": "code",
   "execution_count": 396,
   "metadata": {},
   "outputs": [
    {
     "data": {
      "text/html": [
       "<div>\n",
       "<style scoped>\n",
       "    .dataframe tbody tr th:only-of-type {\n",
       "        vertical-align: middle;\n",
       "    }\n",
       "\n",
       "    .dataframe tbody tr th {\n",
       "        vertical-align: top;\n",
       "    }\n",
       "\n",
       "    .dataframe thead th {\n",
       "        text-align: right;\n",
       "    }\n",
       "</style>\n",
       "<table border=\"1\" class=\"dataframe\">\n",
       "  <thead>\n",
       "    <tr style=\"text-align: right;\">\n",
       "      <th></th>\n",
       "      <th>Unnamed: 0</th>\n",
       "      <th>short_channel_id</th>\n",
       "      <th>open_block</th>\n",
       "      <th>open_transaction</th>\n",
       "      <th>address</th>\n",
       "      <th>close_block</th>\n",
       "      <th>close_transaction</th>\n",
       "      <th>node0</th>\n",
       "      <th>node1</th>\n",
       "      <th>satoshis</th>\n",
       "      <th>...</th>\n",
       "      <th>closeness_approx_rank_post_n0_close_norm_rankpost</th>\n",
       "      <th>closeness_approx_rank_post_n1_close_norm_rankpost</th>\n",
       "      <th>current_betweeness_unweighted_n0_open_norm_rank</th>\n",
       "      <th>current_betweeness_unweighted_n1_open_norm_rank</th>\n",
       "      <th>current_betweeness_unweighted_n0_close_norm_rank</th>\n",
       "      <th>current_betweeness_unweighted_n1_close_norm_rank</th>\n",
       "      <th>current_betweeness_unweighted_n0_open_norm_rankpost</th>\n",
       "      <th>current_betweeness_unweighted_n1_open_norm_rankpost</th>\n",
       "      <th>current_betweeness_unweighted_n0_close_norm_rankpost</th>\n",
       "      <th>current_betweeness_unweighted_n1_close_norm_rankpost</th>\n",
       "    </tr>\n",
       "  </thead>\n",
       "  <tbody>\n",
       "    <tr>\n",
       "      <th>72475</th>\n",
       "      <td>0</td>\n",
       "      <td>505149x622x0</td>\n",
       "      <td>505149</td>\n",
       "      <td>f6bc767df9148ebf76d2b9baf4eb46e3230712c2bf5a51...</td>\n",
       "      <td>bc1qjmg6ev344fenh3zhg0yjl6hyvxpxluw6x9nn2a5lv4...</td>\n",
       "      <td>592638.0</td>\n",
       "      <td>82cb2ea2a06c8c453d8b9ca08e17bbefe87225aa380b2d...</td>\n",
       "      <td>0250373555232cec757ea141273e75381c84cc3ab22f1e...</td>\n",
       "      <td>02ef61a252f9504a42fc264a28476f44cea0711a44b2da...</td>\n",
       "      <td>300000</td>\n",
       "      <td>...</td>\n",
       "      <td>0.792552</td>\n",
       "      <td>0.665954</td>\n",
       "      <td>NaN</td>\n",
       "      <td>NaN</td>\n",
       "      <td>0.003693</td>\n",
       "      <td>0.001780</td>\n",
       "      <td>NaN</td>\n",
       "      <td>NaN</td>\n",
       "      <td>0.061808</td>\n",
       "      <td>0.001224</td>\n",
       "    </tr>\n",
       "    <tr>\n",
       "      <th>72474</th>\n",
       "      <td>38787</td>\n",
       "      <td>506402x1391x1</td>\n",
       "      <td>506402</td>\n",
       "      <td>2cdfc4fec2049d66a04fa5bdf468efb19c0354c60b8cf2...</td>\n",
       "      <td>bc1qvjx5t8y7j83udzuj38ukmqecv5d9jn762mchxkgvaf...</td>\n",
       "      <td>NaN</td>\n",
       "      <td>NaN</td>\n",
       "      <td>0313f9449cdb528dc9707c02da507cc9306eedc415091c...</td>\n",
       "      <td>035f1498c929d4cefba4701ae36a554691f526ff60b176...</td>\n",
       "      <td>1111934</td>\n",
       "      <td>...</td>\n",
       "      <td>NaN</td>\n",
       "      <td>NaN</td>\n",
       "      <td>NaN</td>\n",
       "      <td>NaN</td>\n",
       "      <td>NaN</td>\n",
       "      <td>NaN</td>\n",
       "      <td>NaN</td>\n",
       "      <td>NaN</td>\n",
       "      <td>NaN</td>\n",
       "      <td>NaN</td>\n",
       "    </tr>\n",
       "    <tr>\n",
       "      <th>72473</th>\n",
       "      <td>38788</td>\n",
       "      <td>506847x1633x0</td>\n",
       "      <td>506847</td>\n",
       "      <td>19ee11ce977facd380b92126834a3aca318f3cb905d99b...</td>\n",
       "      <td>bc1q29g43xrz9gujgt60gykzq3vh0ewfav7vmfqcnmf50u...</td>\n",
       "      <td>NaN</td>\n",
       "      <td>NaN</td>\n",
       "      <td>023d280ae29f84dcfd289eb66b57227fea3a7bde97ec28...</td>\n",
       "      <td>0273081ce642554d5a68a5236564fe88a3783457dc09e5...</td>\n",
       "      <td>40000</td>\n",
       "      <td>...</td>\n",
       "      <td>NaN</td>\n",
       "      <td>NaN</td>\n",
       "      <td>NaN</td>\n",
       "      <td>NaN</td>\n",
       "      <td>NaN</td>\n",
       "      <td>NaN</td>\n",
       "      <td>NaN</td>\n",
       "      <td>NaN</td>\n",
       "      <td>NaN</td>\n",
       "      <td>NaN</td>\n",
       "    </tr>\n",
       "    <tr>\n",
       "      <th>72472</th>\n",
       "      <td>38789</td>\n",
       "      <td>508075x1694x1</td>\n",
       "      <td>508075</td>\n",
       "      <td>e267e54872053a7618567f31a9d27e38cdbff0e4176144...</td>\n",
       "      <td>bc1qpxzqp2xyy0gzn8xwu6lqg3a66tuhsg5w849t0j5rdr...</td>\n",
       "      <td>NaN</td>\n",
       "      <td>NaN</td>\n",
       "      <td>03557fd11b58cb93d2ad4fab4dd4cff7462a97e21e8f6b...</td>\n",
       "      <td>03cbf298b068300be33f06c947b9d3f00a0f0e8089da32...</td>\n",
       "      <td>100000</td>\n",
       "      <td>...</td>\n",
       "      <td>NaN</td>\n",
       "      <td>NaN</td>\n",
       "      <td>NaN</td>\n",
       "      <td>NaN</td>\n",
       "      <td>NaN</td>\n",
       "      <td>NaN</td>\n",
       "      <td>NaN</td>\n",
       "      <td>NaN</td>\n",
       "      <td>NaN</td>\n",
       "      <td>NaN</td>\n",
       "    </tr>\n",
       "    <tr>\n",
       "      <th>72471</th>\n",
       "      <td>58766</td>\n",
       "      <td>508090x1515x1</td>\n",
       "      <td>508090</td>\n",
       "      <td>33d645657de8a587137b8039e52452557d4279a3f47366...</td>\n",
       "      <td>bc1qneudwey0dpgy9nj2g8ech0lqqrhz52agcj984rs6zh...</td>\n",
       "      <td>616838.0</td>\n",
       "      <td>123777e4dfadc7c008a54c2d55b670067a58cdcbc8b2ec...</td>\n",
       "      <td>028314f021602092779aedd4ef39f3b5809f9b6046f8bc...</td>\n",
       "      <td>02d4531a2f2e6e5a9033d37d548cff4834a3898e74c3ab...</td>\n",
       "      <td>400000</td>\n",
       "      <td>...</td>\n",
       "      <td>0.000000</td>\n",
       "      <td>0.859265</td>\n",
       "      <td>NaN</td>\n",
       "      <td>NaN</td>\n",
       "      <td>0.000000</td>\n",
       "      <td>0.011709</td>\n",
       "      <td>NaN</td>\n",
       "      <td>NaN</td>\n",
       "      <td>0.000000</td>\n",
       "      <td>0.003707</td>\n",
       "    </tr>\n",
       "    <tr>\n",
       "      <th>...</th>\n",
       "      <td>...</td>\n",
       "      <td>...</td>\n",
       "      <td>...</td>\n",
       "      <td>...</td>\n",
       "      <td>...</td>\n",
       "      <td>...</td>\n",
       "      <td>...</td>\n",
       "      <td>...</td>\n",
       "      <td>...</td>\n",
       "      <td>...</td>\n",
       "      <td>...</td>\n",
       "      <td>...</td>\n",
       "      <td>...</td>\n",
       "      <td>...</td>\n",
       "      <td>...</td>\n",
       "      <td>...</td>\n",
       "      <td>...</td>\n",
       "      <td>...</td>\n",
       "      <td>...</td>\n",
       "      <td>...</td>\n",
       "      <td>...</td>\n",
       "    </tr>\n",
       "    <tr>\n",
       "      <th>72280</th>\n",
       "      <td>84</td>\n",
       "      <td>516116x816x0</td>\n",
       "      <td>516116</td>\n",
       "      <td>70b55eae6f818eff5cb26cb245810c2fb4031b5043df88...</td>\n",
       "      <td>bc1q4gw9e8j53kx2ha32knvup35xtzld32zgzsa5c3kvfk...</td>\n",
       "      <td>NaN</td>\n",
       "      <td>NaN</td>\n",
       "      <td>0331a2398d2787f39af6d958994dd4edc3e809f567b717...</td>\n",
       "      <td>03a8334aba5660e241468e2f0deb2526bfd50d0e3fe808...</td>\n",
       "      <td>2222</td>\n",
       "      <td>...</td>\n",
       "      <td>NaN</td>\n",
       "      <td>NaN</td>\n",
       "      <td>0.000000</td>\n",
       "      <td>0.231237</td>\n",
       "      <td>NaN</td>\n",
       "      <td>NaN</td>\n",
       "      <td>0.174754</td>\n",
       "      <td>0.216062</td>\n",
       "      <td>NaN</td>\n",
       "      <td>NaN</td>\n",
       "    </tr>\n",
       "    <tr>\n",
       "      <th>72279</th>\n",
       "      <td>38871</td>\n",
       "      <td>516116x1085x0</td>\n",
       "      <td>516116</td>\n",
       "      <td>7fb66e26a7ccd0c6eaf1b9e4a997e5ea1b5c14df16e84f...</td>\n",
       "      <td>bc1q3r8npjt4z4y0u8kx7aug4jyjt38zr3d3fca7uw0fyj...</td>\n",
       "      <td>NaN</td>\n",
       "      <td>NaN</td>\n",
       "      <td>02d0f53a403a0b16efdec1983a082ab7645e35858f6a85...</td>\n",
       "      <td>0331a2398d2787f39af6d958994dd4edc3e809f567b717...</td>\n",
       "      <td>2222</td>\n",
       "      <td>...</td>\n",
       "      <td>NaN</td>\n",
       "      <td>NaN</td>\n",
       "      <td>0.475259</td>\n",
       "      <td>0.000000</td>\n",
       "      <td>NaN</td>\n",
       "      <td>NaN</td>\n",
       "      <td>0.501804</td>\n",
       "      <td>0.174754</td>\n",
       "      <td>NaN</td>\n",
       "      <td>NaN</td>\n",
       "    </tr>\n",
       "    <tr>\n",
       "      <th>72278</th>\n",
       "      <td>85</td>\n",
       "      <td>516121x1572x0</td>\n",
       "      <td>516121</td>\n",
       "      <td>e9d372ef0b6509119f29836f6494ee4b03d8180afe2b30...</td>\n",
       "      <td>bc1qkc96d7fadsrl302hkgrwhjg09jrtpjl8zy24nw2zr9...</td>\n",
       "      <td>616967.0</td>\n",
       "      <td>2a6d49377016c46cb30870746a7081d9093b878a4580ff...</td>\n",
       "      <td>0327049d8d63f0c40193cdf3afc61817c8647808a4e482...</td>\n",
       "      <td>03341b688f09301a8c0f7528b587bd59db9f8e3f9aec46...</td>\n",
       "      <td>10000</td>\n",
       "      <td>...</td>\n",
       "      <td>0.670436</td>\n",
       "      <td>0.042963</td>\n",
       "      <td>0.241681</td>\n",
       "      <td>0.078710</td>\n",
       "      <td>0.028468</td>\n",
       "      <td>0.016082</td>\n",
       "      <td>0.308156</td>\n",
       "      <td>0.065629</td>\n",
       "      <td>0.074452</td>\n",
       "      <td>0.021378</td>\n",
       "    </tr>\n",
       "    <tr>\n",
       "      <th>72277</th>\n",
       "      <td>38873</td>\n",
       "      <td>516126x918x0</td>\n",
       "      <td>516126</td>\n",
       "      <td>3237782d2ac33d01e299008485f8f7bad76896a6087297...</td>\n",
       "      <td>bc1qjdcdrls9glk3x65pk2fxy482g5neee22vv38ere07s...</td>\n",
       "      <td>NaN</td>\n",
       "      <td>NaN</td>\n",
       "      <td>032b4be34fa4944c3a3ae55c3bdeed2b2d902bd02aa583...</td>\n",
       "      <td>038d108e6cd9b8e84fa0b89d018c2e254324d3674b2bb3...</td>\n",
       "      <td>50000</td>\n",
       "      <td>...</td>\n",
       "      <td>NaN</td>\n",
       "      <td>NaN</td>\n",
       "      <td>0.000000</td>\n",
       "      <td>0.153419</td>\n",
       "      <td>NaN</td>\n",
       "      <td>NaN</td>\n",
       "      <td>0.000000</td>\n",
       "      <td>0.144921</td>\n",
       "      <td>NaN</td>\n",
       "      <td>NaN</td>\n",
       "    </tr>\n",
       "    <tr>\n",
       "      <th>72276</th>\n",
       "      <td>38872</td>\n",
       "      <td>516126x650x0</td>\n",
       "      <td>516126</td>\n",
       "      <td>ad911ee054884cafcf0d6171fe20e773a74166f0638bb6...</td>\n",
       "      <td>bc1qh5gstk7086zv33aevhycqnf8u39rzm7jzz69mrlnms...</td>\n",
       "      <td>NaN</td>\n",
       "      <td>NaN</td>\n",
       "      <td>02bfd4ec033e053a08c7b4cd3c7e0718f3929da9413ccc...</td>\n",
       "      <td>039b3ec0c8ce6a322a7fe6c7b246bcd40471702e4b58a8...</td>\n",
       "      <td>5000</td>\n",
       "      <td>...</td>\n",
       "      <td>NaN</td>\n",
       "      <td>NaN</td>\n",
       "      <td>0.000000</td>\n",
       "      <td>0.000000</td>\n",
       "      <td>NaN</td>\n",
       "      <td>NaN</td>\n",
       "      <td>0.000000</td>\n",
       "      <td>0.000000</td>\n",
       "      <td>NaN</td>\n",
       "      <td>NaN</td>\n",
       "    </tr>\n",
       "  </tbody>\n",
       "</table>\n",
       "<p>200 rows × 68 columns</p>\n",
       "</div>"
      ],
      "text/plain": [
       "       Unnamed: 0 short_channel_id  open_block  \\\n",
       "72475           0     505149x622x0      505149   \n",
       "72474       38787    506402x1391x1      506402   \n",
       "72473       38788    506847x1633x0      506847   \n",
       "72472       38789    508075x1694x1      508075   \n",
       "72471       58766    508090x1515x1      508090   \n",
       "...           ...              ...         ...   \n",
       "72280          84     516116x816x0      516116   \n",
       "72279       38871    516116x1085x0      516116   \n",
       "72278          85    516121x1572x0      516121   \n",
       "72277       38873     516126x918x0      516126   \n",
       "72276       38872     516126x650x0      516126   \n",
       "\n",
       "                                        open_transaction  \\\n",
       "72475  f6bc767df9148ebf76d2b9baf4eb46e3230712c2bf5a51...   \n",
       "72474  2cdfc4fec2049d66a04fa5bdf468efb19c0354c60b8cf2...   \n",
       "72473  19ee11ce977facd380b92126834a3aca318f3cb905d99b...   \n",
       "72472  e267e54872053a7618567f31a9d27e38cdbff0e4176144...   \n",
       "72471  33d645657de8a587137b8039e52452557d4279a3f47366...   \n",
       "...                                                  ...   \n",
       "72280  70b55eae6f818eff5cb26cb245810c2fb4031b5043df88...   \n",
       "72279  7fb66e26a7ccd0c6eaf1b9e4a997e5ea1b5c14df16e84f...   \n",
       "72278  e9d372ef0b6509119f29836f6494ee4b03d8180afe2b30...   \n",
       "72277  3237782d2ac33d01e299008485f8f7bad76896a6087297...   \n",
       "72276  ad911ee054884cafcf0d6171fe20e773a74166f0638bb6...   \n",
       "\n",
       "                                                 address  close_block  \\\n",
       "72475  bc1qjmg6ev344fenh3zhg0yjl6hyvxpxluw6x9nn2a5lv4...     592638.0   \n",
       "72474  bc1qvjx5t8y7j83udzuj38ukmqecv5d9jn762mchxkgvaf...          NaN   \n",
       "72473  bc1q29g43xrz9gujgt60gykzq3vh0ewfav7vmfqcnmf50u...          NaN   \n",
       "72472  bc1qpxzqp2xyy0gzn8xwu6lqg3a66tuhsg5w849t0j5rdr...          NaN   \n",
       "72471  bc1qneudwey0dpgy9nj2g8ech0lqqrhz52agcj984rs6zh...     616838.0   \n",
       "...                                                  ...          ...   \n",
       "72280  bc1q4gw9e8j53kx2ha32knvup35xtzld32zgzsa5c3kvfk...          NaN   \n",
       "72279  bc1q3r8npjt4z4y0u8kx7aug4jyjt38zr3d3fca7uw0fyj...          NaN   \n",
       "72278  bc1qkc96d7fadsrl302hkgrwhjg09jrtpjl8zy24nw2zr9...     616967.0   \n",
       "72277  bc1qjdcdrls9glk3x65pk2fxy482g5neee22vv38ere07s...          NaN   \n",
       "72276  bc1qh5gstk7086zv33aevhycqnf8u39rzm7jzz69mrlnms...          NaN   \n",
       "\n",
       "                                       close_transaction  \\\n",
       "72475  82cb2ea2a06c8c453d8b9ca08e17bbefe87225aa380b2d...   \n",
       "72474                                                NaN   \n",
       "72473                                                NaN   \n",
       "72472                                                NaN   \n",
       "72471  123777e4dfadc7c008a54c2d55b670067a58cdcbc8b2ec...   \n",
       "...                                                  ...   \n",
       "72280                                                NaN   \n",
       "72279                                                NaN   \n",
       "72278  2a6d49377016c46cb30870746a7081d9093b878a4580ff...   \n",
       "72277                                                NaN   \n",
       "72276                                                NaN   \n",
       "\n",
       "                                                   node0  \\\n",
       "72475  0250373555232cec757ea141273e75381c84cc3ab22f1e...   \n",
       "72474  0313f9449cdb528dc9707c02da507cc9306eedc415091c...   \n",
       "72473  023d280ae29f84dcfd289eb66b57227fea3a7bde97ec28...   \n",
       "72472  03557fd11b58cb93d2ad4fab4dd4cff7462a97e21e8f6b...   \n",
       "72471  028314f021602092779aedd4ef39f3b5809f9b6046f8bc...   \n",
       "...                                                  ...   \n",
       "72280  0331a2398d2787f39af6d958994dd4edc3e809f567b717...   \n",
       "72279  02d0f53a403a0b16efdec1983a082ab7645e35858f6a85...   \n",
       "72278  0327049d8d63f0c40193cdf3afc61817c8647808a4e482...   \n",
       "72277  032b4be34fa4944c3a3ae55c3bdeed2b2d902bd02aa583...   \n",
       "72276  02bfd4ec033e053a08c7b4cd3c7e0718f3929da9413ccc...   \n",
       "\n",
       "                                                   node1  satoshis  ...  \\\n",
       "72475  02ef61a252f9504a42fc264a28476f44cea0711a44b2da...    300000  ...   \n",
       "72474  035f1498c929d4cefba4701ae36a554691f526ff60b176...   1111934  ...   \n",
       "72473  0273081ce642554d5a68a5236564fe88a3783457dc09e5...     40000  ...   \n",
       "72472  03cbf298b068300be33f06c947b9d3f00a0f0e8089da32...    100000  ...   \n",
       "72471  02d4531a2f2e6e5a9033d37d548cff4834a3898e74c3ab...    400000  ...   \n",
       "...                                                  ...       ...  ...   \n",
       "72280  03a8334aba5660e241468e2f0deb2526bfd50d0e3fe808...      2222  ...   \n",
       "72279  0331a2398d2787f39af6d958994dd4edc3e809f567b717...      2222  ...   \n",
       "72278  03341b688f09301a8c0f7528b587bd59db9f8e3f9aec46...     10000  ...   \n",
       "72277  038d108e6cd9b8e84fa0b89d018c2e254324d3674b2bb3...     50000  ...   \n",
       "72276  039b3ec0c8ce6a322a7fe6c7b246bcd40471702e4b58a8...      5000  ...   \n",
       "\n",
       "      closeness_approx_rank_post_n0_close_norm_rankpost  \\\n",
       "72475                                          0.792552   \n",
       "72474                                               NaN   \n",
       "72473                                               NaN   \n",
       "72472                                               NaN   \n",
       "72471                                          0.000000   \n",
       "...                                                 ...   \n",
       "72280                                               NaN   \n",
       "72279                                               NaN   \n",
       "72278                                          0.670436   \n",
       "72277                                               NaN   \n",
       "72276                                               NaN   \n",
       "\n",
       "       closeness_approx_rank_post_n1_close_norm_rankpost  \\\n",
       "72475                                           0.665954   \n",
       "72474                                                NaN   \n",
       "72473                                                NaN   \n",
       "72472                                                NaN   \n",
       "72471                                           0.859265   \n",
       "...                                                  ...   \n",
       "72280                                                NaN   \n",
       "72279                                                NaN   \n",
       "72278                                           0.042963   \n",
       "72277                                                NaN   \n",
       "72276                                                NaN   \n",
       "\n",
       "       current_betweeness_unweighted_n0_open_norm_rank  \\\n",
       "72475                                              NaN   \n",
       "72474                                              NaN   \n",
       "72473                                              NaN   \n",
       "72472                                              NaN   \n",
       "72471                                              NaN   \n",
       "...                                                ...   \n",
       "72280                                         0.000000   \n",
       "72279                                         0.475259   \n",
       "72278                                         0.241681   \n",
       "72277                                         0.000000   \n",
       "72276                                         0.000000   \n",
       "\n",
       "       current_betweeness_unweighted_n1_open_norm_rank  \\\n",
       "72475                                              NaN   \n",
       "72474                                              NaN   \n",
       "72473                                              NaN   \n",
       "72472                                              NaN   \n",
       "72471                                              NaN   \n",
       "...                                                ...   \n",
       "72280                                         0.231237   \n",
       "72279                                         0.000000   \n",
       "72278                                         0.078710   \n",
       "72277                                         0.153419   \n",
       "72276                                         0.000000   \n",
       "\n",
       "       current_betweeness_unweighted_n0_close_norm_rank  \\\n",
       "72475                                          0.003693   \n",
       "72474                                               NaN   \n",
       "72473                                               NaN   \n",
       "72472                                               NaN   \n",
       "72471                                          0.000000   \n",
       "...                                                 ...   \n",
       "72280                                               NaN   \n",
       "72279                                               NaN   \n",
       "72278                                          0.028468   \n",
       "72277                                               NaN   \n",
       "72276                                               NaN   \n",
       "\n",
       "       current_betweeness_unweighted_n1_close_norm_rank  \\\n",
       "72475                                          0.001780   \n",
       "72474                                               NaN   \n",
       "72473                                               NaN   \n",
       "72472                                               NaN   \n",
       "72471                                          0.011709   \n",
       "...                                                 ...   \n",
       "72280                                               NaN   \n",
       "72279                                               NaN   \n",
       "72278                                          0.016082   \n",
       "72277                                               NaN   \n",
       "72276                                               NaN   \n",
       "\n",
       "      current_betweeness_unweighted_n0_open_norm_rankpost  \\\n",
       "72475                                                NaN    \n",
       "72474                                                NaN    \n",
       "72473                                                NaN    \n",
       "72472                                                NaN    \n",
       "72471                                                NaN    \n",
       "...                                                  ...    \n",
       "72280                                           0.174754    \n",
       "72279                                           0.501804    \n",
       "72278                                           0.308156    \n",
       "72277                                           0.000000    \n",
       "72276                                           0.000000    \n",
       "\n",
       "       current_betweeness_unweighted_n1_open_norm_rankpost  \\\n",
       "72475                                                NaN     \n",
       "72474                                                NaN     \n",
       "72473                                                NaN     \n",
       "72472                                                NaN     \n",
       "72471                                                NaN     \n",
       "...                                                  ...     \n",
       "72280                                           0.216062     \n",
       "72279                                           0.174754     \n",
       "72278                                           0.065629     \n",
       "72277                                           0.144921     \n",
       "72276                                           0.000000     \n",
       "\n",
       "       current_betweeness_unweighted_n0_close_norm_rankpost  \\\n",
       "72475                                           0.061808      \n",
       "72474                                                NaN      \n",
       "72473                                                NaN      \n",
       "72472                                                NaN      \n",
       "72471                                           0.000000      \n",
       "...                                                  ...      \n",
       "72280                                                NaN      \n",
       "72279                                                NaN      \n",
       "72278                                           0.074452      \n",
       "72277                                                NaN      \n",
       "72276                                                NaN      \n",
       "\n",
       "       current_betweeness_unweighted_n1_close_norm_rankpost  \n",
       "72475                                           0.001224     \n",
       "72474                                                NaN     \n",
       "72473                                                NaN     \n",
       "72472                                                NaN     \n",
       "72471                                           0.003707     \n",
       "...                                                  ...     \n",
       "72280                                                NaN     \n",
       "72279                                                NaN     \n",
       "72278                                           0.021378     \n",
       "72277                                                NaN     \n",
       "72276                                                NaN     \n",
       "\n",
       "[200 rows x 68 columns]"
      ]
     },
     "execution_count": 396,
     "metadata": {},
     "output_type": "execute_result"
    }
   ],
   "source": [
    "full_df.sort_values(by=['open_block'],ascending=True).head(200)"
   ]
  },
  {
   "cell_type": "code",
   "execution_count": 397,
   "metadata": {},
   "outputs": [
    {
     "data": {
      "text/plain": [
       "{'ResponseMetadata': {'RequestId': 'BCF61FE4A09473D3',\n",
       "  'HostId': 'g29DVIZge5ccBSzzUFsqToPWAGwV9OfNMmu0dEtLMKJC/cB6Hu+E3MIsOeOjyCWKsLwJouZqPwc=',\n",
       "  'HTTPStatusCode': 200,\n",
       "  'HTTPHeaders': {'x-amz-id-2': 'g29DVIZge5ccBSzzUFsqToPWAGwV9OfNMmu0dEtLMKJC/cB6Hu+E3MIsOeOjyCWKsLwJouZqPwc=',\n",
       "   'x-amz-request-id': 'BCF61FE4A09473D3',\n",
       "   'date': 'Sun, 10 May 2020 06:40:27 GMT',\n",
       "   'etag': '\"e91c42c938d71299672c70b11ca9cf36\"',\n",
       "   'content-length': '0',\n",
       "   'server': 'AmazonS3'},\n",
       "  'RetryAttempts': 0},\n",
       " 'ETag': '\"e91c42c938d71299672c70b11ca9cf36\"'}"
      ]
     },
     "execution_count": 397,
     "metadata": {},
     "output_type": "execute_result"
    }
   ],
   "source": [
    "# Save DataFrame to disk\n",
    "csv_buffer = io.StringIO()\n",
    "full_df.to_csv(csv_buffer)\n",
    "key='full_decisions_df.csv'\n",
    "s3.Object(bucket, key).put(Body=csv_buffer.getvalue())"
   ]
  },
  {
   "cell_type": "code",
   "execution_count": 391,
   "metadata": {},
   "outputs": [
    {
     "data": {
      "text/plain": [
       "Index(['Unnamed: 0', 'short_channel_id', 'open_block', 'open_transaction',\n",
       "       'address', 'close_block', 'close_transaction', 'node0', 'node1',\n",
       "       'satoshis', 'last_seen', 'open_time', 'open_fee', 'close_time',\n",
       "       'close_fee', 'last_update', 'close_type', 'close_htlc_count',\n",
       "       'close_balance_a', 'close_balance_b', 'dec_id', 'node0_id', 'node1_id',\n",
       "       'node_pair', 'age_n0_open_norm_rank', 'age_n1_open_norm_rank',\n",
       "       'age_n0_close_norm_rank', 'age_n1_close_norm_rank',\n",
       "       'betweeness_curr_aprox_n0_open_norm_rank',\n",
       "       'betweeness_curr_aprox_n1_open_norm_rank',\n",
       "       'betweeness_curr_aprox_n0_close_norm_rank',\n",
       "       'betweeness_curr_aprox_n1_close_norm_rank',\n",
       "       'capacity_n0_open_norm_rank', 'capacity_n1_open_norm_rank',\n",
       "       'capacity_n0_close_norm_rank', 'capacity_n1_close_norm_rank',\n",
       "       'capacity_growth_n0_open_norm_rank',\n",
       "       'capacity_growth_n1_open_norm_rank',\n",
       "       'capacity_growth_n0_close_norm_rank',\n",
       "       'capacity_growth_n1_close_norm_rank', 'channels_n0_open_norm_rank',\n",
       "       'channels_n1_open_norm_rank', 'closeness_approx_rank_n0_open_norm_rank',\n",
       "       'closeness_approx_rank_n1_open_norm_rank',\n",
       "       'closeness_approx_rank_n0_close_norm_rank',\n",
       "       'closeness_approx_rank_n1_close_norm_rank',\n",
       "       'channels_n0_close_norm_rank', 'channels_n1_close_norm_rank',\n",
       "       'betweeness_curr_aprox_n0_open_norm_rankpost',\n",
       "       'betweeness_curr_aprox_n1_open_norm_rankpost',\n",
       "       'betweeness_curr_aprox_n0_close_norm_rankpost',\n",
       "       'betweeness_curr_aprox_n1_close_norm_rankpost',\n",
       "       'closeness_approx_rank_post_n0_open_norm_rank',\n",
       "       'closeness_approx_rank_post_n1_open_norm_rank',\n",
       "       'closeness_approx_rank_post_n0_open_norm_rankpost',\n",
       "       'closeness_approx_rank_post_n1_open_norm_rankpost',\n",
       "       'closeness_approx_rank_post_n0_close_norm_rank',\n",
       "       'closeness_approx_rank_post_n1_close_norm_rank',\n",
       "       'closeness_approx_rank_post_n0_close_norm_rankpost',\n",
       "       'closeness_approx_rank_post_n1_close_norm_rankpost',\n",
       "       'current_betweeness_unweighted_n0_open_norm_rank',\n",
       "       'current_betweeness_unweighted_n1_open_norm_rank',\n",
       "       'current_betweeness_unweighted_n0_close_norm_rank',\n",
       "       'current_betweeness_unweighted_n1_close_norm_rank',\n",
       "       'current_betweeness_unweighted_n0_open_norm_rankpost',\n",
       "       'current_betweeness_unweighted_n1_open_norm_rankpost',\n",
       "       'current_betweeness_unweighted_n0_close_norm_rankpost',\n",
       "       'current_betweeness_unweighted_n1_close_norm_rankpost'],\n",
       "      dtype='object')"
      ]
     },
     "execution_count": 391,
     "metadata": {},
     "output_type": "execute_result"
    }
   ],
   "source": [
    "full_df.columns"
   ]
  },
  {
   "cell_type": "code",
   "execution_count": 288,
   "metadata": {},
   "outputs": [],
   "source": [
    "# Drop old column\n",
    "measurements=['closeness_approx_rank','channels']\n",
    "decision_types=['open','close']\n",
    "\n",
    "for m in measurements:\n",
    "    for decision_type in decision_types:\n",
    "        full_df.drop([measurement+'_n0_'+decision_type+'_norm_rank', measurement+'_n1_'+decision_type+'_norm_rank'], axis=1)"
   ]
  },
  {
   "cell_type": "code",
   "execution_count": null,
   "metadata": {},
   "outputs": [],
   "source": []
  }
 ],
 "metadata": {
  "kernelspec": {
   "display_name": "Python 3",
   "language": "python",
   "name": "python3"
  },
  "language_info": {
   "codemirror_mode": {
    "name": "ipython",
    "version": 3
   },
   "file_extension": ".py",
   "mimetype": "text/x-python",
   "name": "python",
   "nbconvert_exporter": "python",
   "pygments_lexer": "ipython3",
   "version": "3.7.3"
  }
 },
 "nbformat": 4,
 "nbformat_minor": 4
}
