{
 "cells": [
  {
   "cell_type": "markdown",
   "metadata": {},
   "source": [
    "# LN - Data Pre-Processing - Normalized rankings"
   ]
  },
  {
   "cell_type": "markdown",
   "metadata": {},
   "source": [
    "## Import Libraries"
   ]
  },
  {
   "cell_type": "code",
   "execution_count": 1,
   "metadata": {},
   "outputs": [],
   "source": [
    "import numpy as np\n",
    "import pandas as pd\n",
    "import networkx as nx\n",
    "import itertools\n",
    "#import matplotlib.pyplot as plt\n",
    "import time\n",
    "import pickle\n",
    "\n",
    "import os\n",
    "import re\n",
    "import sys\n",
    "import io\n",
    "import random\n",
    "from itertools import islice\n",
    "import math\n",
    "\n",
    "from tqdm.notebook import trange, tqdm\n",
    "#from tqdm.notebook import trange\n",
    "#from tqdm import tqdm_notebook as tqdm\n",
    "from time import sleep\n",
    "\n",
    "from dask_cloudprovider import FargateCluster\n",
    "from dask.distributed import Client\n",
    "import dask.array as da\n",
    "import dask\n",
    "dask.config.set({'distributed.scheduler.allowed-failures': 50}) \n",
    "\n",
    "\n",
    "import boto3"
   ]
  },
  {
   "cell_type": "code",
   "execution_count": 4,
   "metadata": {},
   "outputs": [],
   "source": [
    "# Define parameters\n",
    "\n",
    "bucket='ln-strategy-data'\n",
    "extraction_id=1587447789\n"
   ]
  },
  {
   "cell_type": "code",
   "execution_count": 2,
   "metadata": {},
   "outputs": [],
   "source": [
    "# Initiate s3 resource\n",
    "\n",
    "session = boto3.session.Session()\n",
    "s3 = session.resource('s3')"
   ]
  },
  {
   "cell_type": "markdown",
   "metadata": {},
   "source": [
    "## Load Data"
   ]
  },
  {
   "cell_type": "code",
   "execution_count": null,
   "metadata": {},
   "outputs": [],
   "source": [
    "graph_keys = [obj.key \n",
    "        for obj in s3.Bucket(name=bucket).objects.all()\n",
    "        if re.match(\".*\"+str(extraction_id)+\"_connected/.*\\.gpickle\",obj.key)]"
   ]
  },
  {
   "cell_type": "code",
   "execution_count": 55,
   "metadata": {},
   "outputs": [],
   "source": [
    "# Base lists to be populated\n",
    "blocks=[]\n",
    "base_ix=6\n",
    "\n",
    "\n",
    "extract_keys=graph_keys[base_ix:] # Blocks below 6th index are <3 and affect some graph metrics\n",
    "\n",
    "for key in extract_keys: \n",
    "    \n",
    "    # Create block list from file_names\n",
    "    block_i=int(key.split(\".\")[0].split(\"/\")[-1]) \n",
    "    blocks.append(block_i)"
   ]
  },
  {
   "cell_type": "code",
   "execution_count": 40,
   "metadata": {},
   "outputs": [],
   "source": [
    "cluster = FargateCluster(n_workers=10,scheduler_timeout='20 minutes',image='dsrincon/dask-graph:nx-scipy-v1',scheduler_cpu=4096,scheduler_mem=16384)"
   ]
  },
  {
   "cell_type": "code",
   "execution_count": 41,
   "metadata": {},
   "outputs": [
    {
     "data": {
      "application/vnd.jupyter.widget-view+json": {
       "model_id": "7efa85245be34ec5aad83e819d403d6a",
       "version_major": 2,
       "version_minor": 0
      },
      "text/plain": [
       "VBox(children=(HTML(value='<h2>FargateCluster</h2>'), HBox(children=(HTML(value='\\n<div>\\n  <style scoped>\\n  …"
      ]
     },
     "metadata": {},
     "output_type": "display_data"
    }
   ],
   "source": [
    "cluster"
   ]
  },
  {
   "cell_type": "code",
   "execution_count": 42,
   "metadata": {},
   "outputs": [
    {
     "name": "stderr",
     "output_type": "stream",
     "text": [
      "/opt/conda/lib/python3.7/site-packages/distributed/client.py:1079: VersionMismatchWarning: Mismatched versions found\n",
      "\n",
      "python\n",
      "+---------------------------+---------------+\n",
      "|                           | version       |\n",
      "+---------------------------+---------------+\n",
      "| client                    | 3.7.3.final.0 |\n",
      "| scheduler                 | 3.7.4.final.0 |\n",
      "| tcp://172.31.13.174:35387 | 3.7.4.final.0 |\n",
      "| tcp://172.31.39.80:39373  | 3.7.4.final.0 |\n",
      "| tcp://172.31.44.128:44783 | 3.7.4.final.0 |\n",
      "| tcp://172.31.47.113:41259 | 3.7.4.final.0 |\n",
      "| tcp://172.31.56.45:45011  | 3.7.4.final.0 |\n",
      "| tcp://172.31.57.159:36223 | 3.7.4.final.0 |\n",
      "| tcp://172.31.60.5:38091   | 3.7.4.final.0 |\n",
      "| tcp://172.31.66.63:39963  | 3.7.4.final.0 |\n",
      "| tcp://172.31.7.172:34479  | 3.7.4.final.0 |\n",
      "| tcp://172.31.87.75:39141  | 3.7.4.final.0 |\n",
      "+---------------------------+---------------+\n",
      "\n",
      "tornado\n",
      "+---------------------------+---------+\n",
      "|                           | version |\n",
      "+---------------------------+---------+\n",
      "| client                    | 6.0.3   |\n",
      "| scheduler                 | 6.0.4   |\n",
      "| tcp://172.31.13.174:35387 | 6.0.4   |\n",
      "| tcp://172.31.39.80:39373  | 6.0.4   |\n",
      "| tcp://172.31.44.128:44783 | 6.0.4   |\n",
      "| tcp://172.31.47.113:41259 | 6.0.4   |\n",
      "| tcp://172.31.56.45:45011  | 6.0.4   |\n",
      "| tcp://172.31.57.159:36223 | 6.0.4   |\n",
      "| tcp://172.31.60.5:38091   | 6.0.4   |\n",
      "| tcp://172.31.66.63:39963  | 6.0.4   |\n",
      "| tcp://172.31.7.172:34479  | 6.0.4   |\n",
      "| tcp://172.31.87.75:39141  | 6.0.4   |\n",
      "+---------------------------+---------+\n",
      "  warnings.warn(version_module.VersionMismatchWarning(msg[0][\"warning\"]))\n"
     ]
    }
   ],
   "source": [
    "client=Client(cluster)"
   ]
  },
  {
   "cell_type": "code",
   "execution_count": 24,
   "metadata": {},
   "outputs": [],
   "source": [
    "\n",
    "\n",
    "def graph_ranking(input_tuple):\n",
    "    \n",
    "    # Unpacking input\n",
    "    block_num=input_tuple[0]\n",
    "    measurement=input_tuple[1]\n",
    "    extraction_id=input_tuple[2]\n",
    "    key_rawscore=input_tuple[3]\n",
    "    bucket=input_tuple[4]\n",
    "    \n",
    "    \n",
    "    # Retrieve snapshot from S3\n",
    "    session = boto3.session.Session()\n",
    "    s3 = session.resource('s3')\n",
    "    response = s3.Object(bucket_name=bucket, key=key_rawscore).get()\n",
    "    snapshot=pickle.loads(response['Body'].read())\n",
    "    \n",
    "    \n",
    "    # Calculate ranking for snapshot\n",
    "    max_value = max(snapshot.values())\n",
    "    norm_rank = {k: v / max_value for k, v in snapshot.items()}\n",
    "    \n",
    "    \n",
    "    # Write output into S3\n",
    "    key_out='graph_snapshots/'+str(extraction_id)+'_connected/.data_transformations/'+measurement+'/norm_rank/'+str(block_num)+'.pkl'\n",
    "    pickle_byte_obj = pickle.dumps(norm_rank)\n",
    "    response=s3.Object(bucket,key_out).put(Body=pickle_byte_obj)['ResponseMetadata']['HTTPStatusCode']\n",
    "    \n",
    "    \n",
    "    return response "
   ]
  },
  {
   "cell_type": "code",
   "execution_count": null,
   "metadata": {},
   "outputs": [],
   "source": [
    "# TEST calculate_ranking \n",
    "\n",
    "test_block=516790\n",
    "measurement='channels'\n",
    "input_tuple=(test_block,measurement,extraction_id)\n",
    "response_test=calculate_ranking(input_tuple)\n",
    "\n",
    "# Test if function saved result correctly and download result\n",
    "if response_test==200:\n",
    "    key_test='graph_snapshots/'+str(extraction_id)+'_connected/.data_transformations/'+measurement+'/norm_rank/'+str(test_block)+'.pkl'\n",
    "    g_rank_test_load = s3.Object(bucket_name=bucket, key=key_test).get()\n",
    "    g_rank_test = pickle.loads(g_rank_test_load['Body'].read())\n",
    "    g_rank_values=sorted([v for k,v in g_rank_test.items()])\n",
    "    #print(g_rank_values)\n",
    "    #print('The dic saved has these first items: {}'.format(list(g_rank_test.items())))\n",
    "\n"
   ]
  },
  {
   "cell_type": "code",
   "execution_count": 50,
   "metadata": {},
   "outputs": [],
   "source": [
    "def collection_ranking(extraction_id,blocks,measurement,bucket):\n",
    "\n",
    "    session = boto3.session.Session()\n",
    "    s3 = session.resource('s3')\n",
    "    \n",
    "  \n",
    "    \n",
    "\n",
    "    delayed_responses=[]\n",
    "    with tqdm(total=len(blocks)) as pbar:\n",
    "        for block_num in blocks:\n",
    "\n",
    "            \n",
    "            # Create key\n",
    "            key='graph_snapshots/'+str(extraction_id)+'_connected/.data_transformations/'+measurement+'/raw_score/'+str(block_num)+'.pkl'\n",
    "            \n",
    "            # Create input tuple\n",
    "            input_tuple=(block_num,measurement,extraction_id,key,bucket)\n",
    "            \n",
    "            # Run delayed function using dask\n",
    "            response=dask.delayed(graph_ranking)(input_tuple)\n",
    "            delayed_responses.append(response)\n",
    "            \n",
    "            # Update progress bar\n",
    "            pbar.update(1)\n",
    "\n",
    "    # Collect futures\n",
    "    futures = dask.persist(*delayed_responses)\n",
    "\n",
    "    # Run parallel computations\n",
    "    start=time.time()\n",
    "    final_responses = dask.compute(*futures)\n",
    "    end=time.time()\n",
    "    print('Compute in seconds: {}'.format(end-start))\n",
    "\n",
    "    return final_responses\n",
    "\n",
    "\n",
    "\n",
    "\n"
   ]
  },
  {
   "cell_type": "code",
   "execution_count": 56,
   "metadata": {},
   "outputs": [
    {
     "data": {
      "application/vnd.jupyter.widget-view+json": {
       "model_id": "c71a31f18f134527bc270a15deb99ddf",
       "version_major": 2,
       "version_minor": 0
      },
      "text/plain": [
       "HBox(children=(FloatProgress(value=0.0, max=36536.0), HTML(value='')))"
      ]
     },
     "metadata": {},
     "output_type": "display_data"
    },
    {
     "name": "stdout",
     "output_type": "stream",
     "text": [
      "\n",
      "Compute in seconds: 591.6712484359741\n"
     ]
    }
   ],
   "source": [
    "# Test collection_ranking\n",
    "test_responses=collection_ranking(extraction_id,blocks,'channels',bucket)"
   ]
  },
  {
   "cell_type": "code",
   "execution_count": 54,
   "metadata": {},
   "outputs": [
    {
     "name": "stdout",
     "output_type": "stream",
     "text": [
      "(200, 200, 200, 200, 200, 200, 200, 200, 200, 200, 200, 200, 200, 200, 200, 200, 200, 200, 200, 200)\n"
     ]
    }
   ],
   "source": [
    "print(test_responses[:20])"
   ]
  },
  {
   "cell_type": "markdown",
   "metadata": {},
   "source": [
    "## Calculate normalized rankings for measures"
   ]
  },
  {
   "cell_type": "markdown",
   "metadata": {},
   "source": [
    "**Age ranking**"
   ]
  },
  {
   "cell_type": "code",
   "execution_count": 57,
   "metadata": {},
   "outputs": [
    {
     "data": {
      "application/vnd.jupyter.widget-view+json": {
       "model_id": "751ac66a51ee4a59b4928515db7f8955",
       "version_major": 2,
       "version_minor": 0
      },
      "text/plain": [
       "HBox(children=(FloatProgress(value=0.0, max=36536.0), HTML(value='')))"
      ]
     },
     "metadata": {},
     "output_type": "display_data"
    },
    {
     "name": "stdout",
     "output_type": "stream",
     "text": [
      "\n",
      "Compute in seconds: 384.95358204841614\n"
     ]
    }
   ],
   "source": [
    "age_responses=collection_ranking(extraction_id,blocks,'age',bucket)"
   ]
  },
  {
   "cell_type": "markdown",
   "metadata": {},
   "source": [
    "**Capacity ranking**"
   ]
  },
  {
   "cell_type": "code",
   "execution_count": 58,
   "metadata": {},
   "outputs": [
    {
     "data": {
      "application/vnd.jupyter.widget-view+json": {
       "model_id": "0d04043f743b496bb579857a5a5bcb31",
       "version_major": 2,
       "version_minor": 0
      },
      "text/plain": [
       "HBox(children=(FloatProgress(value=0.0, max=36536.0), HTML(value='')))"
      ]
     },
     "metadata": {},
     "output_type": "display_data"
    },
    {
     "name": "stdout",
     "output_type": "stream",
     "text": [
      "\n",
      "Compute in seconds: 360.1695795059204\n"
     ]
    }
   ],
   "source": [
    "capacity_responses=collection_ranking(extraction_id,blocks,'capacity',bucket)"
   ]
  },
  {
   "cell_type": "markdown",
   "metadata": {},
   "source": [
    "**Betweeness ranking**"
   ]
  },
  {
   "cell_type": "code",
   "execution_count": 59,
   "metadata": {},
   "outputs": [
    {
     "data": {
      "application/vnd.jupyter.widget-view+json": {
       "model_id": "47df99dc334c49dbb74b0e195c3d6986",
       "version_major": 2,
       "version_minor": 0
      },
      "text/plain": [
       "HBox(children=(FloatProgress(value=0.0, max=36536.0), HTML(value='')))"
      ]
     },
     "metadata": {},
     "output_type": "display_data"
    },
    {
     "name": "stdout",
     "output_type": "stream",
     "text": [
      "\n",
      "Compute in seconds: 363.8422577381134\n"
     ]
    }
   ],
   "source": [
    "betweeness_responses=collection_ranking(extraction_id,blocks,'betweeness_curr_aprox',bucket)"
   ]
  },
  {
   "cell_type": "markdown",
   "metadata": {},
   "source": [
    "**Growth ranking**"
   ]
  },
  {
   "cell_type": "code",
   "execution_count": 60,
   "metadata": {},
   "outputs": [
    {
     "data": {
      "application/vnd.jupyter.widget-view+json": {
       "model_id": "f0733546dd6547459c203b632ddcaff4",
       "version_major": 2,
       "version_minor": 0
      },
      "text/plain": [
       "HBox(children=(FloatProgress(value=0.0, max=36536.0), HTML(value='')))"
      ]
     },
     "metadata": {},
     "output_type": "display_data"
    },
    {
     "name": "stdout",
     "output_type": "stream",
     "text": [
      "\n",
      "Compute in seconds: 408.5428283214569\n"
     ]
    },
    {
     "name": "stderr",
     "output_type": "stream",
     "text": [
      "distributed.client - ERROR - Failed to reconnect to scheduler after 10.00 seconds, closing client\n",
      "_GatheringFuture exception was never retrieved\n",
      "future: <_GatheringFuture finished exception=CancelledError()>\n",
      "concurrent.futures._base.CancelledError\n"
     ]
    }
   ],
   "source": [
    "growth_responses=collection_ranking(extraction_id,blocks,'capacity_growth',bucket)"
   ]
  },
  {
   "cell_type": "markdown",
   "metadata": {},
   "source": [
    "**Channels ranking**"
   ]
  },
  {
   "cell_type": "code",
   "execution_count": null,
   "metadata": {},
   "outputs": [],
   "source": [
    "channels_responses=collection_ranking(extraction_id,blocks,'channels',bucket)"
   ]
  }
 ],
 "metadata": {
  "kernelspec": {
   "display_name": "Python 3",
   "language": "python",
   "name": "python3"
  },
  "language_info": {
   "codemirror_mode": {
    "name": "ipython",
    "version": 3
   },
   "file_extension": ".py",
   "mimetype": "text/x-python",
   "name": "python",
   "nbconvert_exporter": "python",
   "pygments_lexer": "ipython3",
   "version": "3.7.3"
  }
 },
 "nbformat": 4,
 "nbformat_minor": 4
}
