{
 "cells": [
  {
   "cell_type": "markdown",
   "metadata": {},
   "source": [
    "# LN - Data Analysis - Dynamic graph analysis"
   ]
  },
  {
   "cell_type": "markdown",
   "metadata": {},
   "source": [
    "## Import libraries and initialize parameters "
   ]
  },
  {
   "cell_type": "code",
   "execution_count": 1,
   "metadata": {},
   "outputs": [],
   "source": [
    "import numpy as np\n",
    "import pandas as pd\n",
    "import networkx as nx\n",
    "import itertools\n",
    "#import matplotlib.pyplot as plt\n",
    "import time\n",
    "import pickle\n",
    "\n",
    "import os\n",
    "import re\n",
    "import sys\n",
    "import io\n",
    "import random\n",
    "from itertools import islice\n",
    "import math\n",
    "\n",
    "from tqdm.notebook import trange, tqdm\n",
    "#from tqdm.notebook import trange\n",
    "#from tqdm import tqdm_notebook as tqdm\n",
    "from time import sleep\n",
    "\n",
    "from dask_cloudprovider import FargateCluster\n",
    "from dask.distributed import Client\n",
    "import dask.array as da\n",
    "import dask\n",
    "dask.config.set({'distributed.scheduler.allowed-failures': 50}) \n",
    "\n",
    "\n",
    "import boto3"
   ]
  },
  {
   "cell_type": "code",
   "execution_count": 2,
   "metadata": {},
   "outputs": [],
   "source": [
    "# Define parameters\n",
    "\n",
    "bucket='ln-strategy-data'\n",
    "extraction_id=1587447789"
   ]
  },
  {
   "cell_type": "code",
   "execution_count": 3,
   "metadata": {},
   "outputs": [],
   "source": [
    "# Initiate s3 resource\n",
    "\n",
    "session = boto3.session.Session()\n",
    "s3 = session.resource('s3')"
   ]
  },
  {
   "cell_type": "markdown",
   "metadata": {},
   "source": [
    "## Load Data"
   ]
  },
  {
   "cell_type": "code",
   "execution_count": 4,
   "metadata": {},
   "outputs": [],
   "source": [
    "graph_keys = [obj.key \n",
    "        for obj in s3.Bucket(name=bucket).objects.all()\n",
    "        if re.match(\".*\"+str(extraction_id)+\"_connected/.*\\.gpickle\",obj.key)]"
   ]
  },
  {
   "cell_type": "code",
   "execution_count": 5,
   "metadata": {},
   "outputs": [],
   "source": [
    "# Base lists to be populated\n",
    "blocks=[]\n",
    "base_ix=6\n",
    "\n",
    "\n",
    "extract_keys=graph_keys[base_ix:] # Blocks below 6th index are <3 and affect some graph metrics\n",
    "\n",
    "for key in extract_keys: \n",
    "    \n",
    "    # Create block list from file_names\n",
    "    block_i=int(key.split(\".\")[0].split(\"/\")[-1]) \n",
    "    blocks.append(block_i)"
   ]
  },
  {
   "cell_type": "markdown",
   "metadata": {},
   "source": [
    "## Extract graph attributes over time"
   ]
  },
  {
   "cell_type": "markdown",
   "metadata": {},
   "source": [
    "**Test algorithm duration**"
   ]
  },
  {
   "cell_type": "code",
   "execution_count": 26,
   "metadata": {},
   "outputs": [],
   "source": [
    "# Set test block\n",
    "\n",
    "test_ix=1001\n",
    "test_key=extract_keys[test_ix]\n",
    "test_block=blocks[test_ix]\n",
    "\n",
    "\n",
    "# Retrieve graph\n",
    "\n",
    "response = s3.Object(bucket_name=bucket, key=test_key).get()\n",
    "g_test=pickle.loads(response['Body'].read())"
   ]
  },
  {
   "cell_type": "code",
   "execution_count": 8,
   "metadata": {},
   "outputs": [
    {
     "name": "stdout",
     "output_type": "stream",
     "text": [
      "Average shortest path for block 617169 is: 3.225546981631114. Calculated in 185.30242586135864 seconds\n"
     ]
    }
   ],
   "source": [
    "# Test shortest path\n",
    "\n",
    "start=time.time()\n",
    "test_avg_shortpath=nx.average_shortest_path_length(g_test)\n",
    "end=time.time()\n",
    "\n",
    "print('Average shortest path for block {} is: {}. Calculated in {} seconds'.format(test_block,test_avg_shortpath,end-start))\n"
   ]
  },
  {
   "cell_type": "code",
   "execution_count": 13,
   "metadata": {},
   "outputs": [
    {
     "name": "stdout",
     "output_type": "stream",
     "text": [
      "Cut set for block 617169 calculated in 420.2049415111542 seconds and is:{(5263, 7731)}\n"
     ]
    }
   ],
   "source": [
    "# Test minimum edge cut\n",
    "\n",
    "start=time.time()\n",
    "test_cutset=nx.minimum_edge_cut(g_test)\n",
    "end=time.time()\n",
    "\n",
    "print('Cut set for block {} calculated in {} seconds and is:{}'.format(test_block,end-start,test_cutset))"
   ]
  },
  {
   "cell_type": "code",
   "execution_count": 21,
   "metadata": {},
   "outputs": [
    {
     "name": "stdout",
     "output_type": "stream",
     "text": [
      "Cut set for block 532074 calculated in 16.607750177383423 seconds and is:{6378}\n"
     ]
    }
   ],
   "source": [
    "# Test minimum node cut\n",
    "\n",
    "start=time.time()\n",
    "test_cutset=nx.minimum_node_cut(g_test)\n",
    "end=time.time()\n",
    "\n",
    "print('Cut set for block {} calculated in {} seconds and is:{}'.format(test_block,end-start,test_cutset))"
   ]
  },
  {
   "cell_type": "code",
   "execution_count": 46,
   "metadata": {},
   "outputs": [
    {
     "name": "stdout",
     "output_type": "stream",
     "text": [
      "Globla efficiency calculated in 1.7335028648376465 seconds and is:0.28345674771159696\n"
     ]
    }
   ],
   "source": [
    "# Test global efficiency \n",
    "\n",
    "start=time.time()\n",
    "test_glob_eff=nx.global_efficiency(g_test)\n",
    "end=time.time()\n",
    "\n",
    "print('Global efficiency calculated in {} seconds and is:{}'.format(end-start,test_glob_eff))"
   ]
  },
  {
   "cell_type": "code",
   "execution_count": null,
   "metadata": {},
   "outputs": [],
   "source": [
    "g_test_degrees=list(g_test.degree(g_test.nodes(),weight='capacity'))\n",
    "g_test_degrees.sort(key=lambda x: x[1],reverse=True)\n",
    "g_test_degrees"
   ]
  },
  {
   "cell_type": "code",
   "execution_count": null,
   "metadata": {},
   "outputs": [],
   "source": [
    "g"
   ]
  },
  {
   "cell_type": "code",
   "execution_count": null,
   "metadata": {},
   "outputs": [],
   "source": [
    "x=list(range(5000))\n",
    "random.sample(x=)"
   ]
  },
  {
   "cell_type": "code",
   "execution_count": 22,
   "metadata": {},
   "outputs": [],
   "source": [
    "g_test_1=g_test.copy()\n",
    "g_test_1.remove_nodes_from(test_cutset)"
   ]
  },
  {
   "cell_type": "code",
   "execution_count": 25,
   "metadata": {},
   "outputs": [
    {
     "name": "stdout",
     "output_type": "stream",
     "text": [
      "3\n"
     ]
    }
   ],
   "source": [
    "number_cc=nx.number_connected_components(g_test)\n",
    "print(number_cc)"
   ]
  },
  {
   "cell_type": "code",
   "execution_count": 29,
   "metadata": {},
   "outputs": [
    {
     "data": {
      "text/plain": [
       "615842"
      ]
     },
     "execution_count": 29,
     "metadata": {},
     "output_type": "execute_result"
    }
   ],
   "source": [
    "sample=random.sample(blocks,3600)\n",
    "sorted(sample)[-100]"
   ]
  },
  {
   "cell_type": "code",
   "execution_count": 43,
   "metadata": {},
   "outputs": [
    {
     "data": {
      "text/plain": [
       "617291"
      ]
     },
     "execution_count": 43,
     "metadata": {},
     "output_type": "execute_result"
    }
   ],
   "source": [
    "[blocks[10*i] for i in range(int(len(blocks)/10)+1)]"
   ]
  },
  {
   "cell_type": "code",
   "execution_count": 42,
   "metadata": {},
   "outputs": [
    {
     "data": {
      "text/plain": [
       "[617272,\n",
       " 617273,\n",
       " 617274,\n",
       " 617275,\n",
       " 617278,\n",
       " 617280,\n",
       " 617281,\n",
       " 617282,\n",
       " 617283,\n",
       " 617285,\n",
       " 617287,\n",
       " 617288,\n",
       " 617289,\n",
       " 617290,\n",
       " 617291,\n",
       " 617292,\n",
       " 617294,\n",
       " 617295,\n",
       " 617296,\n",
       " 617297]"
      ]
     },
     "execution_count": 42,
     "metadata": {},
     "output_type": "execute_result"
    }
   ],
   "source": [
    "blocks[-20:]"
   ]
  },
  {
   "cell_type": "code",
   "execution_count": null,
   "metadata": {},
   "outputs": [],
   "source": []
  }
 ],
 "metadata": {
  "kernelspec": {
   "display_name": "Python 3",
   "language": "python",
   "name": "python3"
  },
  "language_info": {
   "codemirror_mode": {
    "name": "ipython",
    "version": 3
   },
   "file_extension": ".py",
   "mimetype": "text/x-python",
   "name": "python",
   "nbconvert_exporter": "python",
   "pygments_lexer": "ipython3",
   "version": "3.7.3"
  }
 },
 "nbformat": 4,
 "nbformat_minor": 4
}
