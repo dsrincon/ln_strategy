{
 "cells": [
  {
   "cell_type": "code",
   "execution_count": 1,
   "metadata": {},
   "outputs": [],
   "source": [
    "import pandas as pd"
   ]
  },
  {
   "cell_type": "markdown",
   "metadata": {},
   "source": [
    "## Edge Snapshots"
   ]
  },
  {
   "cell_type": "code",
   "execution_count": 4,
   "metadata": {},
   "outputs": [],
   "source": [
    "ln_edges = pd.read_csv(\"./ln_data/ln_edges.csv\")"
   ]
  },
  {
   "cell_type": "code",
   "execution_count": 45,
   "metadata": {},
   "outputs": [
    {
     "data": {
      "text/html": [
       "<div>\n",
       "<style scoped>\n",
       "    .dataframe tbody tr th:only-of-type {\n",
       "        vertical-align: middle;\n",
       "    }\n",
       "\n",
       "    .dataframe tbody tr th {\n",
       "        vertical-align: top;\n",
       "    }\n",
       "\n",
       "    .dataframe thead th {\n",
       "        text-align: right;\n",
       "    }\n",
       "</style>\n",
       "<table border=\"1\" class=\"dataframe\">\n",
       "  <thead>\n",
       "    <tr style=\"text-align: right;\">\n",
       "      <th></th>\n",
       "      <th>Unnamed: 0</th>\n",
       "      <th>snapshot_id</th>\n",
       "      <th>src</th>\n",
       "      <th>trg</th>\n",
       "      <th>last_update</th>\n",
       "      <th>channel_id</th>\n",
       "      <th>capacity</th>\n",
       "      <th>disabled</th>\n",
       "      <th>fee_base_msat</th>\n",
       "      <th>fee_rate_milli_msat</th>\n",
       "      <th>min_htlc</th>\n",
       "    </tr>\n",
       "  </thead>\n",
       "  <tbody>\n",
       "    <tr>\n",
       "      <th>3378107</th>\n",
       "      <td>3378107</td>\n",
       "      <td>42</td>\n",
       "      <td>03f8ab9b7496be92ce370e0224661d5d2de80bca8f505d...</td>\n",
       "      <td>03be8dbb87bd9f23d44c6448a72c2b0ee36c6405d9b39f...</td>\n",
       "      <td>3262337834</td>\n",
       "      <td>619899158240231424</td>\n",
       "      <td>100000</td>\n",
       "      <td>False</td>\n",
       "      <td>1000.0</td>\n",
       "      <td>1.0</td>\n",
       "      <td>1.0</td>\n",
       "    </tr>\n",
       "    <tr>\n",
       "      <th>3378106</th>\n",
       "      <td>3378106</td>\n",
       "      <td>42</td>\n",
       "      <td>03be8dbb87bd9f23d44c6448a72c2b0ee36c6405d9b39f...</td>\n",
       "      <td>03f8ab9b7496be92ce370e0224661d5d2de80bca8f505d...</td>\n",
       "      <td>3262337834</td>\n",
       "      <td>619899158240231424</td>\n",
       "      <td>100000</td>\n",
       "      <td>True</td>\n",
       "      <td>1000.0</td>\n",
       "      <td>100.0</td>\n",
       "      <td>1000.0</td>\n",
       "    </tr>\n",
       "    <tr>\n",
       "      <th>3378105</th>\n",
       "      <td>3378105</td>\n",
       "      <td>38</td>\n",
       "      <td>03f8ab9b7496be92ce370e0224661d5d2de80bca8f505d...</td>\n",
       "      <td>03be8dbb87bd9f23d44c6448a72c2b0ee36c6405d9b39f...</td>\n",
       "      <td>3262337834</td>\n",
       "      <td>619899158240231424</td>\n",
       "      <td>100000</td>\n",
       "      <td>False</td>\n",
       "      <td>1000.0</td>\n",
       "      <td>1.0</td>\n",
       "      <td>1.0</td>\n",
       "    </tr>\n",
       "    <tr>\n",
       "      <th>3378104</th>\n",
       "      <td>3378104</td>\n",
       "      <td>38</td>\n",
       "      <td>03be8dbb87bd9f23d44c6448a72c2b0ee36c6405d9b39f...</td>\n",
       "      <td>03f8ab9b7496be92ce370e0224661d5d2de80bca8f505d...</td>\n",
       "      <td>3262337834</td>\n",
       "      <td>619899158240231424</td>\n",
       "      <td>100000</td>\n",
       "      <td>True</td>\n",
       "      <td>1000.0</td>\n",
       "      <td>100.0</td>\n",
       "      <td>1000.0</td>\n",
       "    </tr>\n",
       "    <tr>\n",
       "      <th>3378103</th>\n",
       "      <td>3378103</td>\n",
       "      <td>39</td>\n",
       "      <td>03f8ab9b7496be92ce370e0224661d5d2de80bca8f505d...</td>\n",
       "      <td>03be8dbb87bd9f23d44c6448a72c2b0ee36c6405d9b39f...</td>\n",
       "      <td>3262337834</td>\n",
       "      <td>619899158240231424</td>\n",
       "      <td>100000</td>\n",
       "      <td>False</td>\n",
       "      <td>1000.0</td>\n",
       "      <td>1.0</td>\n",
       "      <td>1.0</td>\n",
       "    </tr>\n",
       "    <tr>\n",
       "      <th>...</th>\n",
       "      <td>...</td>\n",
       "      <td>...</td>\n",
       "      <td>...</td>\n",
       "      <td>...</td>\n",
       "      <td>...</td>\n",
       "      <td>...</td>\n",
       "      <td>...</td>\n",
       "      <td>...</td>\n",
       "      <td>...</td>\n",
       "      <td>...</td>\n",
       "      <td>...</td>\n",
       "    </tr>\n",
       "    <tr>\n",
       "      <th>3328131</th>\n",
       "      <td>3328131</td>\n",
       "      <td>53</td>\n",
       "      <td>030995c0c0217d763c2274aa6ed69a0bb85fa2f7d118f9...</td>\n",
       "      <td>026c2039dadd6d8f5cf7388442118929dae8edce9503f2...</td>\n",
       "      <td>1553792098</td>\n",
       "      <td>623001980097396736</td>\n",
       "      <td>5000000</td>\n",
       "      <td>False</td>\n",
       "      <td>1000.0</td>\n",
       "      <td>1.0</td>\n",
       "      <td>1000.0</td>\n",
       "    </tr>\n",
       "    <tr>\n",
       "      <th>3328127</th>\n",
       "      <td>3328127</td>\n",
       "      <td>53</td>\n",
       "      <td>03bb88ccc444534da7b5b64b4f7b15e1eccb18e102db0e...</td>\n",
       "      <td>026c2039dadd6d8f5cf7388442118929dae8edce9503f2...</td>\n",
       "      <td>1553792098</td>\n",
       "      <td>624042118032130049</td>\n",
       "      <td>2000000</td>\n",
       "      <td>False</td>\n",
       "      <td>1000.0</td>\n",
       "      <td>1.0</td>\n",
       "      <td>1000.0</td>\n",
       "    </tr>\n",
       "    <tr>\n",
       "      <th>3328125</th>\n",
       "      <td>3328125</td>\n",
       "      <td>53</td>\n",
       "      <td>02c91d6aa51aa940608b497b6beebcb1aec05be3c47704...</td>\n",
       "      <td>026c2039dadd6d8f5cf7388442118929dae8edce9503f2...</td>\n",
       "      <td>1553792098</td>\n",
       "      <td>623030567372783616</td>\n",
       "      <td>5000000</td>\n",
       "      <td>False</td>\n",
       "      <td>1000.0</td>\n",
       "      <td>1.0</td>\n",
       "      <td>1000.0</td>\n",
       "    </tr>\n",
       "    <tr>\n",
       "      <th>3328124</th>\n",
       "      <td>3328124</td>\n",
       "      <td>53</td>\n",
       "      <td>026c2039dadd6d8f5cf7388442118929dae8edce9503f2...</td>\n",
       "      <td>02c91d6aa51aa940608b497b6beebcb1aec05be3c47704...</td>\n",
       "      <td>1553792098</td>\n",
       "      <td>623030567372783616</td>\n",
       "      <td>5000000</td>\n",
       "      <td>False</td>\n",
       "      <td>0.0</td>\n",
       "      <td>35.0</td>\n",
       "      <td>1000.0</td>\n",
       "    </tr>\n",
       "    <tr>\n",
       "      <th>3328123</th>\n",
       "      <td>3328123</td>\n",
       "      <td>53</td>\n",
       "      <td>0331f80652fb840239df8dc99205792bba2e559a054699...</td>\n",
       "      <td>026c2039dadd6d8f5cf7388442118929dae8edce9503f2...</td>\n",
       "      <td>1553792098</td>\n",
       "      <td>624188353149337600</td>\n",
       "      <td>334995</td>\n",
       "      <td>False</td>\n",
       "      <td>1000.0</td>\n",
       "      <td>1.0</td>\n",
       "      <td>1000.0</td>\n",
       "    </tr>\n",
       "  </tbody>\n",
       "</table>\n",
       "<p>50000 rows × 11 columns</p>\n",
       "</div>"
      ],
      "text/plain": [
       "         Unnamed: 0  snapshot_id  \\\n",
       "3378107     3378107           42   \n",
       "3378106     3378106           42   \n",
       "3378105     3378105           38   \n",
       "3378104     3378104           38   \n",
       "3378103     3378103           39   \n",
       "...             ...          ...   \n",
       "3328131     3328131           53   \n",
       "3328127     3328127           53   \n",
       "3328125     3328125           53   \n",
       "3328124     3328124           53   \n",
       "3328123     3328123           53   \n",
       "\n",
       "                                                       src  \\\n",
       "3378107  03f8ab9b7496be92ce370e0224661d5d2de80bca8f505d...   \n",
       "3378106  03be8dbb87bd9f23d44c6448a72c2b0ee36c6405d9b39f...   \n",
       "3378105  03f8ab9b7496be92ce370e0224661d5d2de80bca8f505d...   \n",
       "3378104  03be8dbb87bd9f23d44c6448a72c2b0ee36c6405d9b39f...   \n",
       "3378103  03f8ab9b7496be92ce370e0224661d5d2de80bca8f505d...   \n",
       "...                                                    ...   \n",
       "3328131  030995c0c0217d763c2274aa6ed69a0bb85fa2f7d118f9...   \n",
       "3328127  03bb88ccc444534da7b5b64b4f7b15e1eccb18e102db0e...   \n",
       "3328125  02c91d6aa51aa940608b497b6beebcb1aec05be3c47704...   \n",
       "3328124  026c2039dadd6d8f5cf7388442118929dae8edce9503f2...   \n",
       "3328123  0331f80652fb840239df8dc99205792bba2e559a054699...   \n",
       "\n",
       "                                                       trg  last_update  \\\n",
       "3378107  03be8dbb87bd9f23d44c6448a72c2b0ee36c6405d9b39f...   3262337834   \n",
       "3378106  03f8ab9b7496be92ce370e0224661d5d2de80bca8f505d...   3262337834   \n",
       "3378105  03be8dbb87bd9f23d44c6448a72c2b0ee36c6405d9b39f...   3262337834   \n",
       "3378104  03f8ab9b7496be92ce370e0224661d5d2de80bca8f505d...   3262337834   \n",
       "3378103  03be8dbb87bd9f23d44c6448a72c2b0ee36c6405d9b39f...   3262337834   \n",
       "...                                                    ...          ...   \n",
       "3328131  026c2039dadd6d8f5cf7388442118929dae8edce9503f2...   1553792098   \n",
       "3328127  026c2039dadd6d8f5cf7388442118929dae8edce9503f2...   1553792098   \n",
       "3328125  026c2039dadd6d8f5cf7388442118929dae8edce9503f2...   1553792098   \n",
       "3328124  02c91d6aa51aa940608b497b6beebcb1aec05be3c47704...   1553792098   \n",
       "3328123  026c2039dadd6d8f5cf7388442118929dae8edce9503f2...   1553792098   \n",
       "\n",
       "                 channel_id  capacity  disabled  fee_base_msat  \\\n",
       "3378107  619899158240231424    100000     False         1000.0   \n",
       "3378106  619899158240231424    100000      True         1000.0   \n",
       "3378105  619899158240231424    100000     False         1000.0   \n",
       "3378104  619899158240231424    100000      True         1000.0   \n",
       "3378103  619899158240231424    100000     False         1000.0   \n",
       "...                     ...       ...       ...            ...   \n",
       "3328131  623001980097396736   5000000     False         1000.0   \n",
       "3328127  624042118032130049   2000000     False         1000.0   \n",
       "3328125  623030567372783616   5000000     False         1000.0   \n",
       "3328124  623030567372783616   5000000     False            0.0   \n",
       "3328123  624188353149337600    334995     False         1000.0   \n",
       "\n",
       "         fee_rate_milli_msat  min_htlc  \n",
       "3378107                  1.0       1.0  \n",
       "3378106                100.0    1000.0  \n",
       "3378105                  1.0       1.0  \n",
       "3378104                100.0    1000.0  \n",
       "3378103                  1.0       1.0  \n",
       "...                      ...       ...  \n",
       "3328131                  1.0    1000.0  \n",
       "3328127                  1.0    1000.0  \n",
       "3328125                  1.0    1000.0  \n",
       "3328124                 35.0    1000.0  \n",
       "3328123                  1.0    1000.0  \n",
       "\n",
       "[50000 rows x 11 columns]"
      ]
     },
     "execution_count": 45,
     "metadata": {},
     "output_type": "execute_result"
    }
   ],
   "source": [
    "ln_edges.sort_values(by=['last_update'], ascending=False).head(50000)\n",
    "# The snapshots at the top seem to have updates that are not correct epoch times\n",
    "# Probably last updates references the last time that channel was updated. "
   ]
  },
  {
   "cell_type": "code",
   "execution_count": 33,
   "metadata": {},
   "outputs": [
    {
     "data": {
      "text/html": [
       "<div>\n",
       "<style scoped>\n",
       "    .dataframe tbody tr th:only-of-type {\n",
       "        vertical-align: middle;\n",
       "    }\n",
       "\n",
       "    .dataframe tbody tr th {\n",
       "        vertical-align: top;\n",
       "    }\n",
       "\n",
       "    .dataframe thead th {\n",
       "        text-align: right;\n",
       "    }\n",
       "</style>\n",
       "<table border=\"1\" class=\"dataframe\">\n",
       "  <thead>\n",
       "    <tr style=\"text-align: right;\">\n",
       "      <th></th>\n",
       "      <th>Unnamed: 0</th>\n",
       "      <th>snapshot_id</th>\n",
       "      <th>last_update</th>\n",
       "      <th>channel_id</th>\n",
       "      <th>capacity</th>\n",
       "      <th>fee_base_msat</th>\n",
       "      <th>fee_rate_milli_msat</th>\n",
       "      <th>min_htlc</th>\n",
       "    </tr>\n",
       "  </thead>\n",
       "  <tbody>\n",
       "    <tr>\n",
       "      <th>count</th>\n",
       "      <td>3.378108e+06</td>\n",
       "      <td>3.378108e+06</td>\n",
       "      <td>3.378108e+06</td>\n",
       "      <td>3.378108e+06</td>\n",
       "      <td>3.378108e+06</td>\n",
       "      <td>3.378108e+06</td>\n",
       "      <td>3.378108e+06</td>\n",
       "      <td>3.378108e+06</td>\n",
       "    </tr>\n",
       "    <tr>\n",
       "      <th>mean</th>\n",
       "      <td>1.689054e+06</td>\n",
       "      <td>2.924046e+01</td>\n",
       "      <td>1.551277e+09</td>\n",
       "      <td>6.127971e+17</td>\n",
       "      <td>2.535095e+06</td>\n",
       "      <td>6.024842e+04</td>\n",
       "      <td>5.295784e+05</td>\n",
       "      <td>1.412378e+03</td>\n",
       "    </tr>\n",
       "    <tr>\n",
       "      <th>std</th>\n",
       "      <td>9.751759e+05</td>\n",
       "      <td>1.534104e+01</td>\n",
       "      <td>3.778054e+06</td>\n",
       "      <td>1.033629e+16</td>\n",
       "      <td>4.154411e+06</td>\n",
       "      <td>6.169328e+06</td>\n",
       "      <td>3.657706e+07</td>\n",
       "      <td>1.437993e+04</td>\n",
       "    </tr>\n",
       "    <tr>\n",
       "      <th>min</th>\n",
       "      <td>0.000000e+00</td>\n",
       "      <td>0.000000e+00</td>\n",
       "      <td>1.521522e+09</td>\n",
       "      <td>5.575041e+17</td>\n",
       "      <td>1.100000e+03</td>\n",
       "      <td>0.000000e+00</td>\n",
       "      <td>0.000000e+00</td>\n",
       "      <td>0.000000e+00</td>\n",
       "    </tr>\n",
       "    <tr>\n",
       "      <th>25%</th>\n",
       "      <td>8.445268e+05</td>\n",
       "      <td>1.700000e+01</td>\n",
       "      <td>1.550314e+09</td>\n",
       "      <td>6.094681e+17</td>\n",
       "      <td>2.000000e+05</td>\n",
       "      <td>5.000000e+02</td>\n",
       "      <td>1.000000e+00</td>\n",
       "      <td>1.000000e+03</td>\n",
       "    </tr>\n",
       "    <tr>\n",
       "      <th>50%</th>\n",
       "      <td>1.689054e+06</td>\n",
       "      <td>3.100000e+01</td>\n",
       "      <td>1.551572e+09</td>\n",
       "      <td>6.153956e+17</td>\n",
       "      <td>6.046020e+05</td>\n",
       "      <td>1.000000e+03</td>\n",
       "      <td>1.000000e+00</td>\n",
       "      <td>1.000000e+03</td>\n",
       "    </tr>\n",
       "    <tr>\n",
       "      <th>75%</th>\n",
       "      <td>2.533580e+06</td>\n",
       "      <td>4.300000e+01</td>\n",
       "      <td>1.552700e+09</td>\n",
       "      <td>6.195649e+17</td>\n",
       "      <td>2.001000e+06</td>\n",
       "      <td>1.000000e+03</td>\n",
       "      <td>1.900000e+01</td>\n",
       "      <td>1.000000e+03</td>\n",
       "    </tr>\n",
       "    <tr>\n",
       "      <th>max</th>\n",
       "      <td>3.378107e+06</td>\n",
       "      <td>5.300000e+01</td>\n",
       "      <td>3.262338e+09</td>\n",
       "      <td>6.259344e+17</td>\n",
       "      <td>1.677722e+07</td>\n",
       "      <td>4.294967e+09</td>\n",
       "      <td>4.294967e+09</td>\n",
       "      <td>1.000000e+06</td>\n",
       "    </tr>\n",
       "  </tbody>\n",
       "</table>\n",
       "</div>"
      ],
      "text/plain": [
       "         Unnamed: 0   snapshot_id   last_update    channel_id      capacity  \\\n",
       "count  3.378108e+06  3.378108e+06  3.378108e+06  3.378108e+06  3.378108e+06   \n",
       "mean   1.689054e+06  2.924046e+01  1.551277e+09  6.127971e+17  2.535095e+06   \n",
       "std    9.751759e+05  1.534104e+01  3.778054e+06  1.033629e+16  4.154411e+06   \n",
       "min    0.000000e+00  0.000000e+00  1.521522e+09  5.575041e+17  1.100000e+03   \n",
       "25%    8.445268e+05  1.700000e+01  1.550314e+09  6.094681e+17  2.000000e+05   \n",
       "50%    1.689054e+06  3.100000e+01  1.551572e+09  6.153956e+17  6.046020e+05   \n",
       "75%    2.533580e+06  4.300000e+01  1.552700e+09  6.195649e+17  2.001000e+06   \n",
       "max    3.378107e+06  5.300000e+01  3.262338e+09  6.259344e+17  1.677722e+07   \n",
       "\n",
       "       fee_base_msat  fee_rate_milli_msat      min_htlc  \n",
       "count   3.378108e+06         3.378108e+06  3.378108e+06  \n",
       "mean    6.024842e+04         5.295784e+05  1.412378e+03  \n",
       "std     6.169328e+06         3.657706e+07  1.437993e+04  \n",
       "min     0.000000e+00         0.000000e+00  0.000000e+00  \n",
       "25%     5.000000e+02         1.000000e+00  1.000000e+03  \n",
       "50%     1.000000e+03         1.000000e+00  1.000000e+03  \n",
       "75%     1.000000e+03         1.900000e+01  1.000000e+03  \n",
       "max     4.294967e+09         4.294967e+09  1.000000e+06  "
      ]
     },
     "execution_count": 33,
     "metadata": {},
     "output_type": "execute_result"
    }
   ],
   "source": [
    "ln_edges.describe()"
   ]
  },
  {
   "cell_type": "code",
   "execution_count": 34,
   "metadata": {},
   "outputs": [],
   "source": [
    "ln_group=ln_edges.groupby('snapshot_id').agg({'channel_id': pd.Series.nunique,'last_update': pd.Series.nunique})"
   ]
  },
  {
   "cell_type": "code",
   "execution_count": 35,
   "metadata": {},
   "outputs": [
    {
     "data": {
      "text/plain": [
       "<matplotlib.axes._subplots.AxesSubplot at 0x11af60a58>"
      ]
     },
     "execution_count": 35,
     "metadata": {},
     "output_type": "execute_result"
    },
    {
     "data": {
      "image/png": "[encoded data removed]",
      "text/plain": [
       "<Figure size 432x288 with 1 Axes>"
      ]
     },
     "metadata": {
      "needs_background": "light"
     },
     "output_type": "display_data"
    }
   ],
   "source": [
    "ln_group.plot.bar()"
   ]
  },
  {
   "cell_type": "code",
   "execution_count": 36,
   "metadata": {},
   "outputs": [
    {
     "name": "stdout",
     "output_type": "stream",
     "text": [
      "54\n"
     ]
    }
   ],
   "source": [
    "print(len(ln_group))"
   ]
  },
  {
   "cell_type": "code",
   "execution_count": 37,
   "metadata": {},
   "outputs": [
    {
     "data": {
      "text/html": [
       "<div>\n",
       "<style scoped>\n",
       "    .dataframe tbody tr th:only-of-type {\n",
       "        vertical-align: middle;\n",
       "    }\n",
       "\n",
       "    .dataframe tbody tr th {\n",
       "        vertical-align: top;\n",
       "    }\n",
       "\n",
       "    .dataframe thead th {\n",
       "        text-align: right;\n",
       "    }\n",
       "</style>\n",
       "<table border=\"1\" class=\"dataframe\">\n",
       "  <thead>\n",
       "    <tr style=\"text-align: right;\">\n",
       "      <th></th>\n",
       "      <th>channel_id</th>\n",
       "      <th>last_update</th>\n",
       "    </tr>\n",
       "    <tr>\n",
       "      <th>snapshot_id</th>\n",
       "      <th></th>\n",
       "      <th></th>\n",
       "    </tr>\n",
       "  </thead>\n",
       "  <tbody>\n",
       "    <tr>\n",
       "      <th>0</th>\n",
       "      <td>22450</td>\n",
       "      <td>10562</td>\n",
       "    </tr>\n",
       "    <tr>\n",
       "      <th>1</th>\n",
       "      <td>22570</td>\n",
       "      <td>10888</td>\n",
       "    </tr>\n",
       "    <tr>\n",
       "      <th>2</th>\n",
       "      <td>22797</td>\n",
       "      <td>10578</td>\n",
       "    </tr>\n",
       "    <tr>\n",
       "      <th>3</th>\n",
       "      <td>22943</td>\n",
       "      <td>10733</td>\n",
       "    </tr>\n",
       "    <tr>\n",
       "      <th>4</th>\n",
       "      <td>23178</td>\n",
       "      <td>10605</td>\n",
       "    </tr>\n",
       "  </tbody>\n",
       "</table>\n",
       "</div>"
      ],
      "text/plain": [
       "             channel_id  last_update\n",
       "snapshot_id                         \n",
       "0                 22450        10562\n",
       "1                 22570        10888\n",
       "2                 22797        10578\n",
       "3                 22943        10733\n",
       "4                 23178        10605"
      ]
     },
     "execution_count": 37,
     "metadata": {},
     "output_type": "execute_result"
    }
   ],
   "source": [
    "ln_group.head()"
   ]
  },
  {
   "cell_type": "code",
   "execution_count": 38,
   "metadata": {},
   "outputs": [
    {
     "data": {
      "text/plain": [
       "611555"
      ]
     },
     "execution_count": 38,
     "metadata": {},
     "output_type": "execute_result"
    }
   ],
   "source": [
    "pd.Series.nunique(ln_edges['last_update'])"
   ]
  },
  {
   "cell_type": "code",
   "execution_count": 19,
   "metadata": {},
   "outputs": [
    {
     "data": {
      "text/plain": [
       "54"
      ]
     },
     "execution_count": 19,
     "metadata": {},
     "output_type": "execute_result"
    }
   ],
   "source": [
    "pd.Series.nunique(ln_edges['snapshot_id'])"
   ]
  },
  {
   "cell_type": "code",
   "execution_count": 20,
   "metadata": {},
   "outputs": [
    {
     "data": {
      "text/plain": [
       "59590"
      ]
     },
     "execution_count": 20,
     "metadata": {},
     "output_type": "execute_result"
    }
   ],
   "source": [
    "pd.Series.nunique(ln_edges['channel_id'])"
   ]
  },
  {
   "cell_type": "code",
   "execution_count": 29,
   "metadata": {},
   "outputs": [
    {
     "name": "stdout",
     "output_type": "stream",
     "text": [
      "Earliest update: 1521522116, Latest update: 3262337834\n"
     ]
    }
   ],
   "source": [
    "print('Earliest update: {}, Latest update: {}'.format(min(ln_edges['last_update']),max(ln_edges['last_update'])))"
   ]
  },
  {
   "cell_type": "code",
   "execution_count": null,
   "metadata": {},
   "outputs": [],
   "source": [
    "ln_group.plot"
   ]
  },
  {
   "cell_type": "code",
   "execution_count": null,
   "metadata": {},
   "outputs": [],
   "source": [
    "# The last "
   ]
  },
  {
   "cell_type": "code",
   "execution_count": 46,
   "metadata": {},
   "outputs": [],
   "source": [
    "# Updates per channel\n",
    "ln_group_ch=ln_edges.groupby('channel_id').agg({'last_update': pd.Series.nunique})"
   ]
  },
  {
   "cell_type": "code",
   "execution_count": 53,
   "metadata": {},
   "outputs": [
    {
     "data": {
      "text/html": [
       "<div>\n",
       "<style scoped>\n",
       "    .dataframe tbody tr th:only-of-type {\n",
       "        vertical-align: middle;\n",
       "    }\n",
       "\n",
       "    .dataframe tbody tr th {\n",
       "        vertical-align: top;\n",
       "    }\n",
       "\n",
       "    .dataframe thead th {\n",
       "        text-align: right;\n",
       "    }\n",
       "</style>\n",
       "<table border=\"1\" class=\"dataframe\">\n",
       "  <thead>\n",
       "    <tr style=\"text-align: right;\">\n",
       "      <th></th>\n",
       "      <th>channel_id</th>\n",
       "      <th>last_update</th>\n",
       "    </tr>\n",
       "  </thead>\n",
       "  <tbody>\n",
       "    <tr>\n",
       "      <th>0</th>\n",
       "      <td>557504072480260097</td>\n",
       "      <td>5</td>\n",
       "    </tr>\n",
       "    <tr>\n",
       "      <th>1</th>\n",
       "      <td>559493088906641408</td>\n",
       "      <td>2</td>\n",
       "    </tr>\n",
       "    <tr>\n",
       "      <th>2</th>\n",
       "      <td>563755895464329216</td>\n",
       "      <td>5</td>\n",
       "    </tr>\n",
       "    <tr>\n",
       "      <th>3</th>\n",
       "      <td>564791635544965120</td>\n",
       "      <td>2</td>\n",
       "    </tr>\n",
       "    <tr>\n",
       "      <th>4</th>\n",
       "      <td>564919178848108545</td>\n",
       "      <td>53</td>\n",
       "    </tr>\n",
       "  </tbody>\n",
       "</table>\n",
       "</div>"
      ],
      "text/plain": [
       "           channel_id  last_update\n",
       "0  557504072480260097            5\n",
       "1  559493088906641408            2\n",
       "2  563755895464329216            5\n",
       "3  564791635544965120            2\n",
       "4  564919178848108545           53"
      ]
     },
     "execution_count": 53,
     "metadata": {},
     "output_type": "execute_result"
    }
   ],
   "source": [
    "ln_group_ch.reset_index().head()"
   ]
  },
  {
   "cell_type": "code",
   "execution_count": 57,
   "metadata": {},
   "outputs": [
    {
     "data": {
      "text/plain": [
       "<matplotlib.axes._subplots.AxesSubplot at 0x11be9d438>"
      ]
     },
     "execution_count": 57,
     "metadata": {},
     "output_type": "execute_result"
    },
    {
     "data": {
      "image/png": "[encoded data removed]",
      "text/plain": [
       "<Figure size 432x288 with 1 Axes>"
      ]
     },
     "metadata": {
      "needs_background": "light"
     },
     "output_type": "display_data"
    }
   ],
   "source": [
    "#How often were channels updated\n",
    "ln_group_ch.plot.hist()"
   ]
  },
  {
   "cell_type": "markdown",
   "metadata": {},
   "source": [
    "## Snapshot Dataset"
   ]
  },
  {
   "cell_type": "code",
   "execution_count": null,
   "metadata": {},
   "outputs": [],
   "source": []
  }
 ],
 "metadata": {
  "kernelspec": {
   "display_name": "graphanalysis",
   "language": "python",
   "name": "graphanalysis"
  },
  "language_info": {
   "codemirror_mode": {
    "name": "ipython",
    "version": 3
   },
   "file_extension": ".py",
   "mimetype": "text/x-python",
   "name": "python",
   "nbconvert_exporter": "python",
   "pygments_lexer": "ipython3",
   "version": "3.6.7"
  }
 },
 "nbformat": 4,
 "nbformat_minor": 2
}
