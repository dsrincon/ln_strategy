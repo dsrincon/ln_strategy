{
 "cells": [
  {
   "cell_type": "markdown",
   "metadata": {},
   "source": [
    "# LN - Data PP - Graph definition "
   ]
  },
  {
   "cell_type": "markdown",
   "metadata": {},
   "source": [
    "## Libraries, data and directory"
   ]
  },
  {
   "cell_type": "code",
   "execution_count": 1,
   "metadata": {},
   "outputs": [],
   "source": [
    "import sqlite3\n",
    "import numpy as np\n",
    "import pandas as pd\n",
    "import networkx as nx\n",
    "import itertools\n",
    "import matplotlib.pyplot as plt\n",
    "import time\n",
    "import random\n",
    "\n",
    "from tqdm.notebook import trange, tqdm\n",
    "from time import sleep\n",
    "\n"
   ]
  },
  {
   "cell_type": "code",
   "execution_count": 2,
   "metadata": {},
   "outputs": [],
   "source": [
    "directory='/Users/dsrincon/Dropbox/Personal/EDU/Posgrado/masters_usa/MIMS/research/MIMS_capstone'"
   ]
  },
  {
   "cell_type": "code",
   "execution_count": 3,
   "metadata": {},
   "outputs": [],
   "source": [
    "# Create your connection.\n",
    "cnx = sqlite3.connect(directory+'/Data/LN_channels.db')\n",
    "df = pd.read_sql_query(\"SELECT * FROM channels\", cnx)\n"
   ]
  },
  {
   "cell_type": "code",
   "execution_count": 140,
   "metadata": {},
   "outputs": [
    {
     "data": {
      "text/html": [
       "<div>\n",
       "<style scoped>\n",
       "    .dataframe tbody tr th:only-of-type {\n",
       "        vertical-align: middle;\n",
       "    }\n",
       "\n",
       "    .dataframe tbody tr th {\n",
       "        vertical-align: top;\n",
       "    }\n",
       "\n",
       "    .dataframe thead th {\n",
       "        text-align: right;\n",
       "    }\n",
       "</style>\n",
       "<table border=\"1\" class=\"dataframe\">\n",
       "  <thead>\n",
       "    <tr style=\"text-align: right;\">\n",
       "      <th></th>\n",
       "      <th>short_channel_id</th>\n",
       "      <th>open_block</th>\n",
       "      <th>open_transaction</th>\n",
       "      <th>address</th>\n",
       "      <th>close_block</th>\n",
       "      <th>close_transaction</th>\n",
       "      <th>node0</th>\n",
       "      <th>node1</th>\n",
       "      <th>satoshis</th>\n",
       "      <th>last_seen</th>\n",
       "      <th>open_time</th>\n",
       "      <th>open_fee</th>\n",
       "      <th>close_time</th>\n",
       "      <th>close_fee</th>\n",
       "      <th>last_update</th>\n",
       "      <th>close_type</th>\n",
       "      <th>close_htlc_count</th>\n",
       "      <th>close_balance_a</th>\n",
       "      <th>close_balance_b</th>\n",
       "      <th>dec_id</th>\n",
       "    </tr>\n",
       "  </thead>\n",
       "  <tbody>\n",
       "    <tr>\n",
       "      <th>0</th>\n",
       "      <td>505149x622x0</td>\n",
       "      <td>505149</td>\n",
       "      <td>f6bc767df9148ebf76d2b9baf4eb46e3230712c2bf5a51...</td>\n",
       "      <td>bc1qjmg6ev344fenh3zhg0yjl6hyvxpxluw6x9nn2a5lv4...</td>\n",
       "      <td>592638.0</td>\n",
       "      <td>82cb2ea2a06c8c453d8b9ca08e17bbefe87225aa380b2d...</td>\n",
       "      <td>0250373555232cec757ea141273e75381c84cc3ab22f1e...</td>\n",
       "      <td>02ef61a252f9504a42fc264a28476f44cea0711a44b2da...</td>\n",
       "      <td>300000</td>\n",
       "      <td>2019-08-22 02:49:00</td>\n",
       "      <td>1516441417</td>\n",
       "      <td>40748</td>\n",
       "      <td>1.567276e+09</td>\n",
       "      <td>184.0</td>\n",
       "      <td>1.563172e+09</td>\n",
       "      <td>mutual</td>\n",
       "      <td>0.0</td>\n",
       "      <td>3570.0</td>\n",
       "      <td>296246.0</td>\n",
       "      <td>0</td>\n",
       "    </tr>\n",
       "    <tr>\n",
       "      <th>1</th>\n",
       "      <td>513675x2245x0</td>\n",
       "      <td>513675</td>\n",
       "      <td>4297b5fe9beeb701c67fd0f84861b22edbcafe5c25be67...</td>\n",
       "      <td>bc1qymmdt0vzhdjqyqw2cevrqppp6rrlg5j2l20yk72z6y...</td>\n",
       "      <td>594718.0</td>\n",
       "      <td>3f86d9427c750f37a963b5a329da8941520f5a6cdbfe02...</td>\n",
       "      <td>028aa5a991a2acf33da91674fe062219b640e5e57d77a4...</td>\n",
       "      <td>03fab7f8655169ea77d9691d4bd359e97782cb6177a6f7...</td>\n",
       "      <td>50000</td>\n",
       "      <td>2019-10-07 02:42:58</td>\n",
       "      <td>1521144238</td>\n",
       "      <td>306</td>\n",
       "      <td>1.568401e+09</td>\n",
       "      <td>4410.0</td>\n",
       "      <td>1.552879e+09</td>\n",
       "      <td>unused</td>\n",
       "      <td>0.0</td>\n",
       "      <td>45590.0</td>\n",
       "      <td>0.0</td>\n",
       "      <td>1</td>\n",
       "    </tr>\n",
       "    <tr>\n",
       "      <th>2</th>\n",
       "      <td>513887x1177x0</td>\n",
       "      <td>513887</td>\n",
       "      <td>3b4cc434e62c1739e79171c7c1641bf9ac0e32d8530c68...</td>\n",
       "      <td>bc1q48l3h7sfdjaqat3sy98naltkwlujwefwnkfqxfm8fd...</td>\n",
       "      <td>NaN</td>\n",
       "      <td>None</td>\n",
       "      <td>02d97e94cfeedca2a3da47acb400bc6836e671b3cb3fc0...</td>\n",
       "      <td>03fab7f8655169ea77d9691d4bd359e97782cb6177a6f7...</td>\n",
       "      <td>50000</td>\n",
       "      <td>2020-02-14 03:15:22</td>\n",
       "      <td>1521262476</td>\n",
       "      <td>442</td>\n",
       "      <td>NaN</td>\n",
       "      <td>NaN</td>\n",
       "      <td>1.581536e+09</td>\n",
       "      <td>None</td>\n",
       "      <td>NaN</td>\n",
       "      <td>NaN</td>\n",
       "      <td>NaN</td>\n",
       "      <td>2</td>\n",
       "    </tr>\n",
       "    <tr>\n",
       "      <th>3</th>\n",
       "      <td>513909x1248x0</td>\n",
       "      <td>513909</td>\n",
       "      <td>86311514680351b1e644276efd7704ba13be169cc1a272...</td>\n",
       "      <td>bc1q24kvd9wdjdhwgr54fmu7cu9xldmsjuwdsq2ph5fwnj...</td>\n",
       "      <td>NaN</td>\n",
       "      <td>None</td>\n",
       "      <td>02ad6fb8d693dc1e4569bcedefadf5f72a931ae027dc0f...</td>\n",
       "      <td>03fab7f8655169ea77d9691d4bd359e97782cb6177a6f7...</td>\n",
       "      <td>20000</td>\n",
       "      <td>2020-02-14 03:15:26</td>\n",
       "      <td>1521271023</td>\n",
       "      <td>306</td>\n",
       "      <td>NaN</td>\n",
       "      <td>NaN</td>\n",
       "      <td>1.581464e+09</td>\n",
       "      <td>None</td>\n",
       "      <td>NaN</td>\n",
       "      <td>NaN</td>\n",
       "      <td>NaN</td>\n",
       "      <td>3</td>\n",
       "    </tr>\n",
       "    <tr>\n",
       "      <th>4</th>\n",
       "      <td>513910x1814x1</td>\n",
       "      <td>513910</td>\n",
       "      <td>7f010765ce336d2be78c846844544e6a06ce2c59e7785f...</td>\n",
       "      <td>bc1qzh9xrpqvyse7fuanc8tl5e75qymq5fzk3deh78hs02...</td>\n",
       "      <td>NaN</td>\n",
       "      <td>None</td>\n",
       "      <td>02ad6fb8d693dc1e4569bcedefadf5f72a931ae027dc0f...</td>\n",
       "      <td>03fab7f8655169ea77d9691d4bd359e97782cb6177a6f7...</td>\n",
       "      <td>20000</td>\n",
       "      <td>2020-02-14 03:15:26</td>\n",
       "      <td>1521272338</td>\n",
       "      <td>153</td>\n",
       "      <td>NaN</td>\n",
       "      <td>NaN</td>\n",
       "      <td>1.581466e+09</td>\n",
       "      <td>None</td>\n",
       "      <td>NaN</td>\n",
       "      <td>NaN</td>\n",
       "      <td>NaN</td>\n",
       "      <td>4</td>\n",
       "    </tr>\n",
       "  </tbody>\n",
       "</table>\n",
       "</div>"
      ],
      "text/plain": [
       "  short_channel_id  open_block  \\\n",
       "0     505149x622x0      505149   \n",
       "1    513675x2245x0      513675   \n",
       "2    513887x1177x0      513887   \n",
       "3    513909x1248x0      513909   \n",
       "4    513910x1814x1      513910   \n",
       "\n",
       "                                    open_transaction  \\\n",
       "0  f6bc767df9148ebf76d2b9baf4eb46e3230712c2bf5a51...   \n",
       "1  4297b5fe9beeb701c67fd0f84861b22edbcafe5c25be67...   \n",
       "2  3b4cc434e62c1739e79171c7c1641bf9ac0e32d8530c68...   \n",
       "3  86311514680351b1e644276efd7704ba13be169cc1a272...   \n",
       "4  7f010765ce336d2be78c846844544e6a06ce2c59e7785f...   \n",
       "\n",
       "                                             address  close_block  \\\n",
       "0  bc1qjmg6ev344fenh3zhg0yjl6hyvxpxluw6x9nn2a5lv4...     592638.0   \n",
       "1  bc1qymmdt0vzhdjqyqw2cevrqppp6rrlg5j2l20yk72z6y...     594718.0   \n",
       "2  bc1q48l3h7sfdjaqat3sy98naltkwlujwefwnkfqxfm8fd...          NaN   \n",
       "3  bc1q24kvd9wdjdhwgr54fmu7cu9xldmsjuwdsq2ph5fwnj...          NaN   \n",
       "4  bc1qzh9xrpqvyse7fuanc8tl5e75qymq5fzk3deh78hs02...          NaN   \n",
       "\n",
       "                                   close_transaction  \\\n",
       "0  82cb2ea2a06c8c453d8b9ca08e17bbefe87225aa380b2d...   \n",
       "1  3f86d9427c750f37a963b5a329da8941520f5a6cdbfe02...   \n",
       "2                                               None   \n",
       "3                                               None   \n",
       "4                                               None   \n",
       "\n",
       "                                               node0  \\\n",
       "0  0250373555232cec757ea141273e75381c84cc3ab22f1e...   \n",
       "1  028aa5a991a2acf33da91674fe062219b640e5e57d77a4...   \n",
       "2  02d97e94cfeedca2a3da47acb400bc6836e671b3cb3fc0...   \n",
       "3  02ad6fb8d693dc1e4569bcedefadf5f72a931ae027dc0f...   \n",
       "4  02ad6fb8d693dc1e4569bcedefadf5f72a931ae027dc0f...   \n",
       "\n",
       "                                               node1  satoshis  \\\n",
       "0  02ef61a252f9504a42fc264a28476f44cea0711a44b2da...    300000   \n",
       "1  03fab7f8655169ea77d9691d4bd359e97782cb6177a6f7...     50000   \n",
       "2  03fab7f8655169ea77d9691d4bd359e97782cb6177a6f7...     50000   \n",
       "3  03fab7f8655169ea77d9691d4bd359e97782cb6177a6f7...     20000   \n",
       "4  03fab7f8655169ea77d9691d4bd359e97782cb6177a6f7...     20000   \n",
       "\n",
       "             last_seen   open_time  open_fee    close_time  close_fee  \\\n",
       "0  2019-08-22 02:49:00  1516441417     40748  1.567276e+09      184.0   \n",
       "1  2019-10-07 02:42:58  1521144238       306  1.568401e+09     4410.0   \n",
       "2  2020-02-14 03:15:22  1521262476       442           NaN        NaN   \n",
       "3  2020-02-14 03:15:26  1521271023       306           NaN        NaN   \n",
       "4  2020-02-14 03:15:26  1521272338       153           NaN        NaN   \n",
       "\n",
       "    last_update close_type  close_htlc_count  close_balance_a  \\\n",
       "0  1.563172e+09     mutual               0.0           3570.0   \n",
       "1  1.552879e+09     unused               0.0          45590.0   \n",
       "2  1.581536e+09       None               NaN              NaN   \n",
       "3  1.581464e+09       None               NaN              NaN   \n",
       "4  1.581466e+09       None               NaN              NaN   \n",
       "\n",
       "   close_balance_b  dec_id  \n",
       "0         296246.0       0  \n",
       "1              0.0       1  \n",
       "2              NaN       2  \n",
       "3              NaN       3  \n",
       "4              NaN       4  "
      ]
     },
     "execution_count": 140,
     "metadata": {},
     "output_type": "execute_result"
    }
   ],
   "source": [
    "df['dec_id']=df.index # Add column with decission id\n",
    "df.head()"
   ]
  },
  {
   "cell_type": "markdown",
   "metadata": {},
   "source": [
    "## Extract decisions per blocks"
   ]
  },
  {
   "cell_type": "markdown",
   "metadata": {},
   "source": [
    "### Create Blocks and nodes"
   ]
  },
  {
   "cell_type": "code",
   "execution_count": 84,
   "metadata": {},
   "outputs": [
    {
     "name": "stdout",
     "output_type": "stream",
     "text": [
      "Total blocks with decisions: 36543\n"
     ]
    }
   ],
   "source": [
    "# Generate block array with blocks where decisions have taken place. \n",
    "\n",
    "# Find blocks where opening decisions have taken place\n",
    "blocks_open=df.open_block.to_numpy()\n",
    "blocks_open=np.unique(blocks_open)\n",
    "\n",
    "# Find blocks where closing deciscions have taken place\n",
    "blocks_close=df.close_block.to_numpy()\n",
    "blocks_close=np.nan_to_num(blocks_close)\n",
    "blocks_close=np.unique(blocks_close)\n",
    "\n",
    "\n",
    "# Union of blocks with opening and closing decisions\n",
    "blocks=set(blocks_open).union(blocks_close)\n",
    "blocks=list(blocks)\n",
    "blocks=np.sort(np.array(blocks))\n",
    "blocks=blocks[1:] # N/A will create a block 0 that needs to be removed\n",
    "blocks=blocks.astype(int)\n",
    "\n",
    "\n",
    "print('Total blocks with decisions: {}'.format(len(blocks)))"
   ]
  },
  {
   "cell_type": "code",
   "execution_count": 65,
   "metadata": {},
   "outputs": [
    {
     "name": "stdout",
     "output_type": "stream",
     "text": [
      "Total nodes: 7735\n"
     ]
    }
   ],
   "source": [
    "# Generate nodes\n",
    "nodes=set(df.node0).union(set(df.node1))\n",
    "nodes=list(nodes)\n",
    "print('Total nodes: {}'.format(len(nodes)))"
   ]
  },
  {
   "cell_type": "markdown",
   "metadata": {},
   "source": [
    "### Extract channel openings"
   ]
  },
  {
   "cell_type": "code",
   "execution_count": 111,
   "metadata": {},
   "outputs": [],
   "source": [
    "# Generate dictionary of channel openings\n",
    "channel_opens={}\n",
    "for b in blocks:\n",
    "    channel_array=df[df['open_block']==b][['node0','node1','satoshis','open_fee','dec_id']].to_numpy()\n",
    "    list_channels=[(channel[0],channel[1],{'capacity':channel[2],'open_fee':channel[3],'dec_id':channel[4]}) for channel in channel_array]\n",
    "    channel_opens[b]=list_channels\n",
    "    \n"
   ]
  },
  {
   "cell_type": "code",
   "execution_count": 125,
   "metadata": {},
   "outputs": [
    {
     "name": "stdout",
     "output_type": "stream",
     "text": [
      "Total opens:72476 \n",
      "Registered opens: 72476\n",
      "Data Sample for 'channel_opens dictionary for block 579337'\n",
      "[('03d06758583bb5154774a6eb221b1276c9e82d65bbaceca806d90e20c108f4b1c7', '03fce165537aea120bffe8505876b44d5119354f825b3eac329b761fc5636bf334', {'capacity': 4194304, 'open_fee': 19646, 'dec_id': 38513})]\n"
     ]
    }
   ],
   "source": [
    "# TESTING: Channel openings\n",
    "## sum of openings should be equivalent to openings from Data Frame\n",
    "\n",
    "total_opens=len(df['open_block'])\n",
    "saved_opens=np.sum(np.array([len(opens) for opens in list(channel_opens.values()) ]))\n",
    "only_open_dic={b:opens for b,opens in channel_opens.items() if len(opens)>0}\n",
    "                \n",
    "print('Total opens:{} '.format(total_opens))\n",
    "print('Registered opens: {}'.format(saved_opens))\n",
    "\n",
    "rand_block=random.choice(list(only_open_dic.keys()))\n",
    "print(\"Data Sample for 'channel_opens dictionary for block {}'\".format(rand_block))\n",
    "print(channel_opens[rand_block])"
   ]
  },
  {
   "cell_type": "code",
   "execution_count": null,
   "metadata": {},
   "outputs": [],
   "source": [
    "# SAVE: Channel openings to disk\n",
    "np.save('/Users/dsrincon/Dropbox/Personal/EDU/Posgrado/masters_usa/MIMS/research/miner_network/data/dir_miner_trans_edges.npy',dir_edges_array)"
   ]
  },
  {
   "cell_type": "markdown",
   "metadata": {},
   "source": [
    "### Extract channel closures"
   ]
  },
  {
   "cell_type": "code",
   "execution_count": 120,
   "metadata": {},
   "outputs": [],
   "source": [
    "# Generate dictionary of channel closures\n",
    "channel_closures={}\n",
    "for b in blocks:\n",
    "    channel_array=df[df['close_block']==b][['node0','node1','close_type','dec_id']].to_numpy()\n",
    "    list_channels=[(channel[0],channel[1],{'close_type':channel[2],'dec_id':channel[3]}) for channel in channel_array]\n",
    "    channel_closures[b]=list_channels\n",
    "\n"
   ]
  },
  {
   "cell_type": "code",
   "execution_count": 137,
   "metadata": {},
   "outputs": [
    {
     "name": "stdout",
     "output_type": "stream",
     "text": [
      "Total closes:38355 \n",
      "Registered closes: 38355\n",
      "Data Sample for 'channel_closures dictionary for block 595887'\n",
      "[('02b5a2e0c719aa962f7bbffc07ac6bc9eb8e4be2cce124a6e6569eb0a4242c96fa', '03abf6f44c355dec0d5aa155bdbdd6e0c8fefe318eff402de65c6eb2e1be55dc3e', {'close_type': 'unused', 'dec_id': 54145}), ('02a0bc43557fae6af7be8e3a29fdebda819e439bea9c0f8eb8ed6a0201f3471ca9', '02b5a2e0c719aa962f7bbffc07ac6bc9eb8e4be2cce124a6e6569eb0a4242c96fa', {'close_type': 'unused', 'dec_id': 54149}), ('0274a542b693385f9e38d7acf4017ed31748d00693ff219c54e1b33749595a7419', '02b5a2e0c719aa962f7bbffc07ac6bc9eb8e4be2cce124a6e6569eb0a4242c96fa', {'close_type': 'unused', 'dec_id': 54150}), ('02b5a2e0c719aa962f7bbffc07ac6bc9eb8e4be2cce124a6e6569eb0a4242c96fa', '0390b5d4492dc2f5318e5233ab2cebf6d48914881a33ef6a9c6bcdbb433ad986d0', {'close_type': 'unused', 'dec_id': 54153}), ('02a04446caa81636d60d63b066f2814cbd3a6b5c258e3172cbdded7a16e2cfff4c', '02b5a2e0c719aa962f7bbffc07ac6bc9eb8e4be2cce124a6e6569eb0a4242c96fa', {'close_type': 'unused', 'dec_id': 54156})]\n"
     ]
    }
   ],
   "source": [
    "# TESTING: Channel closures\n",
    "total_closes=len(df[pd.notna(df['close_block'])])\n",
    "\n",
    "saved_closes=np.sum(np.array([len(closes) for closes in list(channel_closures.values()) ]))\n",
    "only_close_dic={b:closes for b,closes in channel_closures.items() if len(closes)>0}\n",
    "                \n",
    "print('Total closes:{} '.format(total_closes))\n",
    "print('Registered closes: {}'.format(saved_closes))\n",
    "\n",
    "rand_block=random.choice(list(only_close_dic.keys()))\n",
    "print(\"Data Sample for 'channel_closures dictionary for block {}'\".format(rand_block))\n",
    "print(channel_closures[rand_block])"
   ]
  },
  {
   "cell_type": "markdown",
   "metadata": {},
   "source": [
    "### Create Graph snapshots (per block)"
   ]
  },
  {
   "cell_type": "code",
   "execution_count": null,
   "metadata": {},
   "outputs": [
    {
     "data": {
      "application/vnd.jupyter.widget-view+json": {
       "model_id": "602d3bb864f245998b037f041aa54113",
       "version_major": 2,
       "version_minor": 0
      },
      "text/plain": [
       "HBox(children=(FloatProgress(value=0.0, max=36543.0), HTML(value='')))"
      ]
     },
     "metadata": {},
     "output_type": "display_data"
    }
   ],
   "source": [
    "# Create sequential snapshots of graph\n",
    "\n",
    "graph_snapshots={} # Initialize dic where graphs for each block will be stored\n",
    "connected_size_snapshots=[] # Initialize array to store what percentage of total graph is the connected component\n",
    "\n",
    "\n",
    "\n",
    "# Initialize Graph\n",
    "\n",
    "G=nx.Graph()\n",
    "G.add_edges_from(channel_opens[b])\n",
    "G.remove_edges_from(channel_closures[b])\n",
    "graph_snapshots[blocks[0]]=G\n",
    "\n",
    "#snapshots=2000\n",
    "snapshots=len(blocks) #- UNCOMMENT for full processing\n",
    "\n",
    "#for i in range(len(blocks)): \n",
    "with tqdm(total=len(range(snapshots))) as pbar:\n",
    "    for i in range(snapshots):\n",
    "    \n",
    "        # Add new edges\n",
    "\n",
    "        G.add_edges_from(channel_opens[blocks[i]])\n",
    "\n",
    "        # Remove edges\n",
    "        ## Create temp list of closures that removes metadata to remove from graph\n",
    "        closure_pairs=[(closure[0],closure[1]) for closure in channel_closures[blocks[i]]]\n",
    "        G.remove_edges_from(channel_closures[blocks[i]])\n",
    "\n",
    "        # Clean remaining graph to only select the largest connected component\n",
    "        ## Extract largest connected component and store its size relative to whole graph\n",
    "\n",
    "        connected_components=[G.subgraph(c).copy() for c in nx.algorithms.components.connected_components(G)]\n",
    "        G_connected=connected_components[0]\n",
    "        largest_component_ratio=len(G_connected)/len(G)\n",
    "        connected_size_snapshots.append(largest_component_ratio)\n",
    "        G=G_connected # Update graph to keep transforming in next round\n",
    "        graph_snapshots[blocks[i]]=G.copy() # Store transformed version for current block\n",
    "        pbar.update(1)"
   ]
  },
  {
   "cell_type": "code",
   "execution_count": 106,
   "metadata": {},
   "outputs": [
    {
     "name": "stdout",
     "output_type": "stream",
     "text": [
      "3000 blocks analyzed (min:505149, max549654):\n",
      "Average connectivity of blocks: 1.0\n",
      "Average ratio of connected component:0.8006655536321385\n"
     ]
    },
    {
     "data": {
      "text/plain": [
       "<matplotlib.legend.Legend at 0x1ce99a470>"
      ]
     },
     "execution_count": 106,
     "metadata": {},
     "output_type": "execute_result"
    },
    {
     "data": {
      "image/png": "[encoded data removed]",
      "text/plain": [
       "<Figure size 576x576 with 2 Axes>"
      ]
     },
     "metadata": {
      "needs_background": "light"
     },
     "output_type": "display_data"
    }
   ],
   "source": [
    "# Test that graph snapshots have been been correctly created \n",
    "\n",
    "# Number of blocks extracted, min and max block\n",
    "blocks_analyzed=np.array(sorted(graph_snapshots.keys()))\n",
    "max_block=np.max(blocks_analyzed)\n",
    "min_block=np.min(blocks_analyzed)\n",
    "no_blocks=len(blocks_analyzed)\n",
    "\n",
    "# Graph characteristics\n",
    "\n",
    "snapshot_nodes=[len(graph_snapshots[k]) for k in sorted(graph_snapshots.keys())]\n",
    "snapshot_edges=[len(list(graph_snapshots[k].edges)) for k in sorted(graph_snapshots.keys())]\n",
    "\n",
    "# Test attributes\n",
    "\n",
    "mean_snapshot_ratio=np.mean(np.array(connected_size_snapshots))\n",
    "snapshot_connectivity=[int(nx.algorithms.components.is_connected(graph_snapshots[k])) for k in sorted(graph_snapshots.keys())]\n",
    "mean_connectivity=np.mean(np.array(snapshot_connectivity))\n",
    "\n",
    "\n",
    "# Results\n",
    "print('{} blocks analyzed (min:{}, max{}):'.format(no_blocks,min_block,max_block))\n",
    "print('Average connectivity of blocks: {}'.format(mean_connectivity))\n",
    "print('Average ratio of connected component:{}'.format(mean_snapshot_ratio))\n",
    "\n",
    "# Visualize evolutio of size\n",
    "\n",
    "fig,ax1=plt.subplots(figsize=(8,8))\n",
    "ax1.plot(blocks_analyzed, snapshot_nodes)\n",
    "ax1.plot(blocks_analyzed, snapshot_edges)\n",
    "ax2=ax1.twinx()\n",
    "ax1.legend(['nodes', 'edges'], loc='upper left')\n",
    "ax2.plot(blocks_analyzed, connected_size_snapshots,color='green')\n",
    "ax2.legend(['ratio'], loc='upper center')\n",
    "\n",
    "#plt.show()"
   ]
  },
  {
   "cell_type": "code",
   "execution_count": 146,
   "metadata": {},
   "outputs": [],
   "source": [
    "# Safe Decisions Dataframe to disk\n",
    "df.to_csv(directory+'/Data/LN_channels.csv')"
   ]
  }
 ],
 "metadata": {
  "anaconda-cloud": {},
  "kernelspec": {
   "display_name": "graphanalysis",
   "language": "python",
   "name": "graphanalysis"
  },
  "language_info": {
   "codemirror_mode": {
    "name": "ipython",
    "version": 3
   },
   "file_extension": ".py",
   "mimetype": "text/x-python",
   "name": "python",
   "nbconvert_exporter": "python",
   "pygments_lexer": "ipython3",
   "version": "3.6.7"
  }
 },
 "nbformat": 4,
 "nbformat_minor": 1
}
