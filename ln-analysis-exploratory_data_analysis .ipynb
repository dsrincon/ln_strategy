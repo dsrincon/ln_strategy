{
 "cells": [
  {
   "cell_type": "markdown",
   "metadata": {},
   "source": [
    "# Lightning Network (LN) - Exploratory data analysis and cleansing"
   ]
  },
  {
   "cell_type": "markdown",
   "metadata": {},
   "source": [
    "## Loading libraries and mounting drive"
   ]
  },
  {
   "cell_type": "code",
   "execution_count": 1,
   "metadata": {},
   "outputs": [],
   "source": [
    "import sqlite3\n",
    "import numpy as np\n",
    "import pandas as pd\n",
    "import networkx as nx\n",
    "import itertools\n",
    "import matplotlib.pyplot as plt\n",
    "import time"
   ]
  },
  {
   "cell_type": "markdown",
   "metadata": {},
   "source": [
    "## Loading data"
   ]
  },
  {
   "cell_type": "code",
   "execution_count": 2,
   "metadata": {},
   "outputs": [],
   "source": [
    "# Create your connection.\n",
    "cnx = sqlite3.connect('/Users/dsrincon/Dropbox/Personal/EDU/Posgrado/masters_usa/MIMS/research/MIMS_capstone/Data/LN_channels.db')\n",
    "df = pd.read_sql_query(\"SELECT * FROM channels\", cnx)\n",
    "df.to_csv(r'/Users/dsrincon/Dropbox/Personal/EDU/Posgrado/masters_usa/MIMS/research/MIMS_capstone/Data/LN_channels.csv')"
   ]
  },
  {
   "cell_type": "code",
   "execution_count": 3,
   "metadata": {
    "scrolled": true
   },
   "outputs": [
    {
     "data": {
      "text/html": [
       "<div>\n",
       "<style scoped>\n",
       "    .dataframe tbody tr th:only-of-type {\n",
       "        vertical-align: middle;\n",
       "    }\n",
       "\n",
       "    .dataframe tbody tr th {\n",
       "        vertical-align: top;\n",
       "    }\n",
       "\n",
       "    .dataframe thead th {\n",
       "        text-align: right;\n",
       "    }\n",
       "</style>\n",
       "<table border=\"1\" class=\"dataframe\">\n",
       "  <thead>\n",
       "    <tr style=\"text-align: right;\">\n",
       "      <th></th>\n",
       "      <th>short_channel_id</th>\n",
       "      <th>open_block</th>\n",
       "      <th>open_transaction</th>\n",
       "      <th>address</th>\n",
       "      <th>close_block</th>\n",
       "      <th>close_transaction</th>\n",
       "      <th>node0</th>\n",
       "      <th>node1</th>\n",
       "      <th>satoshis</th>\n",
       "      <th>last_seen</th>\n",
       "      <th>open_time</th>\n",
       "      <th>open_fee</th>\n",
       "      <th>close_time</th>\n",
       "      <th>close_fee</th>\n",
       "      <th>last_update</th>\n",
       "      <th>close_type</th>\n",
       "      <th>close_htlc_count</th>\n",
       "      <th>close_balance_a</th>\n",
       "      <th>close_balance_b</th>\n",
       "    </tr>\n",
       "  </thead>\n",
       "  <tbody>\n",
       "    <tr>\n",
       "      <th>0</th>\n",
       "      <td>505149x622x0</td>\n",
       "      <td>505149</td>\n",
       "      <td>f6bc767df9148ebf76d2b9baf4eb46e3230712c2bf5a51...</td>\n",
       "      <td>bc1qjmg6ev344fenh3zhg0yjl6hyvxpxluw6x9nn2a5lv4...</td>\n",
       "      <td>592638.0</td>\n",
       "      <td>82cb2ea2a06c8c453d8b9ca08e17bbefe87225aa380b2d...</td>\n",
       "      <td>0250373555232cec757ea141273e75381c84cc3ab22f1e...</td>\n",
       "      <td>02ef61a252f9504a42fc264a28476f44cea0711a44b2da...</td>\n",
       "      <td>300000</td>\n",
       "      <td>2019-08-22 02:49:00</td>\n",
       "      <td>1516441417</td>\n",
       "      <td>40748</td>\n",
       "      <td>1.567276e+09</td>\n",
       "      <td>184.0</td>\n",
       "      <td>1.563172e+09</td>\n",
       "      <td>mutual</td>\n",
       "      <td>0.0</td>\n",
       "      <td>3570.0</td>\n",
       "      <td>296246.0</td>\n",
       "    </tr>\n",
       "    <tr>\n",
       "      <th>1</th>\n",
       "      <td>513675x2245x0</td>\n",
       "      <td>513675</td>\n",
       "      <td>4297b5fe9beeb701c67fd0f84861b22edbcafe5c25be67...</td>\n",
       "      <td>bc1qymmdt0vzhdjqyqw2cevrqppp6rrlg5j2l20yk72z6y...</td>\n",
       "      <td>594718.0</td>\n",
       "      <td>3f86d9427c750f37a963b5a329da8941520f5a6cdbfe02...</td>\n",
       "      <td>028aa5a991a2acf33da91674fe062219b640e5e57d77a4...</td>\n",
       "      <td>03fab7f8655169ea77d9691d4bd359e97782cb6177a6f7...</td>\n",
       "      <td>50000</td>\n",
       "      <td>2019-10-07 02:42:58</td>\n",
       "      <td>1521144238</td>\n",
       "      <td>306</td>\n",
       "      <td>1.568401e+09</td>\n",
       "      <td>4410.0</td>\n",
       "      <td>1.552879e+09</td>\n",
       "      <td>unused</td>\n",
       "      <td>0.0</td>\n",
       "      <td>45590.0</td>\n",
       "      <td>0.0</td>\n",
       "    </tr>\n",
       "    <tr>\n",
       "      <th>2</th>\n",
       "      <td>513887x1177x0</td>\n",
       "      <td>513887</td>\n",
       "      <td>3b4cc434e62c1739e79171c7c1641bf9ac0e32d8530c68...</td>\n",
       "      <td>bc1q48l3h7sfdjaqat3sy98naltkwlujwefwnkfqxfm8fd...</td>\n",
       "      <td>NaN</td>\n",
       "      <td>None</td>\n",
       "      <td>02d97e94cfeedca2a3da47acb400bc6836e671b3cb3fc0...</td>\n",
       "      <td>03fab7f8655169ea77d9691d4bd359e97782cb6177a6f7...</td>\n",
       "      <td>50000</td>\n",
       "      <td>2020-02-14 03:15:22</td>\n",
       "      <td>1521262476</td>\n",
       "      <td>442</td>\n",
       "      <td>NaN</td>\n",
       "      <td>NaN</td>\n",
       "      <td>1.581536e+09</td>\n",
       "      <td>None</td>\n",
       "      <td>NaN</td>\n",
       "      <td>NaN</td>\n",
       "      <td>NaN</td>\n",
       "    </tr>\n",
       "    <tr>\n",
       "      <th>3</th>\n",
       "      <td>513909x1248x0</td>\n",
       "      <td>513909</td>\n",
       "      <td>86311514680351b1e644276efd7704ba13be169cc1a272...</td>\n",
       "      <td>bc1q24kvd9wdjdhwgr54fmu7cu9xldmsjuwdsq2ph5fwnj...</td>\n",
       "      <td>NaN</td>\n",
       "      <td>None</td>\n",
       "      <td>02ad6fb8d693dc1e4569bcedefadf5f72a931ae027dc0f...</td>\n",
       "      <td>03fab7f8655169ea77d9691d4bd359e97782cb6177a6f7...</td>\n",
       "      <td>20000</td>\n",
       "      <td>2020-02-14 03:15:26</td>\n",
       "      <td>1521271023</td>\n",
       "      <td>306</td>\n",
       "      <td>NaN</td>\n",
       "      <td>NaN</td>\n",
       "      <td>1.581464e+09</td>\n",
       "      <td>None</td>\n",
       "      <td>NaN</td>\n",
       "      <td>NaN</td>\n",
       "      <td>NaN</td>\n",
       "    </tr>\n",
       "    <tr>\n",
       "      <th>4</th>\n",
       "      <td>513910x1814x1</td>\n",
       "      <td>513910</td>\n",
       "      <td>7f010765ce336d2be78c846844544e6a06ce2c59e7785f...</td>\n",
       "      <td>bc1qzh9xrpqvyse7fuanc8tl5e75qymq5fzk3deh78hs02...</td>\n",
       "      <td>NaN</td>\n",
       "      <td>None</td>\n",
       "      <td>02ad6fb8d693dc1e4569bcedefadf5f72a931ae027dc0f...</td>\n",
       "      <td>03fab7f8655169ea77d9691d4bd359e97782cb6177a6f7...</td>\n",
       "      <td>20000</td>\n",
       "      <td>2020-02-14 03:15:26</td>\n",
       "      <td>1521272338</td>\n",
       "      <td>153</td>\n",
       "      <td>NaN</td>\n",
       "      <td>NaN</td>\n",
       "      <td>1.581466e+09</td>\n",
       "      <td>None</td>\n",
       "      <td>NaN</td>\n",
       "      <td>NaN</td>\n",
       "      <td>NaN</td>\n",
       "    </tr>\n",
       "  </tbody>\n",
       "</table>\n",
       "</div>"
      ],
      "text/plain": [
       "  short_channel_id  open_block  \\\n",
       "0     505149x622x0      505149   \n",
       "1    513675x2245x0      513675   \n",
       "2    513887x1177x0      513887   \n",
       "3    513909x1248x0      513909   \n",
       "4    513910x1814x1      513910   \n",
       "\n",
       "                                    open_transaction  \\\n",
       "0  f6bc767df9148ebf76d2b9baf4eb46e3230712c2bf5a51...   \n",
       "1  4297b5fe9beeb701c67fd0f84861b22edbcafe5c25be67...   \n",
       "2  3b4cc434e62c1739e79171c7c1641bf9ac0e32d8530c68...   \n",
       "3  86311514680351b1e644276efd7704ba13be169cc1a272...   \n",
       "4  7f010765ce336d2be78c846844544e6a06ce2c59e7785f...   \n",
       "\n",
       "                                             address  close_block  \\\n",
       "0  bc1qjmg6ev344fenh3zhg0yjl6hyvxpxluw6x9nn2a5lv4...     592638.0   \n",
       "1  bc1qymmdt0vzhdjqyqw2cevrqppp6rrlg5j2l20yk72z6y...     594718.0   \n",
       "2  bc1q48l3h7sfdjaqat3sy98naltkwlujwefwnkfqxfm8fd...          NaN   \n",
       "3  bc1q24kvd9wdjdhwgr54fmu7cu9xldmsjuwdsq2ph5fwnj...          NaN   \n",
       "4  bc1qzh9xrpqvyse7fuanc8tl5e75qymq5fzk3deh78hs02...          NaN   \n",
       "\n",
       "                                   close_transaction  \\\n",
       "0  82cb2ea2a06c8c453d8b9ca08e17bbefe87225aa380b2d...   \n",
       "1  3f86d9427c750f37a963b5a329da8941520f5a6cdbfe02...   \n",
       "2                                               None   \n",
       "3                                               None   \n",
       "4                                               None   \n",
       "\n",
       "                                               node0  \\\n",
       "0  0250373555232cec757ea141273e75381c84cc3ab22f1e...   \n",
       "1  028aa5a991a2acf33da91674fe062219b640e5e57d77a4...   \n",
       "2  02d97e94cfeedca2a3da47acb400bc6836e671b3cb3fc0...   \n",
       "3  02ad6fb8d693dc1e4569bcedefadf5f72a931ae027dc0f...   \n",
       "4  02ad6fb8d693dc1e4569bcedefadf5f72a931ae027dc0f...   \n",
       "\n",
       "                                               node1  satoshis  \\\n",
       "0  02ef61a252f9504a42fc264a28476f44cea0711a44b2da...    300000   \n",
       "1  03fab7f8655169ea77d9691d4bd359e97782cb6177a6f7...     50000   \n",
       "2  03fab7f8655169ea77d9691d4bd359e97782cb6177a6f7...     50000   \n",
       "3  03fab7f8655169ea77d9691d4bd359e97782cb6177a6f7...     20000   \n",
       "4  03fab7f8655169ea77d9691d4bd359e97782cb6177a6f7...     20000   \n",
       "\n",
       "             last_seen   open_time  open_fee    close_time  close_fee  \\\n",
       "0  2019-08-22 02:49:00  1516441417     40748  1.567276e+09      184.0   \n",
       "1  2019-10-07 02:42:58  1521144238       306  1.568401e+09     4410.0   \n",
       "2  2020-02-14 03:15:22  1521262476       442           NaN        NaN   \n",
       "3  2020-02-14 03:15:26  1521271023       306           NaN        NaN   \n",
       "4  2020-02-14 03:15:26  1521272338       153           NaN        NaN   \n",
       "\n",
       "    last_update close_type  close_htlc_count  close_balance_a  close_balance_b  \n",
       "0  1.563172e+09     mutual               0.0           3570.0         296246.0  \n",
       "1  1.552879e+09     unused               0.0          45590.0              0.0  \n",
       "2  1.581536e+09       None               NaN              NaN              NaN  \n",
       "3  1.581464e+09       None               NaN              NaN              NaN  \n",
       "4  1.581466e+09       None               NaN              NaN              NaN  "
      ]
     },
     "execution_count": 3,
     "metadata": {},
     "output_type": "execute_result"
    }
   ],
   "source": [
    "df.head()"
   ]
  },
  {
   "cell_type": "code",
   "execution_count": 4,
   "metadata": {},
   "outputs": [
    {
     "data": {
      "text/html": [
       "<div>\n",
       "<style scoped>\n",
       "    .dataframe tbody tr th:only-of-type {\n",
       "        vertical-align: middle;\n",
       "    }\n",
       "\n",
       "    .dataframe tbody tr th {\n",
       "        vertical-align: top;\n",
       "    }\n",
       "\n",
       "    .dataframe thead th {\n",
       "        text-align: right;\n",
       "    }\n",
       "</style>\n",
       "<table border=\"1\" class=\"dataframe\">\n",
       "  <thead>\n",
       "    <tr style=\"text-align: right;\">\n",
       "      <th></th>\n",
       "      <th>open_block</th>\n",
       "      <th>close_block</th>\n",
       "      <th>satoshis</th>\n",
       "      <th>open_time</th>\n",
       "      <th>open_fee</th>\n",
       "      <th>close_time</th>\n",
       "      <th>close_fee</th>\n",
       "      <th>last_update</th>\n",
       "      <th>close_htlc_count</th>\n",
       "      <th>close_balance_a</th>\n",
       "      <th>close_balance_b</th>\n",
       "    </tr>\n",
       "  </thead>\n",
       "  <tbody>\n",
       "    <tr>\n",
       "      <th>count</th>\n",
       "      <td>72476.000000</td>\n",
       "      <td>38355.000000</td>\n",
       "      <td>7.247600e+04</td>\n",
       "      <td>7.247600e+04</td>\n",
       "      <td>72476.000000</td>\n",
       "      <td>3.835500e+04</td>\n",
       "      <td>38355.000000</td>\n",
       "      <td>5.552000e+04</td>\n",
       "      <td>36822.000000</td>\n",
       "      <td>3.682200e+04</td>\n",
       "      <td>3.682200e+04</td>\n",
       "    </tr>\n",
       "    <tr>\n",
       "      <th>mean</th>\n",
       "      <td>579183.075335</td>\n",
       "      <td>595606.637622</td>\n",
       "      <td>2.668396e+06</td>\n",
       "      <td>1.559505e+09</td>\n",
       "      <td>5514.790703</td>\n",
       "      <td>1.569033e+09</td>\n",
       "      <td>6479.540712</td>\n",
       "      <td>1.577627e+09</td>\n",
       "      <td>0.030199</td>\n",
       "      <td>1.554857e+06</td>\n",
       "      <td>6.759577e+05</td>\n",
       "    </tr>\n",
       "    <tr>\n",
       "      <th>std</th>\n",
       "      <td>21053.963141</td>\n",
       "      <td>11761.861535</td>\n",
       "      <td>5.473030e+06</td>\n",
       "      <td>1.226237e+07</td>\n",
       "      <td>10789.996329</td>\n",
       "      <td>6.794199e+06</td>\n",
       "      <td>7392.241919</td>\n",
       "      <td>5.578798e+06</td>\n",
       "      <td>0.389022</td>\n",
       "      <td>3.312313e+06</td>\n",
       "      <td>2.720192e+06</td>\n",
       "    </tr>\n",
       "    <tr>\n",
       "      <th>min</th>\n",
       "      <td>505149.000000</td>\n",
       "      <td>535029.000000</td>\n",
       "      <td>1.050000e+03</td>\n",
       "      <td>1.516441e+09</td>\n",
       "      <td>122.000000</td>\n",
       "      <td>1.533314e+09</td>\n",
       "      <td>36.000000</td>\n",
       "      <td>1.524248e+09</td>\n",
       "      <td>0.000000</td>\n",
       "      <td>0.000000e+00</td>\n",
       "      <td>0.000000e+00</td>\n",
       "    </tr>\n",
       "    <tr>\n",
       "      <th>25%</th>\n",
       "      <td>565486.500000</td>\n",
       "      <td>585438.000000</td>\n",
       "      <td>1.500000e+05</td>\n",
       "      <td>1.551621e+09</td>\n",
       "      <td>458.000000</td>\n",
       "      <td>1.563151e+09</td>\n",
       "      <td>1760.000000</td>\n",
       "      <td>1.574088e+09</td>\n",
       "      <td>0.000000</td>\n",
       "      <td>5.300775e+04</td>\n",
       "      <td>0.000000e+00</td>\n",
       "    </tr>\n",
       "    <tr>\n",
       "      <th>50%</th>\n",
       "      <td>575981.000000</td>\n",
       "      <td>594220.000000</td>\n",
       "      <td>5.778270e+05</td>\n",
       "      <td>1.557823e+09</td>\n",
       "      <td>2652.000000</td>\n",
       "      <td>1.568142e+09</td>\n",
       "      <td>3647.000000</td>\n",
       "      <td>1.581101e+09</td>\n",
       "      <td>0.000000</td>\n",
       "      <td>2.356620e+05</td>\n",
       "      <td>0.000000e+00</td>\n",
       "    </tr>\n",
       "    <tr>\n",
       "      <th>75%</th>\n",
       "      <td>595671.250000</td>\n",
       "      <td>605251.500000</td>\n",
       "      <td>2.600000e+06</td>\n",
       "      <td>1.568933e+09</td>\n",
       "      <td>6260.000000</td>\n",
       "      <td>1.574627e+09</td>\n",
       "      <td>9102.500000</td>\n",
       "      <td>1.581447e+09</td>\n",
       "      <td>0.000000</td>\n",
       "      <td>9.978100e+05</td>\n",
       "      <td>5.559375e+04</td>\n",
       "    </tr>\n",
       "    <tr>\n",
       "      <th>max</th>\n",
       "      <td>617297.000000</td>\n",
       "      <td>617298.000000</td>\n",
       "      <td>2.684355e+08</td>\n",
       "      <td>1.581648e+09</td>\n",
       "      <td>663000.000000</td>\n",
       "      <td>1.581649e+09</td>\n",
       "      <td>201395.000000</td>\n",
       "      <td>1.581650e+09</td>\n",
       "      <td>51.000000</td>\n",
       "      <td>1.309727e+08</td>\n",
       "      <td>1.669281e+08</td>\n",
       "    </tr>\n",
       "  </tbody>\n",
       "</table>\n",
       "</div>"
      ],
      "text/plain": [
       "          open_block    close_block      satoshis     open_time  \\\n",
       "count   72476.000000   38355.000000  7.247600e+04  7.247600e+04   \n",
       "mean   579183.075335  595606.637622  2.668396e+06  1.559505e+09   \n",
       "std     21053.963141   11761.861535  5.473030e+06  1.226237e+07   \n",
       "min    505149.000000  535029.000000  1.050000e+03  1.516441e+09   \n",
       "25%    565486.500000  585438.000000  1.500000e+05  1.551621e+09   \n",
       "50%    575981.000000  594220.000000  5.778270e+05  1.557823e+09   \n",
       "75%    595671.250000  605251.500000  2.600000e+06  1.568933e+09   \n",
       "max    617297.000000  617298.000000  2.684355e+08  1.581648e+09   \n",
       "\n",
       "            open_fee    close_time      close_fee   last_update  \\\n",
       "count   72476.000000  3.835500e+04   38355.000000  5.552000e+04   \n",
       "mean     5514.790703  1.569033e+09    6479.540712  1.577627e+09   \n",
       "std     10789.996329  6.794199e+06    7392.241919  5.578798e+06   \n",
       "min       122.000000  1.533314e+09      36.000000  1.524248e+09   \n",
       "25%       458.000000  1.563151e+09    1760.000000  1.574088e+09   \n",
       "50%      2652.000000  1.568142e+09    3647.000000  1.581101e+09   \n",
       "75%      6260.000000  1.574627e+09    9102.500000  1.581447e+09   \n",
       "max    663000.000000  1.581649e+09  201395.000000  1.581650e+09   \n",
       "\n",
       "       close_htlc_count  close_balance_a  close_balance_b  \n",
       "count      36822.000000     3.682200e+04     3.682200e+04  \n",
       "mean           0.030199     1.554857e+06     6.759577e+05  \n",
       "std            0.389022     3.312313e+06     2.720192e+06  \n",
       "min            0.000000     0.000000e+00     0.000000e+00  \n",
       "25%            0.000000     5.300775e+04     0.000000e+00  \n",
       "50%            0.000000     2.356620e+05     0.000000e+00  \n",
       "75%            0.000000     9.978100e+05     5.559375e+04  \n",
       "max           51.000000     1.309727e+08     1.669281e+08  "
      ]
     },
     "execution_count": 4,
     "metadata": {},
     "output_type": "execute_result"
    }
   ],
   "source": [
    "df.describe()"
   ]
  },
  {
   "cell_type": "markdown",
   "metadata": {},
   "source": [
    "## General descriptive data"
   ]
  },
  {
   "cell_type": "code",
   "execution_count": 5,
   "metadata": {},
   "outputs": [
    {
     "name": "stdout",
     "output_type": "stream",
     "text": [
      "Data from beggining of LN creation  2018-01-20 01:43:37 (block: 505149) to 2020-02-13 19:00:19 (block: 617298)\n"
     ]
    }
   ],
   "source": [
    "# Range covered by Data\n",
    "\n",
    "# Calculate block range\n",
    "start_block=min(df['open_block'])\n",
    "end_block=max(df['close_block'])\n",
    "\n",
    "# Calculate date range\n",
    "start_time=time.strftime('%Y-%m-%d %H:%M:%S', time.localtime(min(df['open_time'])))\n",
    "end_time=time.strftime('%Y-%m-%d %H:%M:%S', time.localtime(max([max(df['close_time']),max(df['open_time'])])))\n",
    "\n",
    "\n",
    "print('Data from beggining of LN creation  {} (block: {}) to {} (block: {})'.format(start_time,start_block,end_time,int(end_block)))\n"
   ]
  },
  {
   "cell_type": "code",
   "execution_count": 4,
   "metadata": {
    "collapsed": true
   },
   "outputs": [],
   "source": [
    "# TODO: Add Eva's general descriptive analysis here"
   ]
  },
  {
   "cell_type": "markdown",
   "metadata": {},
   "source": [
    "## Block-per-Block network activity"
   ]
  },
  {
   "cell_type": "code",
   "execution_count": 7,
   "metadata": {},
   "outputs": [
    {
     "name": "stdout",
     "output_type": "stream",
     "text": [
      "Total blocks that have been mined in the analysis period: 112149\n",
      "Number of blocks where channels have been opened: 30543\n",
      "Number of blocks where channels have been closed: 11024\n",
      "Total blocks with activity (opening or closing of channels): 36544\n"
     ]
    }
   ],
   "source": [
    "# Blocks with activity\n",
    "\n",
    "open_blocks=set(df['open_block'])\n",
    "close_blocks=set(np.nan_to_num(df['close_block'].to_numpy()))\n",
    "active_blocks=open_blocks.union(close_blocks)\n",
    "\n",
    "print('Total blocks that have been mined in the analysis period: {}'.format(int(end_block)-start_block))\n",
    "print('Number of blocks where channels have been opened: {}'.format(len(open_blocks)))\n",
    "print('Number of blocks where channels have been closed: {}'.format(len(close_blocks)))\n",
    "print('Total blocks with activity (opening or closing of channels): {}'.format(len(active_blocks)))\n",
    "\n"
   ]
  },
  {
   "cell_type": "code",
   "execution_count": 176,
   "metadata": {
    "scrolled": false
   },
   "outputs": [
    {
     "data": {
      "text/plain": [
       "<matplotlib.legend.Legend at 0x1271611d0>"
      ]
     },
     "execution_count": 176,
     "metadata": {},
     "output_type": "execute_result"
    },
    {
     "data": {
      "image/png": "[encoded data removed]",
      "text/plain": [
       "<Figure size 720x720 with 1 Axes>"
      ]
     },
     "metadata": {
      "needs_background": "light"
     },
     "output_type": "display_data"
    }
   ],
   "source": [
    "# Distribution of Block activity\n",
    "ob_values, ob_counts = np.unique(np.array(list(df['open_block'])), return_counts=True)\n",
    "cb_values, cb_counts = np.unique(np.array(list(df['close_block'])), return_counts=True)\n",
    "ab_values, ab_counts = np.unique(np.array(list(df['open_block'])+list(df['close_block'])), return_counts=True)\n",
    "\n",
    "\n",
    "fig,ax=plt.subplots(figsize=(10,10))\n",
    "fig.suptitle('Distribution of blocks by activity')\n",
    "plt.yscale('log', nonposy='clip')\n",
    "plt.xlabel('Channel activity')\n",
    "plt.ylabel('log(Frequency)')\n",
    "_=plt.hist([ob_counts,cb_counts,ab_counts],bins=50,label=['channel openings','channel closures','channel openings and closures'])\n",
    "plt.legend(loc='upper right')"
   ]
  },
  {
   "cell_type": "code",
   "execution_count": 177,
   "metadata": {},
   "outputs": [
    {
     "data": {
      "image/png": "[encoded data removed]",
      "text/plain": [
       "<Figure size 720x720 with 1 Axes>"
      ]
     },
     "metadata": {
      "needs_background": "light"
     },
     "output_type": "display_data"
    }
   ],
   "source": [
    "# Number of link opening or closings per block (log scale)\n",
    "fig,ax=plt.subplots(figsize=(10,10))\n",
    "fig.suptitle('Total channel activity (openings or closures) per block')\n",
    "plt.yscale('log', nonposy='clip')\n",
    "plt.xlabel('Block no.')\n",
    "plt.ylabel('Log(No. channels opened or closed)')\n",
    "_=plt.scatter(ab_values,ab_counts,alpha=0.1)"
   ]
  },
  {
   "cell_type": "code",
   "execution_count": null,
   "metadata": {
    "collapsed": true
   },
   "outputs": [],
   "source": [
    "# TODO: Net capacity change per block"
   ]
  },
  {
   "cell_type": "code",
   "execution_count": null,
   "metadata": {
    "collapsed": true
   },
   "outputs": [],
   "source": [
    "# TODO: Nodes making changes per block"
   ]
  },
  {
   "cell_type": "code",
   "execution_count": null,
   "metadata": {
    "collapsed": true
   },
   "outputs": [],
   "source": [
    "# TODO: Opening and Closing fees (and averages) per block"
   ]
  },
  {
   "cell_type": "code",
   "execution_count": null,
   "metadata": {
    "collapsed": true
   },
   "outputs": [],
   "source": [
    "# TODO: Analysis of outliers (Blocks with activity > 200)"
   ]
  },
  {
   "cell_type": "markdown",
   "metadata": {},
   "source": [
    "## Redundancy (PEND) "
   ]
  },
  {
   "cell_type": "code",
   "execution_count": null,
   "metadata": {},
   "outputs": [],
   "source": [
    "#----MIGHT NOT BE NECESSARY----\n",
    "# The df_open needs to be defined and or the analysis for redundancy on every snapshot. (How to deal with redundancy)\n",
    "# Redundant one way channels\n",
    "edges_zip_1=zip(df_open['node0'],df_open['node1'])\n",
    "edge_prod=[a+b for a,b in edges_zip_1]\n",
    "\n",
    "values, counts = np.unique(edge_prod, return_counts=True)\n",
    "\n",
    "#plt.hist(counts,bins=[0, 1, 2, 3, 4, 5, 6,7,8,9,10])\n",
    "\n",
    "edges_redun=counts[np.where(counts>1)]\n",
    "\n",
    "print(len(edges_redun))\n",
    "plt.yscale('log', nonposy='clip')\n",
    "_=plt.hist(edges_redun,bins=max(counts))"
   ]
  },
  {
   "cell_type": "code",
   "execution_count": null,
   "metadata": {},
   "outputs": [],
   "source": [
    "# Redundant bi-directional channels\n",
    "\n",
    "# Hashing node id's and multiply them together to have the same channel representation in both directions \n",
    "edge_hash_0=np.array([hash(a) for a in df_open['node0']])\n",
    "edge_hash_1=np.array([hash(a) for a in df_open['node1']])\n",
    "edge_hash=np.multiply(edge_hash_0,edge_hash_1) # There is overflow in this multiplication but it doesn't matter for the purpose of comparisson\n",
    "\n",
    "# Count\n",
    "values, counts = np.unique(edge_hash, return_counts=True)\n",
    "edges_redun_h=counts[np.where(counts>1)]\n",
    "print(len(edges_redun_h))"
   ]
  }
 ],
 "metadata": {
  "anaconda-cloud": {},
  "kernelspec": {
   "display_name": "graphanalysis",
   "language": "python",
   "name": "graphanalysis"
  },
  "language_info": {
   "codemirror_mode": {
    "name": "ipython",
    "version": 3
   },
   "file_extension": ".py",
   "mimetype": "text/x-python",
   "name": "python",
   "nbconvert_exporter": "python",
   "pygments_lexer": "ipython3",
   "version": "3.6.7"
  }
 },
 "nbformat": 4,
 "nbformat_minor": 2
}
