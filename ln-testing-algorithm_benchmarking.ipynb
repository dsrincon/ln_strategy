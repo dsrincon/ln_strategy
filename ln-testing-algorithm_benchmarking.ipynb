{
 "cells": [
  {
   "cell_type": "markdown",
   "metadata": {},
   "source": [
    "# LN - Testing - Algorithm benchmarking"
   ]
  },
  {
   "cell_type": "code",
   "execution_count": 1,
   "metadata": {},
   "outputs": [],
   "source": [
    "import sqlite3\n",
    "import numpy as np\n",
    "import pandas as pd\n",
    "import networkx as nx\n",
    "import itertools\n",
    "#import matplotlib.pyplot as plt\n",
    "import time\n",
    "import pickle"
   ]
  },
  {
   "cell_type": "code",
   "execution_count": 79,
   "metadata": {},
   "outputs": [],
   "source": [
    "#g=nx.generators.classic.cycle_graph(5)\n",
    "g=nx.Graph()"
   ]
  },
  {
   "cell_type": "code",
   "execution_count": 80,
   "metadata": {},
   "outputs": [
    {
     "data": {
      "text/plain": [
       "EdgeView([(0, 1), (1, 4), (1, 5), (4, 2), (5, 2), (2, 3)])"
      ]
     },
     "execution_count": 80,
     "metadata": {},
     "output_type": "execute_result"
    }
   ],
   "source": [
    "\n",
    "#g.add_edge(4,5)\n",
    "#g.add_edge(0,5)\n",
    "g.add_edges_from([(0, 1), (1, 4), (1,5), (4, 2),(5,2),(2,3)])\n",
    "g.edges"
   ]
  },
  {
   "cell_type": "code",
   "execution_count": 81,
   "metadata": {},
   "outputs": [
    {
     "data": {
      "text/plain": [
       "{0: 1.3322676295501878e-16,\n",
       " 1: 0.5499999999999999,\n",
       " 4: 0.29999999999999993,\n",
       " 5: 0.3,\n",
       " 2: 0.5499999999999998,\n",
       " 3: 8.881784197001253e-17}"
      ]
     },
     "execution_count": 81,
     "metadata": {},
     "output_type": "execute_result"
    }
   ],
   "source": [
    "nx.algorithms.centrality.current_flow_betweenness_centrality(g)"
   ]
  },
  {
   "cell_type": "code",
   "execution_count": 82,
   "metadata": {},
   "outputs": [
    {
     "data": {
      "text/plain": [
       "{0: 0.0, 1: 0.45, 4: 0.2, 5: 0.2, 2: 0.45, 3: 0.0}"
      ]
     },
     "execution_count": 82,
     "metadata": {},
     "output_type": "execute_result"
    }
   ],
   "source": [
    "nx.algorithms.centrality.betweenness_centrality(g)"
   ]
  },
  {
   "cell_type": "code",
   "execution_count": 83,
   "metadata": {},
   "outputs": [],
   "source": [
    "edge_weights_high={(0, 1):1, (1, 4):100, (1,5):1, (4, 2):100,(5,2):1,(2,3):1}\n",
    "edge_weights_low={(0, 1):1, (1, 4):0.01, (1,5):1, (4, 2):0.001,(5,2):1,(2,3):1}\n",
    "#edge_weights_high={(0, 1):1, (0, 2):1, (0, 3):1, (0, 4):1, (4, 5):1000,(0,5):1}\n",
    "#edge_weights_low={(0, 1):1, (0, 2):1, (0, 3):1, (0, 4):1, (4, 5):0.1,(0,5):1}"
   ]
  },
  {
   "cell_type": "code",
   "execution_count": 24,
   "metadata": {},
   "outputs": [
    {
     "name": "stdout",
     "output_type": "stream",
     "text": [
      "{(0, 1): 0.3333333333333333, (0, 2): 0.3333333333333333, (0, 3): 0.3333333333333333, (0, 4): 0.5333333333333333, (4, 5): 0.3333333333333333}\n"
     ]
    }
   ],
   "source": [
    "bb = nx.edge_betweenness_centrality(g, normalized=True)\n",
    "print(bb)"
   ]
  },
  {
   "cell_type": "code",
   "execution_count": 87,
   "metadata": {},
   "outputs": [
    {
     "name": "stdout",
     "output_type": "stream",
     "text": [
      "{0: 1.3322676295501878e-16, 1: 0.5499999999999999, 4: 0.29999999999999993, 5: 0.3, 2: 0.5499999999999998, 3: 8.881784197001253e-17}\n",
      "{0: 2.220446049250313e-16, 1: 0.5499999999999948, 4: 0.5940594059405967, 5: 0.005940594059405857, 2: 0.550000000000011, 3: 8.881784197001253e-17}\n",
      "{0: 8.881784197001253e-17, 1: 0.6725045372050817, 4: 0.0010889292196007538, 5: 0.5989110707803991, 2: 0.42749546279491835, 3: 8.881784197001253e-17}\n"
     ]
    }
   ],
   "source": [
    "bet_cent=nx.algorithms.centrality.current_flow_betweenness_centrality(g)\n",
    "\n",
    "g_high=g.copy()\n",
    "g_low=g.copy()\n",
    "nx.classes.function.set_edge_attributes(g_high, edge_weights_high, 'capacity')\n",
    "nx.classes.function.set_edge_attributes(g_low, edge_weights_low, 'capacity')\n",
    "\n",
    "#print(g_high.edges[0,1]['capacity'])\n",
    "\n",
    "\n",
    "bet_cent=nx.algorithms.centrality.current_flow_betweenness_centrality(g,normalized=True)\n",
    "bet_cent_high=nx.algorithms.centrality.current_flow_betweenness_centrality(g_high,weight='capacity',normalized=True)\n",
    "bet_cent_low=nx.algorithms.centrality.current_flow_betweenness_centrality(g_low,weight='capacity',normalized=True)\n",
    "\n",
    "print(bet_cent)\n",
    "print(bet_cent_high)\n",
    "print(bet_cent_low)\n"
   ]
  },
  {
   "cell_type": "markdown",
   "metadata": {},
   "source": [
    "The higher the current centrality "
   ]
  },
  {
   "cell_type": "code",
   "execution_count": 90,
   "metadata": {},
   "outputs": [
    {
     "name": "stdout",
     "output_type": "stream",
     "text": [
      "{0: 0.10526315789473684, 1: 0.18181818181818182, 4: 0.16666666666666666, 5: 0.16666666666666666, 2: 0.18181818181818182, 3: 0.10526315789473684}\n",
      "{0: 0.15256682351341858, 1: 0.391465281680589, 4: 0.3929578834743715, 5: 0.22100414656294837, 2: 0.39146528168058886, 3: 0.15256682351341777}\n",
      "{0: 0.009811865055692573, 1: 0.010212687085862565, 4: 0.0021705517968111407, 5: 0.010231271295806295, 2: 0.010045121006335173, 3: 0.009657094283736296}\n"
     ]
    }
   ],
   "source": [
    "clo_cent=nx.algorithms.centrality.current_flow_closeness_centrality(g)\n",
    "clo_cent_high=nx.algorithms.centrality.current_flow_closeness_centrality(g_high,weight='capacity')\n",
    "clo_cent_low=nx.algorithms.centrality.current_flow_closeness_centrality(g_low,weight='capacity')\n",
    "\n",
    "print(clo_cent)\n",
    "print(clo_cent_high)\n",
    "print(clo_cent_low)"
   ]
  },
  {
   "cell_type": "code",
   "execution_count": null,
   "metadata": {},
   "outputs": [],
   "source": [
    "# Max block exported\n",
    "blocks_analyzed=np.array(list(graph_snapshots.keys()))\n",
    "max_block=np.max(blocks_analyzed)\n",
    "min_block=np.min(blocks_analyzed)\n",
    "\n",
    "print('Min Block:{}'.format(np.min(blocks_analyzed)))\n",
    "print('Max Block:{}'.format(np.max(blocks_analyzed)))"
   ]
  },
  {
   "cell_type": "code",
   "execution_count": null,
   "metadata": {},
   "outputs": [],
   "source": [
    "#Benchamark different calculations of betweeness centrality\n",
    "\n",
    "# Shortest Path Betweenness - UNWEIGHTED\n",
    "start=time.time()\n",
    "bet_cent=nx.algorithms.centrality.betweenness_centrality(graph_snapshots[max_block])\n",
    "end=time.time()\n",
    "bet_cent_time=end-start\n",
    "\n",
    "print(\"Time elapsed calculating betweeness centrality (UNWEIGHTED Shortest Path): {}\".format(bet_cent_time))\n",
    "\n",
    "# Shortest Path Betweenness - WEIGHTED\n",
    "start=time.time()\n",
    "bet_centw=nx.algorithms.centrality.betweenness_centrality(graph_snapshots[max_block],weight='capacity')\n",
    "end=time.time()\n",
    "bet_centw_time=end-start\n",
    "print(\"Time elapsed calculating betweeness centrality (WEIGHTED Shortest Path): {}\".format(bet_centw_time))\n",
    "\n",
    "# Current Betweenness - UNWEIGHTED\n",
    "start=time.time()\n",
    "curr_cent=nx.algorithms.centrality.current_flow_betweenness_centrality(graph_snapshots[max_block])\n",
    "end=time.time()\n",
    "curr_cent_time=end-start\n",
    "print(\"Time elapsed calculating betweeness centrality (UNWEIGHTED Current): {}\".format(curr_cent_time))\n",
    "\n",
    "# Current Betweenness - WEIGHTED\n",
    "start=time.time()\n",
    "curr_centw=nx.algorithms.centrality.current_flow_betweenness_centrality(graph_snapshots[max_block],weight='capacity')\n",
    "end=time.time()\n",
    "curr_centw_time=end-start\n",
    "print(\"Time elapsed calculating betweeness centrality (WEIGHTED Current): {}\".format(curr_centw_time))\n",
    "\n",
    "# Current Betweenness APROX - WEIGHTED\n",
    "start=time.time()\n",
    "curr_centw_approx=nx.algorithms.centrality.approximate_current_flow_betweenness_centrality(graph_snapshots[max_block],weight='capacity')\n",
    "end=time.time()\n",
    "curr_centw_aprox_time=end-start\n",
    "print(\"Time elapsed calculating betweeness centrality (Aprox WEIGHTED Current): {}\".format(curr_centw_aprox_time))\n"
   ]
  },
  {
   "cell_type": "code",
   "execution_count": null,
   "metadata": {},
   "outputs": [],
   "source": [
    "# Measuring error in aproximate current betweenness calculation\n",
    "curr_centw_values=np.array([curr_centw[k] for k in sorted(curr_centw.keys())])\n",
    "curr_centwapprox_values=np.array([curr_centw_approx[k] for k in sorted(curr_centw_approx.keys())])\n",
    "\n",
    "error=(curr_centw_values-curr_centwapprox_values)\n",
    "distance=np.linalg.norm(curr_centw_values-curr_centwapprox_values)\n",
    "\n",
    "\n",
    "# Graph\n",
    "#fig,ax=plt.subplots(figsize=(13,13))\n",
    "#plt.plot(sorted(curr_centw.keys()), error)\n",
    "#plt.plot(sorted(curr_centw.keys()), curr_centw_values)\n",
    "#plt.legend(['error', 'original'], loc='upper left')\n",
    "#plt.show()\n",
    "\n",
    "# Estimate absolute area of real values and compare to area of error under estimation\n",
    "abs_integral_values=np.absolute(np.sum(curr_centw_values))\n",
    "abs_integral_error=np.absolute(np.sum(error))\n",
    "print('%Error (absolute error area/absolute value area): {}'.format(abs_integral_error*100/abs_integral_values))\n",
    "print('Euclidean distance:{}'.format(distance))"
   ]
  }
 ],
 "metadata": {
  "kernelspec": {
   "display_name": "Python 3",
   "language": "python",
   "name": "python3"
  },
  "language_info": {
   "codemirror_mode": {
    "name": "ipython",
    "version": 3
   },
   "file_extension": ".py",
   "mimetype": "text/x-python",
   "name": "python",
   "nbconvert_exporter": "python",
   "pygments_lexer": "ipython3",
   "version": "3.7.3"
  }
 },
 "nbformat": 4,
 "nbformat_minor": 4
}
