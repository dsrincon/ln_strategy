{
 "cells": [
  {
   "cell_type": "markdown",
   "metadata": {},
   "source": [
    "# LN - Testing - Algorithm benchmarking"
   ]
  },
  {
   "cell_type": "code",
   "execution_count": null,
   "metadata": {},
   "outputs": [],
   "source": [
    "# Max block exported\n",
    "blocks_analyzed=np.array(list(graph_snapshots.keys()))\n",
    "max_block=np.max(blocks_analyzed)\n",
    "min_block=np.min(blocks_analyzed)\n",
    "\n",
    "print('Min Block:{}'.format(np.min(blocks_analyzed)))\n",
    "print('Max Block:{}'.format(np.max(blocks_analyzed)))"
   ]
  },
  {
   "cell_type": "code",
   "execution_count": null,
   "metadata": {},
   "outputs": [],
   "source": [
    "#Benchamark different calculations of betweeness centrality\n",
    "\n",
    "# Shortest Path Betweenness - UNWEIGHTED\n",
    "start=time.time()\n",
    "bet_cent=nx.algorithms.centrality.betweenness_centrality(graph_snapshots[max_block])\n",
    "end=time.time()\n",
    "bet_cent_time=end-start\n",
    "\n",
    "print(\"Time elapsed calculating betweeness centrality (UNWEIGHTED Shortest Path): {}\".format(bet_cent_time))\n",
    "\n",
    "# Shortest Path Betweenness - WEIGHTED\n",
    "start=time.time()\n",
    "bet_centw=nx.algorithms.centrality.betweenness_centrality(graph_snapshots[max_block],weight='capacity')\n",
    "end=time.time()\n",
    "bet_centw_time=end-start\n",
    "print(\"Time elapsed calculating betweeness centrality (WEIGHTED Shortest Path): {}\".format(bet_centw_time))\n",
    "\n",
    "# Current Betweenness - UNWEIGHTED\n",
    "start=time.time()\n",
    "curr_cent=nx.algorithms.centrality.current_flow_betweenness_centrality(graph_snapshots[max_block])\n",
    "end=time.time()\n",
    "curr_cent_time=end-start\n",
    "print(\"Time elapsed calculating betweeness centrality (UNWEIGHTED Current): {}\".format(curr_cent_time))\n",
    "\n",
    "# Current Betweenness - WEIGHTED\n",
    "start=time.time()\n",
    "curr_centw=nx.algorithms.centrality.current_flow_betweenness_centrality(graph_snapshots[max_block],weight='capacity')\n",
    "end=time.time()\n",
    "curr_centw_time=end-start\n",
    "print(\"Time elapsed calculating betweeness centrality (WEIGHTED Current): {}\".format(curr_centw_time))\n",
    "\n",
    "# Current Betweenness APROX - WEIGHTED\n",
    "start=time.time()\n",
    "curr_centw_approx=nx.algorithms.centrality.approximate_current_flow_betweenness_centrality(graph_snapshots[max_block],weight='capacity')\n",
    "end=time.time()\n",
    "curr_centw_aprox_time=end-start\n",
    "print(\"Time elapsed calculating betweeness centrality (Aprox WEIGHTED Current): {}\".format(curr_centw_aprox_time))\n"
   ]
  },
  {
   "cell_type": "code",
   "execution_count": null,
   "metadata": {},
   "outputs": [],
   "source": [
    "# Measuring error in aproximate current betweenness calculation\n",
    "curr_centw_values=np.array([curr_centw[k] for k in sorted(curr_centw.keys())])\n",
    "curr_centwapprox_values=np.array([curr_centw_approx[k] for k in sorted(curr_centw_approx.keys())])\n",
    "\n",
    "error=(curr_centw_values-curr_centwapprox_values)\n",
    "distance=np.linalg.norm(curr_centw_values-curr_centwapprox_values)\n",
    "\n",
    "\n",
    "# Graph\n",
    "#fig,ax=plt.subplots(figsize=(13,13))\n",
    "#plt.plot(sorted(curr_centw.keys()), error)\n",
    "#plt.plot(sorted(curr_centw.keys()), curr_centw_values)\n",
    "#plt.legend(['error', 'original'], loc='upper left')\n",
    "#plt.show()\n",
    "\n",
    "# Estimate absolute area of real values and compare to area of error under estimation\n",
    "abs_integral_values=np.absolute(np.sum(curr_centw_values))\n",
    "abs_integral_error=np.absolute(np.sum(error))\n",
    "print('%Error (absolute error area/absolute value area): {}'.format(abs_integral_error*100/abs_integral_values))\n",
    "print('Euclidean distance:{}'.format(distance))"
   ]
  }
 ],
 "metadata": {
  "kernelspec": {
   "display_name": "graphanalysis",
   "language": "python",
   "name": "graphanalysis"
  },
  "language_info": {
   "codemirror_mode": {
    "name": "ipython",
    "version": 3
   },
   "file_extension": ".py",
   "mimetype": "text/x-python",
   "name": "python",
   "nbconvert_exporter": "python",
   "pygments_lexer": "ipython3",
   "version": "3.6.7"
  }
 },
 "nbformat": 4,
 "nbformat_minor": 2
}
