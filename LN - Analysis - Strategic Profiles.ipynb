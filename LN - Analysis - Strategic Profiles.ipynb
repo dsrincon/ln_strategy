{
 "cells": [
  {
   "cell_type": "markdown",
   "metadata": {},
   "source": [
    "# LN - Analysis - Strategic Profiles"
   ]
  },
  {
   "cell_type": "markdown",
   "metadata": {},
   "source": [
    "## Dynamics of strategic behavior \n",
    "\n",
    "- Evolution of strategic intentions over time\n",
    "- Evolution of strategic outcomes over time: Pairwise and variations of Nash (binary strategy, disconnect strategy, connect/disconnect strategy) \n",
    "- Evolution of strategic roles: By number of nodes and capital staked"
   ]
  },
  {
   "cell_type": "markdown",
   "metadata": {},
   "source": [
    "## Characterization of strategic profiles \n",
    "\n",
    "Using the information above we can study the evolution of strategic intentions and outcomes and the distribution of strategic profiles over time \n",
    "\n",
    "\n",
    "- Distribution of entropies of strategic consistency: How much do individuals stick to one strategy over time. \n",
    ">"
   ]
  },
  {
   "cell_type": "code",
   "execution_count": null,
   "metadata": {},
   "outputs": [],
   "source": []
  }
 ],
 "metadata": {
  "kernelspec": {
   "display_name": "graphanalysis",
   "language": "python",
   "name": "graphanalysis"
  },
  "language_info": {
   "codemirror_mode": {
    "name": "ipython",
    "version": 3
   },
   "file_extension": ".py",
   "mimetype": "text/x-python",
   "name": "python",
   "nbconvert_exporter": "python",
   "pygments_lexer": "ipython3",
   "version": "3.6.7"
  }
 },
 "nbformat": 4,
 "nbformat_minor": 2
}
